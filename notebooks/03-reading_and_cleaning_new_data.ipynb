{
 "cells": [
  {
   "cell_type": "code",
   "execution_count": 1,
   "metadata": {},
   "outputs": [],
   "source": [
    "import pandas as pd\n",
    "import numpy as np"
   ]
  },
  {
   "cell_type": "code",
   "execution_count": 2,
   "metadata": {},
   "outputs": [],
   "source": [
    "country_names = ['Afghanistan','Aland Islands','Albania','Algeria','American Samoa','Andorra','Angola','Anguilla',\n",
    "                 'Antarctica','Antigua and Barbuda','Argentina','Armenia','Aruba','Australia','Austria','Azerbaijan',\n",
    "                 'Bahamas','Bahrain','Bangladesh','Barbados','Belarus','Belgium','Belize','Benin','Bermuda','Bhutan',\n",
    "                 'Bolivia','Bonaire, Saint Eustatius and Saba ','Bosnia and Herzegovina','Botswana','Bouvet Island',\n",
    "                 'Brazil','British Indian Ocean Territory','British Virgin Islands','Brunei','Bulgaria','Burkina Faso',\n",
    "                 'Burundi','Cambodia','Cameroon','Canada','Cape Verde','Cayman Islands','Central African Republic','Chad',\n",
    "                 'Chile','China','Christmas Island','Cocos Islands','Colombia','Comoros','Cook Islands','Costa Rica',\n",
    "                 'Croatia','Cuba','Curacao','Cyprus','Czech Republic','Democratic Republic of the Congo','Denmark',\n",
    "                 'Djibouti','Dominica','Dominican Republic','East Timor','Ecuador','Egypt','El Salvador','Equatorial Guinea',\n",
    "                 'Eritrea','Estonia','Ethiopia','Falkland Islands','Faroe Islands','Fiji','Finland','France','French Guiana',\n",
    "                 'French Polynesia','French Southern Territories','Gabon','Gambia','Georgia','Germany','Ghana','Gibraltar',\n",
    "                 'Greece','Greenland','Grenada','Guadeloupe','Guam','Guatemala','Guernsey','Guinea','Guinea-Bissau','Guyana',\n",
    "                 'Haiti','Heard Island and McDonald Islands','Honduras','Hong Kong','Hungary','Iceland','India','Indonesia',\n",
    "                 'Iran','Iraq','Ireland','Isle of Man','Israel','Italy','Ivory Coast','Jamaica','Japan','Jersey','Jordan',\n",
    "                 'Kazakhstan','Kenya','Kiribati','Kosovo','Kuwait','Kyrgyzstan','Laos','Latvia','Lebanon','Lesotho','Liberia',\n",
    "                 'Libya','Liechtenstein','Lithuania','Luxembourg','Macao','Macedonia','Madagascar','Malawi','Malaysia',\n",
    "                 'Maldives','Mali','Malta','Marshall Islands','Martinique','Mauritania','Mauritius','Mayotte','Mexico',\n",
    "                 'Micronesia','Moldova','Monaco','Mongolia','Montenegro','Montserrat','Morocco','Mozambique','Myanmar',\n",
    "                 'Namibia','Nauru','Nepal','Netherlands','Netherlands Antilles','New Caledonia','New Zealand','Nicaragua',\n",
    "                 'Niger','Nigeria','Niue','Norfolk Island','North Korea','Northern Mariana Islands','Norway','Oman','Pakistan',\n",
    "                 'Palau','Palestinian Territory','Panama','Papua New Guinea','Paraguay','Peru','Philippines','Pitcairn','Poland',\n",
    "                 'Portugal','Puerto Rico','Qatar','Republic of the Congo','Reunion','Romania','Russia','Rwanda','Saint Barthelemy',\n",
    "                 'Saint Helena','Saint Kitts and Nevis','Saint Lucia','Saint Martin','Saint Pierre and Miquelon','Saint Vincent and the Grenadines',\n",
    "                 'Samoa','San Marino','Sao Tome and Principe','Saudi Arabia','Senegal','Serbia','Serbia and Montenegro','Seychelles',\n",
    "                 'Sierra Leone','Singapore','Sint Maarten','Slovakia','Slovenia','Solomon Islands','Somalia','South Africa','South Georgia and the South Sandwich Islands',\n",
    "                 'South Korea','South Sudan','Spain','Sri Lanka','Sudan','Suriname','Svalbard and Jan Mayen','Swaziland','Sweden',\n",
    "                 'Switzerland','Syria','Taiwan','Tajikistan','Tanzania','Thailand','Togo','Tokelau','Tonga','Trinidad and Tobago',\n",
    "                 'Tunisia','Turkey','Turkmenistan','Turks and Caicos Islands','Tuvalu','U.S. Virgin Islands','Uganda','Ukraine',\n",
    "                 'United Arab Emirates','United Kingdom','United States','United States Minor Outlying Islands','Uruguay','Uzbekistan',\n",
    "                 'Vanuatu','Vatican','Venezuela','Vietnam','Wallis and Futuna','Western Sahara','Yemen','Zambia','Zimbabwe','World', 'Rest of World']"
   ]
  },
  {
   "cell_type": "markdown",
   "metadata": {},
   "source": [
    "### Fertility vs mortality"
   ]
  },
  {
   "cell_type": "code",
   "execution_count": 3,
   "metadata": {},
   "outputs": [],
   "source": [
    "fert_vs_mort = pd.read_csv(\"../data/original_data/fertility-vs-child-mortality.csv\")"
   ]
  },
  {
   "cell_type": "code",
   "execution_count": 4,
   "metadata": {},
   "outputs": [
    {
     "data": {
      "text/html": [
       "<div>\n",
       "<style scoped>\n",
       "    .dataframe tbody tr th:only-of-type {\n",
       "        vertical-align: middle;\n",
       "    }\n",
       "\n",
       "    .dataframe tbody tr th {\n",
       "        vertical-align: top;\n",
       "    }\n",
       "\n",
       "    .dataframe thead th {\n",
       "        text-align: right;\n",
       "    }\n",
       "</style>\n",
       "<table border=\"1\" class=\"dataframe\">\n",
       "  <thead>\n",
       "    <tr style=\"text-align: right;\">\n",
       "      <th></th>\n",
       "      <th>Entity</th>\n",
       "      <th>Code</th>\n",
       "      <th>Year</th>\n",
       "      <th>Child mortality rate (%)</th>\n",
       "      <th>Fertility Rate (Children per woman) (live births per woman)</th>\n",
       "      <th>Total population (Gapminder)</th>\n",
       "    </tr>\n",
       "  </thead>\n",
       "  <tbody>\n",
       "    <tr>\n",
       "      <th>0</th>\n",
       "      <td>Afghanistan</td>\n",
       "      <td>AFG</td>\n",
       "      <td>1800</td>\n",
       "      <td>NaN</td>\n",
       "      <td>NaN</td>\n",
       "      <td>3280000.0</td>\n",
       "    </tr>\n",
       "    <tr>\n",
       "      <th>1</th>\n",
       "      <td>Afghanistan</td>\n",
       "      <td>AFG</td>\n",
       "      <td>1801</td>\n",
       "      <td>NaN</td>\n",
       "      <td>NaN</td>\n",
       "      <td>3280000.0</td>\n",
       "    </tr>\n",
       "    <tr>\n",
       "      <th>2</th>\n",
       "      <td>Afghanistan</td>\n",
       "      <td>AFG</td>\n",
       "      <td>1802</td>\n",
       "      <td>NaN</td>\n",
       "      <td>NaN</td>\n",
       "      <td>3280000.0</td>\n",
       "    </tr>\n",
       "    <tr>\n",
       "      <th>3</th>\n",
       "      <td>Afghanistan</td>\n",
       "      <td>AFG</td>\n",
       "      <td>1803</td>\n",
       "      <td>NaN</td>\n",
       "      <td>NaN</td>\n",
       "      <td>3280000.0</td>\n",
       "    </tr>\n",
       "    <tr>\n",
       "      <th>4</th>\n",
       "      <td>Afghanistan</td>\n",
       "      <td>AFG</td>\n",
       "      <td>1804</td>\n",
       "      <td>NaN</td>\n",
       "      <td>NaN</td>\n",
       "      <td>3280000.0</td>\n",
       "    </tr>\n",
       "  </tbody>\n",
       "</table>\n",
       "</div>"
      ],
      "text/plain": [
       "        Entity Code  Year  Child mortality rate (%)  \\\n",
       "0  Afghanistan  AFG  1800                       NaN   \n",
       "1  Afghanistan  AFG  1801                       NaN   \n",
       "2  Afghanistan  AFG  1802                       NaN   \n",
       "3  Afghanistan  AFG  1803                       NaN   \n",
       "4  Afghanistan  AFG  1804                       NaN   \n",
       "\n",
       "   Fertility Rate (Children per woman) (live births per woman)  \\\n",
       "0                                                NaN             \n",
       "1                                                NaN             \n",
       "2                                                NaN             \n",
       "3                                                NaN             \n",
       "4                                                NaN             \n",
       "\n",
       "   Total population (Gapminder)  \n",
       "0                     3280000.0  \n",
       "1                     3280000.0  \n",
       "2                     3280000.0  \n",
       "3                     3280000.0  \n",
       "4                     3280000.0  "
      ]
     },
     "execution_count": 4,
     "metadata": {},
     "output_type": "execute_result"
    }
   ],
   "source": [
    "fert_vs_mort.head()"
   ]
  },
  {
   "cell_type": "code",
   "execution_count": 5,
   "metadata": {},
   "outputs": [],
   "source": [
    "fert_vs_mort.drop(columns = \"Total population (Gapminder)\", inplace = True)"
   ]
  },
  {
   "cell_type": "code",
   "execution_count": 6,
   "metadata": {},
   "outputs": [],
   "source": [
    "fert_vs_mort.rename(columns = {\"Entity\" : \"Country\", \"Fertility Rate (Children per woman) (live births per woman)\" : \"Fertility Rate\"}, inplace = True)"
   ]
  },
  {
   "cell_type": "code",
   "execution_count": 7,
   "metadata": {},
   "outputs": [
    {
     "data": {
      "text/plain": [
       "Country                      object\n",
       "Code                         object\n",
       "Year                         object\n",
       "Child mortality rate (%)    float64\n",
       "Fertility Rate              float64\n",
       "dtype: object"
      ]
     },
     "execution_count": 7,
     "metadata": {},
     "output_type": "execute_result"
    }
   ],
   "source": [
    "fert_vs_mort.dtypes"
   ]
  },
  {
   "cell_type": "code",
   "execution_count": 8,
   "metadata": {},
   "outputs": [
    {
     "data": {
      "text/plain": [
       "Country                         0\n",
       "Code                         3112\n",
       "Year                            0\n",
       "Child mortality rate (%)    33419\n",
       "Fertility Rate              33419\n",
       "dtype: int64"
      ]
     },
     "execution_count": 8,
     "metadata": {},
     "output_type": "execute_result"
    }
   ],
   "source": [
    "fert_vs_mort.isna().sum()"
   ]
  },
  {
   "cell_type": "code",
   "execution_count": 9,
   "metadata": {},
   "outputs": [],
   "source": [
    "fert_vs_mort = fert_vs_mort.loc[fert_vs_mort[\"Country\"].isin(country_names)]"
   ]
  },
  {
   "cell_type": "code",
   "execution_count": 10,
   "metadata": {},
   "outputs": [
    {
     "data": {
      "text/plain": [
       "Country                         0\n",
       "Code                            0\n",
       "Year                            0\n",
       "Child mortality rate (%)    31669\n",
       "Fertility Rate              31669\n",
       "dtype: int64"
      ]
     },
     "execution_count": 10,
     "metadata": {},
     "output_type": "execute_result"
    }
   ],
   "source": [
    "fert_vs_mort.isna().sum()"
   ]
  },
  {
   "cell_type": "code",
   "execution_count": 11,
   "metadata": {},
   "outputs": [],
   "source": [
    "fert_vs_mort.dropna(inplace = True)"
   ]
  },
  {
   "cell_type": "code",
   "execution_count": 12,
   "metadata": {},
   "outputs": [],
   "source": [
    "fert_vs_mort[\"Year\"] = pd.to_datetime(fert_vs_mort[\"Year\"], format = \"%Y\")"
   ]
  },
  {
   "cell_type": "code",
   "execution_count": 13,
   "metadata": {},
   "outputs": [],
   "source": [
    "fert_vs_mort[[\"Child mortality rate (%)\", \"Fertility Rate\"]] = fert_vs_mort[[\"Child mortality rate (%)\", \"Fertility Rate\"]].round(decimals = 2)"
   ]
  },
  {
   "cell_type": "code",
   "execution_count": 14,
   "metadata": {},
   "outputs": [
    {
     "data": {
      "text/html": [
       "<div>\n",
       "<style scoped>\n",
       "    .dataframe tbody tr th:only-of-type {\n",
       "        vertical-align: middle;\n",
       "    }\n",
       "\n",
       "    .dataframe tbody tr th {\n",
       "        vertical-align: top;\n",
       "    }\n",
       "\n",
       "    .dataframe thead th {\n",
       "        text-align: right;\n",
       "    }\n",
       "</style>\n",
       "<table border=\"1\" class=\"dataframe\">\n",
       "  <thead>\n",
       "    <tr style=\"text-align: right;\">\n",
       "      <th></th>\n",
       "      <th>Country</th>\n",
       "      <th>Code</th>\n",
       "      <th>Year</th>\n",
       "      <th>Child mortality rate (%)</th>\n",
       "      <th>Fertility Rate</th>\n",
       "    </tr>\n",
       "  </thead>\n",
       "  <tbody>\n",
       "    <tr>\n",
       "      <th>150</th>\n",
       "      <td>Afghanistan</td>\n",
       "      <td>AFG</td>\n",
       "      <td>1950-01-01</td>\n",
       "      <td>41.99</td>\n",
       "      <td>7.45</td>\n",
       "    </tr>\n",
       "    <tr>\n",
       "      <th>151</th>\n",
       "      <td>Afghanistan</td>\n",
       "      <td>AFG</td>\n",
       "      <td>1951-01-01</td>\n",
       "      <td>41.63</td>\n",
       "      <td>7.45</td>\n",
       "    </tr>\n",
       "    <tr>\n",
       "      <th>152</th>\n",
       "      <td>Afghanistan</td>\n",
       "      <td>AFG</td>\n",
       "      <td>1952-01-01</td>\n",
       "      <td>40.93</td>\n",
       "      <td>7.45</td>\n",
       "    </tr>\n",
       "    <tr>\n",
       "      <th>153</th>\n",
       "      <td>Afghanistan</td>\n",
       "      <td>AFG</td>\n",
       "      <td>1953-01-01</td>\n",
       "      <td>40.24</td>\n",
       "      <td>7.45</td>\n",
       "    </tr>\n",
       "    <tr>\n",
       "      <th>154</th>\n",
       "      <td>Afghanistan</td>\n",
       "      <td>AFG</td>\n",
       "      <td>1954-01-01</td>\n",
       "      <td>39.58</td>\n",
       "      <td>7.45</td>\n",
       "    </tr>\n",
       "  </tbody>\n",
       "</table>\n",
       "</div>"
      ],
      "text/plain": [
       "         Country Code       Year  Child mortality rate (%)  Fertility Rate\n",
       "150  Afghanistan  AFG 1950-01-01                     41.99            7.45\n",
       "151  Afghanistan  AFG 1951-01-01                     41.63            7.45\n",
       "152  Afghanistan  AFG 1952-01-01                     40.93            7.45\n",
       "153  Afghanistan  AFG 1953-01-01                     40.24            7.45\n",
       "154  Afghanistan  AFG 1954-01-01                     39.58            7.45"
      ]
     },
     "execution_count": 14,
     "metadata": {},
     "output_type": "execute_result"
    }
   ],
   "source": [
    "fert_vs_mort.head()"
   ]
  },
  {
   "cell_type": "code",
   "execution_count": 15,
   "metadata": {},
   "outputs": [],
   "source": [
    "fert_vs_mort.to_csv(\"../data/fertility-vs-mortality.csv\", index = False)"
   ]
  },
  {
   "cell_type": "markdown",
   "metadata": {},
   "source": [
    "----\n",
    "\n",
    "### Life expectancy"
   ]
  },
  {
   "cell_type": "code",
   "execution_count": 16,
   "metadata": {},
   "outputs": [],
   "source": [
    "life_exp = pd.read_csv(\"../data/original_data/life-expectancy-of-women-vs-life-expectancy-of-women.csv\")"
   ]
  },
  {
   "cell_type": "code",
   "execution_count": 17,
   "metadata": {},
   "outputs": [
    {
     "data": {
      "text/html": [
       "<div>\n",
       "<style scoped>\n",
       "    .dataframe tbody tr th:only-of-type {\n",
       "        vertical-align: middle;\n",
       "    }\n",
       "\n",
       "    .dataframe tbody tr th {\n",
       "        vertical-align: top;\n",
       "    }\n",
       "\n",
       "    .dataframe thead th {\n",
       "        text-align: right;\n",
       "    }\n",
       "</style>\n",
       "<table border=\"1\" class=\"dataframe\">\n",
       "  <thead>\n",
       "    <tr style=\"text-align: right;\">\n",
       "      <th></th>\n",
       "      <th>Entity</th>\n",
       "      <th>Code</th>\n",
       "      <th>Year</th>\n",
       "      <th>Life expectancy of men (years)</th>\n",
       "      <th>Life expectancy of women (years)</th>\n",
       "      <th>Total population (Gapminder)</th>\n",
       "    </tr>\n",
       "  </thead>\n",
       "  <tbody>\n",
       "    <tr>\n",
       "      <th>0</th>\n",
       "      <td>Afghanistan</td>\n",
       "      <td>AFG</td>\n",
       "      <td>1800</td>\n",
       "      <td>NaN</td>\n",
       "      <td>NaN</td>\n",
       "      <td>3280000.0</td>\n",
       "    </tr>\n",
       "    <tr>\n",
       "      <th>1</th>\n",
       "      <td>Afghanistan</td>\n",
       "      <td>AFG</td>\n",
       "      <td>1801</td>\n",
       "      <td>NaN</td>\n",
       "      <td>NaN</td>\n",
       "      <td>3280000.0</td>\n",
       "    </tr>\n",
       "    <tr>\n",
       "      <th>2</th>\n",
       "      <td>Afghanistan</td>\n",
       "      <td>AFG</td>\n",
       "      <td>1802</td>\n",
       "      <td>NaN</td>\n",
       "      <td>NaN</td>\n",
       "      <td>3280000.0</td>\n",
       "    </tr>\n",
       "    <tr>\n",
       "      <th>3</th>\n",
       "      <td>Afghanistan</td>\n",
       "      <td>AFG</td>\n",
       "      <td>1803</td>\n",
       "      <td>NaN</td>\n",
       "      <td>NaN</td>\n",
       "      <td>3280000.0</td>\n",
       "    </tr>\n",
       "    <tr>\n",
       "      <th>4</th>\n",
       "      <td>Afghanistan</td>\n",
       "      <td>AFG</td>\n",
       "      <td>1804</td>\n",
       "      <td>NaN</td>\n",
       "      <td>NaN</td>\n",
       "      <td>3280000.0</td>\n",
       "    </tr>\n",
       "  </tbody>\n",
       "</table>\n",
       "</div>"
      ],
      "text/plain": [
       "        Entity Code  Year  Life expectancy of men (years)  \\\n",
       "0  Afghanistan  AFG  1800                             NaN   \n",
       "1  Afghanistan  AFG  1801                             NaN   \n",
       "2  Afghanistan  AFG  1802                             NaN   \n",
       "3  Afghanistan  AFG  1803                             NaN   \n",
       "4  Afghanistan  AFG  1804                             NaN   \n",
       "\n",
       "   Life expectancy of women (years)  Total population (Gapminder)  \n",
       "0                               NaN                     3280000.0  \n",
       "1                               NaN                     3280000.0  \n",
       "2                               NaN                     3280000.0  \n",
       "3                               NaN                     3280000.0  \n",
       "4                               NaN                     3280000.0  "
      ]
     },
     "execution_count": 17,
     "metadata": {},
     "output_type": "execute_result"
    }
   ],
   "source": [
    "life_exp.head()"
   ]
  },
  {
   "cell_type": "code",
   "execution_count": 18,
   "metadata": {},
   "outputs": [
    {
     "data": {
      "text/plain": [
       "Entity                                  0\n",
       "Code                                 3112\n",
       "Year                                    0\n",
       "Life expectancy of men (years)      33419\n",
       "Life expectancy of women (years)    33419\n",
       "Total population (Gapminder)         2442\n",
       "dtype: int64"
      ]
     },
     "execution_count": 18,
     "metadata": {},
     "output_type": "execute_result"
    }
   ],
   "source": [
    "life_exp.isna().sum()"
   ]
  },
  {
   "cell_type": "code",
   "execution_count": 19,
   "metadata": {},
   "outputs": [
    {
     "data": {
      "text/plain": [
       "(49325, 6)"
      ]
     },
     "execution_count": 19,
     "metadata": {},
     "output_type": "execute_result"
    }
   ],
   "source": [
    "life_exp.shape"
   ]
  },
  {
   "cell_type": "markdown",
   "metadata": {},
   "source": [
    "Life expenctancy has the same problem with missing value as fertility vs mortality. \n",
    "Values missing seems to be from 1800s and has no big impact in this project. "
   ]
  },
  {
   "cell_type": "code",
   "execution_count": 20,
   "metadata": {},
   "outputs": [],
   "source": [
    "life_exp.rename(columns = {\"Entity\" : \"Country\", \"Life expectancy of men (years)\" : \"Life expectancy men\", \"Life expectancy of women (years)\" : \"Life expectancy women\"}, inplace = True)"
   ]
  },
  {
   "cell_type": "code",
   "execution_count": 21,
   "metadata": {},
   "outputs": [],
   "source": [
    "life_exp.drop(columns = \"Total population (Gapminder)\", inplace = True)"
   ]
  },
  {
   "cell_type": "code",
   "execution_count": 22,
   "metadata": {},
   "outputs": [],
   "source": [
    "life_exp = life_exp[life_exp[\"Country\"].isin(country_names)]"
   ]
  },
  {
   "cell_type": "code",
   "execution_count": 23,
   "metadata": {},
   "outputs": [
    {
     "data": {
      "text/plain": [
       "Country                      0\n",
       "Code                         0\n",
       "Year                         0\n",
       "Life expectancy men      31669\n",
       "Life expectancy women    31669\n",
       "dtype: int64"
      ]
     },
     "execution_count": 23,
     "metadata": {},
     "output_type": "execute_result"
    }
   ],
   "source": [
    "life_exp.isna().sum()"
   ]
  },
  {
   "cell_type": "code",
   "execution_count": 24,
   "metadata": {},
   "outputs": [
    {
     "data": {
      "text/html": [
       "<div>\n",
       "<style scoped>\n",
       "    .dataframe tbody tr th:only-of-type {\n",
       "        vertical-align: middle;\n",
       "    }\n",
       "\n",
       "    .dataframe tbody tr th {\n",
       "        vertical-align: top;\n",
       "    }\n",
       "\n",
       "    .dataframe thead th {\n",
       "        text-align: right;\n",
       "    }\n",
       "</style>\n",
       "<table border=\"1\" class=\"dataframe\">\n",
       "  <thead>\n",
       "    <tr style=\"text-align: right;\">\n",
       "      <th></th>\n",
       "      <th>Country</th>\n",
       "      <th>Code</th>\n",
       "      <th>Year</th>\n",
       "      <th>Life expectancy men</th>\n",
       "      <th>Life expectancy women</th>\n",
       "    </tr>\n",
       "  </thead>\n",
       "  <tbody>\n",
       "    <tr>\n",
       "      <th>0</th>\n",
       "      <td>Afghanistan</td>\n",
       "      <td>AFG</td>\n",
       "      <td>1800</td>\n",
       "      <td>NaN</td>\n",
       "      <td>NaN</td>\n",
       "    </tr>\n",
       "    <tr>\n",
       "      <th>1</th>\n",
       "      <td>Afghanistan</td>\n",
       "      <td>AFG</td>\n",
       "      <td>1801</td>\n",
       "      <td>NaN</td>\n",
       "      <td>NaN</td>\n",
       "    </tr>\n",
       "    <tr>\n",
       "      <th>2</th>\n",
       "      <td>Afghanistan</td>\n",
       "      <td>AFG</td>\n",
       "      <td>1802</td>\n",
       "      <td>NaN</td>\n",
       "      <td>NaN</td>\n",
       "    </tr>\n",
       "    <tr>\n",
       "      <th>3</th>\n",
       "      <td>Afghanistan</td>\n",
       "      <td>AFG</td>\n",
       "      <td>1803</td>\n",
       "      <td>NaN</td>\n",
       "      <td>NaN</td>\n",
       "    </tr>\n",
       "    <tr>\n",
       "      <th>4</th>\n",
       "      <td>Afghanistan</td>\n",
       "      <td>AFG</td>\n",
       "      <td>1804</td>\n",
       "      <td>NaN</td>\n",
       "      <td>NaN</td>\n",
       "    </tr>\n",
       "  </tbody>\n",
       "</table>\n",
       "</div>"
      ],
      "text/plain": [
       "       Country Code  Year  Life expectancy men  Life expectancy women\n",
       "0  Afghanistan  AFG  1800                  NaN                    NaN\n",
       "1  Afghanistan  AFG  1801                  NaN                    NaN\n",
       "2  Afghanistan  AFG  1802                  NaN                    NaN\n",
       "3  Afghanistan  AFG  1803                  NaN                    NaN\n",
       "4  Afghanistan  AFG  1804                  NaN                    NaN"
      ]
     },
     "execution_count": 24,
     "metadata": {},
     "output_type": "execute_result"
    }
   ],
   "source": [
    "life_exp.head()"
   ]
  },
  {
   "cell_type": "code",
   "execution_count": 25,
   "metadata": {},
   "outputs": [],
   "source": [
    "life_exp.dropna(inplace = True)"
   ]
  },
  {
   "cell_type": "code",
   "execution_count": 26,
   "metadata": {},
   "outputs": [
    {
     "data": {
      "text/html": [
       "<div>\n",
       "<style scoped>\n",
       "    .dataframe tbody tr th:only-of-type {\n",
       "        vertical-align: middle;\n",
       "    }\n",
       "\n",
       "    .dataframe tbody tr th {\n",
       "        vertical-align: top;\n",
       "    }\n",
       "\n",
       "    .dataframe thead th {\n",
       "        text-align: right;\n",
       "    }\n",
       "</style>\n",
       "<table border=\"1\" class=\"dataframe\">\n",
       "  <thead>\n",
       "    <tr style=\"text-align: right;\">\n",
       "      <th></th>\n",
       "      <th>Country</th>\n",
       "      <th>Code</th>\n",
       "      <th>Year</th>\n",
       "      <th>Life expectancy men</th>\n",
       "      <th>Life expectancy women</th>\n",
       "    </tr>\n",
       "  </thead>\n",
       "  <tbody>\n",
       "    <tr>\n",
       "      <th>150</th>\n",
       "      <td>Afghanistan</td>\n",
       "      <td>AFG</td>\n",
       "      <td>1950</td>\n",
       "      <td>26.867</td>\n",
       "      <td>28.360</td>\n",
       "    </tr>\n",
       "    <tr>\n",
       "      <th>151</th>\n",
       "      <td>Afghanistan</td>\n",
       "      <td>AFG</td>\n",
       "      <td>1951</td>\n",
       "      <td>27.138</td>\n",
       "      <td>28.632</td>\n",
       "    </tr>\n",
       "    <tr>\n",
       "      <th>152</th>\n",
       "      <td>Afghanistan</td>\n",
       "      <td>AFG</td>\n",
       "      <td>1952</td>\n",
       "      <td>27.675</td>\n",
       "      <td>29.172</td>\n",
       "    </tr>\n",
       "    <tr>\n",
       "      <th>153</th>\n",
       "      <td>Afghanistan</td>\n",
       "      <td>AFG</td>\n",
       "      <td>1953</td>\n",
       "      <td>28.201</td>\n",
       "      <td>29.703</td>\n",
       "    </tr>\n",
       "    <tr>\n",
       "      <th>154</th>\n",
       "      <td>Afghanistan</td>\n",
       "      <td>AFG</td>\n",
       "      <td>1954</td>\n",
       "      <td>28.716</td>\n",
       "      <td>30.223</td>\n",
       "    </tr>\n",
       "    <tr>\n",
       "      <th>...</th>\n",
       "      <td>...</td>\n",
       "      <td>...</td>\n",
       "      <td>...</td>\n",
       "      <td>...</td>\n",
       "      <td>...</td>\n",
       "    </tr>\n",
       "    <tr>\n",
       "      <th>49316</th>\n",
       "      <td>Zimbabwe</td>\n",
       "      <td>ZWE</td>\n",
       "      <td>2011</td>\n",
       "      <td>53.425</td>\n",
       "      <td>56.033</td>\n",
       "    </tr>\n",
       "    <tr>\n",
       "      <th>49317</th>\n",
       "      <td>Zimbabwe</td>\n",
       "      <td>ZWE</td>\n",
       "      <td>2012</td>\n",
       "      <td>55.036</td>\n",
       "      <td>57.848</td>\n",
       "    </tr>\n",
       "    <tr>\n",
       "      <th>49318</th>\n",
       "      <td>Zimbabwe</td>\n",
       "      <td>ZWE</td>\n",
       "      <td>2013</td>\n",
       "      <td>56.461</td>\n",
       "      <td>59.494</td>\n",
       "    </tr>\n",
       "    <tr>\n",
       "      <th>49319</th>\n",
       "      <td>Zimbabwe</td>\n",
       "      <td>ZWE</td>\n",
       "      <td>2014</td>\n",
       "      <td>57.657</td>\n",
       "      <td>60.911</td>\n",
       "    </tr>\n",
       "    <tr>\n",
       "      <th>49320</th>\n",
       "      <td>Zimbabwe</td>\n",
       "      <td>ZWE</td>\n",
       "      <td>2015</td>\n",
       "      <td>58.593</td>\n",
       "      <td>62.050</td>\n",
       "    </tr>\n",
       "  </tbody>\n",
       "</table>\n",
       "<p>12672 rows × 5 columns</p>\n",
       "</div>"
      ],
      "text/plain": [
       "           Country Code  Year  Life expectancy men  Life expectancy women\n",
       "150    Afghanistan  AFG  1950               26.867                 28.360\n",
       "151    Afghanistan  AFG  1951               27.138                 28.632\n",
       "152    Afghanistan  AFG  1952               27.675                 29.172\n",
       "153    Afghanistan  AFG  1953               28.201                 29.703\n",
       "154    Afghanistan  AFG  1954               28.716                 30.223\n",
       "...            ...  ...   ...                  ...                    ...\n",
       "49316     Zimbabwe  ZWE  2011               53.425                 56.033\n",
       "49317     Zimbabwe  ZWE  2012               55.036                 57.848\n",
       "49318     Zimbabwe  ZWE  2013               56.461                 59.494\n",
       "49319     Zimbabwe  ZWE  2014               57.657                 60.911\n",
       "49320     Zimbabwe  ZWE  2015               58.593                 62.050\n",
       "\n",
       "[12672 rows x 5 columns]"
      ]
     },
     "execution_count": 26,
     "metadata": {},
     "output_type": "execute_result"
    }
   ],
   "source": [
    "life_exp"
   ]
  },
  {
   "cell_type": "code",
   "execution_count": 27,
   "metadata": {},
   "outputs": [],
   "source": [
    "life_exp[\"Year\"] = pd.to_datetime(life_exp[\"Year\"], format = \"%Y\")"
   ]
  },
  {
   "cell_type": "code",
   "execution_count": 28,
   "metadata": {},
   "outputs": [],
   "source": [
    "life_exp[[\"Life expectancy men\", \"Life expectancy women\"]] = life_exp[[\"Life expectancy men\", \"Life expectancy women\"]].round(decimals = 2)"
   ]
  },
  {
   "cell_type": "code",
   "execution_count": 29,
   "metadata": {},
   "outputs": [
    {
     "data": {
      "text/plain": [
       "Country                          object\n",
       "Code                             object\n",
       "Year                     datetime64[ns]\n",
       "Life expectancy men             float64\n",
       "Life expectancy women           float64\n",
       "dtype: object"
      ]
     },
     "execution_count": 29,
     "metadata": {},
     "output_type": "execute_result"
    }
   ],
   "source": [
    "life_exp.dtypes"
   ]
  },
  {
   "cell_type": "code",
   "execution_count": 30,
   "metadata": {},
   "outputs": [
    {
     "data": {
      "text/html": [
       "<div>\n",
       "<style scoped>\n",
       "    .dataframe tbody tr th:only-of-type {\n",
       "        vertical-align: middle;\n",
       "    }\n",
       "\n",
       "    .dataframe tbody tr th {\n",
       "        vertical-align: top;\n",
       "    }\n",
       "\n",
       "    .dataframe thead th {\n",
       "        text-align: right;\n",
       "    }\n",
       "</style>\n",
       "<table border=\"1\" class=\"dataframe\">\n",
       "  <thead>\n",
       "    <tr style=\"text-align: right;\">\n",
       "      <th></th>\n",
       "      <th>Country</th>\n",
       "      <th>Code</th>\n",
       "      <th>Year</th>\n",
       "      <th>Life expectancy men</th>\n",
       "      <th>Life expectancy women</th>\n",
       "    </tr>\n",
       "  </thead>\n",
       "  <tbody>\n",
       "    <tr>\n",
       "      <th>150</th>\n",
       "      <td>Afghanistan</td>\n",
       "      <td>AFG</td>\n",
       "      <td>1950-01-01</td>\n",
       "      <td>26.87</td>\n",
       "      <td>28.36</td>\n",
       "    </tr>\n",
       "    <tr>\n",
       "      <th>151</th>\n",
       "      <td>Afghanistan</td>\n",
       "      <td>AFG</td>\n",
       "      <td>1951-01-01</td>\n",
       "      <td>27.14</td>\n",
       "      <td>28.63</td>\n",
       "    </tr>\n",
       "    <tr>\n",
       "      <th>152</th>\n",
       "      <td>Afghanistan</td>\n",
       "      <td>AFG</td>\n",
       "      <td>1952-01-01</td>\n",
       "      <td>27.68</td>\n",
       "      <td>29.17</td>\n",
       "    </tr>\n",
       "    <tr>\n",
       "      <th>153</th>\n",
       "      <td>Afghanistan</td>\n",
       "      <td>AFG</td>\n",
       "      <td>1953-01-01</td>\n",
       "      <td>28.20</td>\n",
       "      <td>29.70</td>\n",
       "    </tr>\n",
       "    <tr>\n",
       "      <th>154</th>\n",
       "      <td>Afghanistan</td>\n",
       "      <td>AFG</td>\n",
       "      <td>1954-01-01</td>\n",
       "      <td>28.72</td>\n",
       "      <td>30.22</td>\n",
       "    </tr>\n",
       "  </tbody>\n",
       "</table>\n",
       "</div>"
      ],
      "text/plain": [
       "         Country Code       Year  Life expectancy men  Life expectancy women\n",
       "150  Afghanistan  AFG 1950-01-01                26.87                  28.36\n",
       "151  Afghanistan  AFG 1951-01-01                27.14                  28.63\n",
       "152  Afghanistan  AFG 1952-01-01                27.68                  29.17\n",
       "153  Afghanistan  AFG 1953-01-01                28.20                  29.70\n",
       "154  Afghanistan  AFG 1954-01-01                28.72                  30.22"
      ]
     },
     "execution_count": 30,
     "metadata": {},
     "output_type": "execute_result"
    }
   ],
   "source": [
    "life_exp.head()"
   ]
  },
  {
   "cell_type": "code",
   "execution_count": 31,
   "metadata": {},
   "outputs": [],
   "source": [
    "life_exp.to_csv(\"../data/life_expectancy.csv\", index = False)"
   ]
  },
  {
   "cell_type": "markdown",
   "metadata": {},
   "source": [
    "----\n",
    "\n",
    "### GDP"
   ]
  },
  {
   "cell_type": "code",
   "execution_count": 32,
   "metadata": {},
   "outputs": [],
   "source": [
    "gdp = pd.read_csv(\"../data/original_data/gdp.csv\")"
   ]
  },
  {
   "cell_type": "code",
   "execution_count": 33,
   "metadata": {},
   "outputs": [
    {
     "data": {
      "text/html": [
       "<div>\n",
       "<style scoped>\n",
       "    .dataframe tbody tr th:only-of-type {\n",
       "        vertical-align: middle;\n",
       "    }\n",
       "\n",
       "    .dataframe tbody tr th {\n",
       "        vertical-align: top;\n",
       "    }\n",
       "\n",
       "    .dataframe thead th {\n",
       "        text-align: right;\n",
       "    }\n",
       "</style>\n",
       "<table border=\"1\" class=\"dataframe\">\n",
       "  <thead>\n",
       "    <tr style=\"text-align: right;\">\n",
       "      <th></th>\n",
       "      <th>Code</th>\n",
       "      <th>Country</th>\n",
       "      <th>Subject Descriptor</th>\n",
       "      <th>Subject Notes</th>\n",
       "      <th>Units</th>\n",
       "      <th>Scale</th>\n",
       "      <th>Country/Series-specific Notes</th>\n",
       "      <th>1980</th>\n",
       "      <th>1981</th>\n",
       "      <th>1982</th>\n",
       "      <th>...</th>\n",
       "      <th>2015</th>\n",
       "      <th>2016</th>\n",
       "      <th>2017</th>\n",
       "      <th>2018</th>\n",
       "      <th>2019</th>\n",
       "      <th>2020</th>\n",
       "      <th>2021</th>\n",
       "      <th>2022</th>\n",
       "      <th>2023</th>\n",
       "      <th>2024</th>\n",
       "    </tr>\n",
       "  </thead>\n",
       "  <tbody>\n",
       "    <tr>\n",
       "      <th>0</th>\n",
       "      <td>AFG</td>\n",
       "      <td>Afghanistan</td>\n",
       "      <td>Gross domestic product, constant prices</td>\n",
       "      <td>Expressed in billions of national currency uni...</td>\n",
       "      <td>National currency</td>\n",
       "      <td>Billions</td>\n",
       "      <td>Source: National Statistics Office Latest actu...</td>\n",
       "      <td>NaN</td>\n",
       "      <td>NaN</td>\n",
       "      <td>NaN</td>\n",
       "      <td>...</td>\n",
       "      <td>482.629</td>\n",
       "      <td>493.073</td>\n",
       "      <td>506.215</td>\n",
       "      <td>519.883</td>\n",
       "      <td>535.479</td>\n",
       "      <td>554.101</td>\n",
       "      <td>576.265</td>\n",
       "      <td>602.197</td>\n",
       "      <td>632.307</td>\n",
       "      <td>667.084</td>\n",
       "    </tr>\n",
       "    <tr>\n",
       "      <th>1</th>\n",
       "      <td>AFG</td>\n",
       "      <td>Afghanistan</td>\n",
       "      <td>Gross domestic product, constant prices</td>\n",
       "      <td>Annual percentages of constant price GDP are y...</td>\n",
       "      <td>Percent change</td>\n",
       "      <td>NaN</td>\n",
       "      <td>See notes for:  Gross domestic product, consta...</td>\n",
       "      <td>NaN</td>\n",
       "      <td>NaN</td>\n",
       "      <td>NaN</td>\n",
       "      <td>...</td>\n",
       "      <td>0.988</td>\n",
       "      <td>2.164</td>\n",
       "      <td>2.665</td>\n",
       "      <td>2.7</td>\n",
       "      <td>3</td>\n",
       "      <td>3.478</td>\n",
       "      <td>4</td>\n",
       "      <td>4.5</td>\n",
       "      <td>5</td>\n",
       "      <td>5.5</td>\n",
       "    </tr>\n",
       "    <tr>\n",
       "      <th>2</th>\n",
       "      <td>AFG</td>\n",
       "      <td>Afghanistan</td>\n",
       "      <td>Gross domestic product, current prices</td>\n",
       "      <td>Expressed in billions of national currency uni...</td>\n",
       "      <td>National currency</td>\n",
       "      <td>Billions</td>\n",
       "      <td>Source: National Statistics Office Latest actu...</td>\n",
       "      <td>NaN</td>\n",
       "      <td>NaN</td>\n",
       "      <td>NaN</td>\n",
       "      <td>...</td>\n",
       "      <td>1,226.57</td>\n",
       "      <td>1,318.48</td>\n",
       "      <td>1,377.54</td>\n",
       "      <td>1,421.41</td>\n",
       "      <td>1,502.47</td>\n",
       "      <td>1,624.89</td>\n",
       "      <td>1,770.34</td>\n",
       "      <td>1,942.73</td>\n",
       "      <td>2,142.06</td>\n",
       "      <td>2,373.04</td>\n",
       "    </tr>\n",
       "    <tr>\n",
       "      <th>3</th>\n",
       "      <td>AFG</td>\n",
       "      <td>Afghanistan</td>\n",
       "      <td>Gross domestic product, current prices</td>\n",
       "      <td>Values are based upon GDP in national currency...</td>\n",
       "      <td>U.S. dollars</td>\n",
       "      <td>Billions</td>\n",
       "      <td>See notes for:  Gross domestic product, curren...</td>\n",
       "      <td>NaN</td>\n",
       "      <td>NaN</td>\n",
       "      <td>NaN</td>\n",
       "      <td>...</td>\n",
       "      <td>20.057</td>\n",
       "      <td>19.428</td>\n",
       "      <td>20.235</td>\n",
       "      <td>19.63</td>\n",
       "      <td>18.734</td>\n",
       "      <td>18.861</td>\n",
       "      <td>19.998</td>\n",
       "      <td>21.54</td>\n",
       "      <td>23.237</td>\n",
       "      <td>25.19</td>\n",
       "    </tr>\n",
       "    <tr>\n",
       "      <th>4</th>\n",
       "      <td>AFG</td>\n",
       "      <td>Afghanistan</td>\n",
       "      <td>Gross domestic product, current prices</td>\n",
       "      <td>These data form the basis for the country weig...</td>\n",
       "      <td>Purchasing power parity; international dollars</td>\n",
       "      <td>Billions</td>\n",
       "      <td>See notes for:  Gross domestic product, curren...</td>\n",
       "      <td>NaN</td>\n",
       "      <td>NaN</td>\n",
       "      <td>NaN</td>\n",
       "      <td>...</td>\n",
       "      <td>64.231</td>\n",
       "      <td>66.301</td>\n",
       "      <td>69.35</td>\n",
       "      <td>72.958</td>\n",
       "      <td>76.486</td>\n",
       "      <td>80.717</td>\n",
       "      <td>85.678</td>\n",
       "      <td>91.329</td>\n",
       "      <td>97.814</td>\n",
       "      <td>105.271</td>\n",
       "    </tr>\n",
       "  </tbody>\n",
       "</table>\n",
       "<p>5 rows × 52 columns</p>\n",
       "</div>"
      ],
      "text/plain": [
       "  Code      Country                       Subject Descriptor  \\\n",
       "0  AFG  Afghanistan  Gross domestic product, constant prices   \n",
       "1  AFG  Afghanistan  Gross domestic product, constant prices   \n",
       "2  AFG  Afghanistan   Gross domestic product, current prices   \n",
       "3  AFG  Afghanistan   Gross domestic product, current prices   \n",
       "4  AFG  Afghanistan   Gross domestic product, current prices   \n",
       "\n",
       "                                       Subject Notes  \\\n",
       "0  Expressed in billions of national currency uni...   \n",
       "1  Annual percentages of constant price GDP are y...   \n",
       "2  Expressed in billions of national currency uni...   \n",
       "3  Values are based upon GDP in national currency...   \n",
       "4  These data form the basis for the country weig...   \n",
       "\n",
       "                                            Units     Scale  \\\n",
       "0                               National currency  Billions   \n",
       "1                                  Percent change       NaN   \n",
       "2                               National currency  Billions   \n",
       "3                                    U.S. dollars  Billions   \n",
       "4  Purchasing power parity; international dollars  Billions   \n",
       "\n",
       "                       Country/Series-specific Notes 1980 1981 1982  ...  \\\n",
       "0  Source: National Statistics Office Latest actu...  NaN  NaN  NaN  ...   \n",
       "1  See notes for:  Gross domestic product, consta...  NaN  NaN  NaN  ...   \n",
       "2  Source: National Statistics Office Latest actu...  NaN  NaN  NaN  ...   \n",
       "3  See notes for:  Gross domestic product, curren...  NaN  NaN  NaN  ...   \n",
       "4  See notes for:  Gross domestic product, curren...  NaN  NaN  NaN  ...   \n",
       "\n",
       "       2015      2016      2017      2018      2019      2020      2021  \\\n",
       "0   482.629   493.073   506.215   519.883   535.479   554.101   576.265   \n",
       "1     0.988     2.164     2.665       2.7         3     3.478         4   \n",
       "2  1,226.57  1,318.48  1,377.54  1,421.41  1,502.47  1,624.89  1,770.34   \n",
       "3    20.057    19.428    20.235     19.63    18.734    18.861    19.998   \n",
       "4    64.231    66.301     69.35    72.958    76.486    80.717    85.678   \n",
       "\n",
       "       2022      2023      2024  \n",
       "0   602.197   632.307   667.084  \n",
       "1       4.5         5       5.5  \n",
       "2  1,942.73  2,142.06  2,373.04  \n",
       "3     21.54    23.237     25.19  \n",
       "4    91.329    97.814   105.271  \n",
       "\n",
       "[5 rows x 52 columns]"
      ]
     },
     "execution_count": 33,
     "metadata": {},
     "output_type": "execute_result"
    }
   ],
   "source": [
    "gdp.head()"
   ]
  },
  {
   "cell_type": "code",
   "execution_count": 34,
   "metadata": {},
   "outputs": [],
   "source": [
    "gdp = gdp[gdp[\"Country\"].isin(country_names)]"
   ]
  },
  {
   "cell_type": "code",
   "execution_count": 35,
   "metadata": {},
   "outputs": [
    {
     "data": {
      "text/plain": [
       "Gross domestic product per capita, current prices                                     519\n",
       "Gross domestic product, current prices                                                519\n",
       "General government net debt                                                           346\n",
       "General government gross debt                                                         346\n",
       "General government primary net lending/borrowing                                      346\n",
       "Gross domestic product per capita, constant prices                                    346\n",
       "General government structural balance                                                 346\n",
       "Gross domestic product, constant prices                                               346\n",
       "General government net lending/borrowing                                              346\n",
       "General government total expenditure                                                  346\n",
       "General government revenue                                                            346\n",
       "Inflation, end of period consumer prices                                              346\n",
       "Current account balance                                                               346\n",
       "Inflation, average consumer prices                                                    346\n",
       "Volume of Imports of goods                                                            173\n",
       "Population                                                                            173\n",
       "Unemployment rate                                                                     173\n",
       "Output gap in percent of potential GDP                                                173\n",
       "Gross domestic product based on purchasing-power-parity (PPP) share of world total    173\n",
       "Implied PPP conversion rate                                                           173\n",
       "Gross domestic product, deflator                                                      173\n",
       "Gross domestic product corresponding to fiscal year, current prices                   173\n",
       "Gross national savings                                                                173\n",
       "Employment                                                                            173\n",
       "Total investment                                                                      173\n",
       "Six-month London interbank offered rate (LIBOR)                                       173\n",
       "Volume of exports of goods                                                            173\n",
       "Volume of exports of goods and services                                               173\n",
       "Volume of imports of goods and services                                               173\n",
       "Name: Subject Descriptor, dtype: int64"
      ]
     },
     "execution_count": 35,
     "metadata": {},
     "output_type": "execute_result"
    }
   ],
   "source": [
    "gdp[\"Subject Descriptor\"].value_counts()"
   ]
  },
  {
   "cell_type": "code",
   "execution_count": 36,
   "metadata": {},
   "outputs": [],
   "source": [
    "gdp = gdp.loc[(gdp[\"Subject Descriptor\"] == \"Gross domestic product per capita, current prices\") | (gdp[\"Subject Descriptor\"] == \"Inflation, average consumer prices\") | (gdp[\"Subject Descriptor\"] == \"Unemployment rate\") ]"
   ]
  },
  {
   "cell_type": "code",
   "execution_count": 37,
   "metadata": {},
   "outputs": [
    {
     "data": {
      "text/html": [
       "<div>\n",
       "<style scoped>\n",
       "    .dataframe tbody tr th:only-of-type {\n",
       "        vertical-align: middle;\n",
       "    }\n",
       "\n",
       "    .dataframe tbody tr th {\n",
       "        vertical-align: top;\n",
       "    }\n",
       "\n",
       "    .dataframe thead th {\n",
       "        text-align: right;\n",
       "    }\n",
       "</style>\n",
       "<table border=\"1\" class=\"dataframe\">\n",
       "  <thead>\n",
       "    <tr style=\"text-align: right;\">\n",
       "      <th></th>\n",
       "      <th>Code</th>\n",
       "      <th>Country</th>\n",
       "      <th>Subject Descriptor</th>\n",
       "      <th>Subject Notes</th>\n",
       "      <th>Units</th>\n",
       "      <th>Scale</th>\n",
       "      <th>Country/Series-specific Notes</th>\n",
       "      <th>1980</th>\n",
       "      <th>1981</th>\n",
       "      <th>1982</th>\n",
       "      <th>...</th>\n",
       "      <th>2015</th>\n",
       "      <th>2016</th>\n",
       "      <th>2017</th>\n",
       "      <th>2018</th>\n",
       "      <th>2019</th>\n",
       "      <th>2020</th>\n",
       "      <th>2021</th>\n",
       "      <th>2022</th>\n",
       "      <th>2023</th>\n",
       "      <th>2024</th>\n",
       "    </tr>\n",
       "  </thead>\n",
       "  <tbody>\n",
       "    <tr>\n",
       "      <th>3428</th>\n",
       "      <td>IND</td>\n",
       "      <td>India</td>\n",
       "      <td>Gross domestic product per capita, current prices</td>\n",
       "      <td>GDP is expressed in current national currency ...</td>\n",
       "      <td>National currency</td>\n",
       "      <td>Units</td>\n",
       "      <td>See notes for:  Gross domestic product, curren...</td>\n",
       "      <td>2,182.96</td>\n",
       "      <td>2,511.51</td>\n",
       "      <td>2,748.34</td>\n",
       "      <td>...</td>\n",
       "      <td>107,348.01</td>\n",
       "      <td>118,190.78</td>\n",
       "      <td>129,812.92</td>\n",
       "      <td>142,481.36</td>\n",
       "      <td>154,600.53</td>\n",
       "      <td>169,780.41</td>\n",
       "      <td>187,034.75</td>\n",
       "      <td>206,161.73</td>\n",
       "      <td>227,236.49</td>\n",
       "      <td>250,213.09</td>\n",
       "    </tr>\n",
       "    <tr>\n",
       "      <th>3429</th>\n",
       "      <td>IND</td>\n",
       "      <td>India</td>\n",
       "      <td>Gross domestic product per capita, current prices</td>\n",
       "      <td>GDP is expressed in current U.S. dollars per p...</td>\n",
       "      <td>U.S. dollars</td>\n",
       "      <td>Units</td>\n",
       "      <td>See notes for:  Gross domestic product, curren...</td>\n",
       "      <td>276.35</td>\n",
       "      <td>280.764</td>\n",
       "      <td>284.468</td>\n",
       "      <td>...</td>\n",
       "      <td>1,639.69</td>\n",
       "      <td>1,761.63</td>\n",
       "      <td>2,014.01</td>\n",
       "      <td>2,037.69</td>\n",
       "      <td>2,171.64</td>\n",
       "      <td>2,338.12</td>\n",
       "      <td>2,529.34</td>\n",
       "      <td>2,737.15</td>\n",
       "      <td>2,965.51</td>\n",
       "      <td>3,209.67</td>\n",
       "    </tr>\n",
       "    <tr>\n",
       "      <th>3430</th>\n",
       "      <td>IND</td>\n",
       "      <td>India</td>\n",
       "      <td>Gross domestic product per capita, current prices</td>\n",
       "      <td>Expressed in GDP in PPP dollars per person. Da...</td>\n",
       "      <td>Purchasing power parity; international dollars</td>\n",
       "      <td>Units</td>\n",
       "      <td>See notes for:  Gross domestic product, curren...</td>\n",
       "      <td>558.9</td>\n",
       "      <td>635.088</td>\n",
       "      <td>682.651</td>\n",
       "      <td>...</td>\n",
       "      <td>6,259.80</td>\n",
       "      <td>6,752.48</td>\n",
       "      <td>7,277.04</td>\n",
       "      <td>7,858.69</td>\n",
       "      <td>8,378.38</td>\n",
       "      <td>9,026.87</td>\n",
       "      <td>9,770.27</td>\n",
       "      <td>10,568.27</td>\n",
       "      <td>11,431.35</td>\n",
       "      <td>12,353.81</td>\n",
       "    </tr>\n",
       "    <tr>\n",
       "      <th>3436</th>\n",
       "      <td>IND</td>\n",
       "      <td>India</td>\n",
       "      <td>Inflation, average consumer prices</td>\n",
       "      <td>Expressed in averages for the year, not end-of...</td>\n",
       "      <td>Index</td>\n",
       "      <td>NaN</td>\n",
       "      <td>Source: National Statistics Office. The origin...</td>\n",
       "      <td>8.96</td>\n",
       "      <td>10.094</td>\n",
       "      <td>10.875</td>\n",
       "      <td>...</td>\n",
       "      <td>132.323</td>\n",
       "      <td>138.278</td>\n",
       "      <td>143.259</td>\n",
       "      <td>148.171</td>\n",
       "      <td>153.262</td>\n",
       "      <td>159.525</td>\n",
       "      <td>166.022</td>\n",
       "      <td>172.737</td>\n",
       "      <td>179.618</td>\n",
       "      <td>186.756</td>\n",
       "    </tr>\n",
       "    <tr>\n",
       "      <th>3437</th>\n",
       "      <td>IND</td>\n",
       "      <td>India</td>\n",
       "      <td>Inflation, average consumer prices</td>\n",
       "      <td>Annual percentages of average consumer prices ...</td>\n",
       "      <td>Percent change</td>\n",
       "      <td>NaN</td>\n",
       "      <td>See notes for:  Inflation, average consumer pr...</td>\n",
       "      <td>11.346</td>\n",
       "      <td>12.654</td>\n",
       "      <td>7.736</td>\n",
       "      <td>...</td>\n",
       "      <td>4.9</td>\n",
       "      <td>4.5</td>\n",
       "      <td>3.602</td>\n",
       "      <td>3.428</td>\n",
       "      <td>3.436</td>\n",
       "      <td>4.086</td>\n",
       "      <td>4.073</td>\n",
       "      <td>4.045</td>\n",
       "      <td>3.983</td>\n",
       "      <td>3.974</td>\n",
       "    </tr>\n",
       "    <tr>\n",
       "      <th>3445</th>\n",
       "      <td>IND</td>\n",
       "      <td>India</td>\n",
       "      <td>Unemployment rate</td>\n",
       "      <td>Unemployment rate can be defined by either the...</td>\n",
       "      <td>Percent of total labor force</td>\n",
       "      <td>NaN</td>\n",
       "      <td>NaN</td>\n",
       "      <td>NaN</td>\n",
       "      <td>NaN</td>\n",
       "      <td>NaN</td>\n",
       "      <td>...</td>\n",
       "      <td>NaN</td>\n",
       "      <td>NaN</td>\n",
       "      <td>NaN</td>\n",
       "      <td>NaN</td>\n",
       "      <td>NaN</td>\n",
       "      <td>NaN</td>\n",
       "      <td>NaN</td>\n",
       "      <td>NaN</td>\n",
       "      <td>NaN</td>\n",
       "      <td>NaN</td>\n",
       "    </tr>\n",
       "  </tbody>\n",
       "</table>\n",
       "<p>6 rows × 52 columns</p>\n",
       "</div>"
      ],
      "text/plain": [
       "     Code Country                                 Subject Descriptor  \\\n",
       "3428  IND   India  Gross domestic product per capita, current prices   \n",
       "3429  IND   India  Gross domestic product per capita, current prices   \n",
       "3430  IND   India  Gross domestic product per capita, current prices   \n",
       "3436  IND   India                 Inflation, average consumer prices   \n",
       "3437  IND   India                 Inflation, average consumer prices   \n",
       "3445  IND   India                                  Unemployment rate   \n",
       "\n",
       "                                          Subject Notes  \\\n",
       "3428  GDP is expressed in current national currency ...   \n",
       "3429  GDP is expressed in current U.S. dollars per p...   \n",
       "3430  Expressed in GDP in PPP dollars per person. Da...   \n",
       "3436  Expressed in averages for the year, not end-of...   \n",
       "3437  Annual percentages of average consumer prices ...   \n",
       "3445  Unemployment rate can be defined by either the...   \n",
       "\n",
       "                                               Units  Scale  \\\n",
       "3428                               National currency  Units   \n",
       "3429                                    U.S. dollars  Units   \n",
       "3430  Purchasing power parity; international dollars  Units   \n",
       "3436                                           Index    NaN   \n",
       "3437                                  Percent change    NaN   \n",
       "3445                    Percent of total labor force    NaN   \n",
       "\n",
       "                          Country/Series-specific Notes      1980      1981  \\\n",
       "3428  See notes for:  Gross domestic product, curren...  2,182.96  2,511.51   \n",
       "3429  See notes for:  Gross domestic product, curren...    276.35   280.764   \n",
       "3430  See notes for:  Gross domestic product, curren...     558.9   635.088   \n",
       "3436  Source: National Statistics Office. The origin...      8.96    10.094   \n",
       "3437  See notes for:  Inflation, average consumer pr...    11.346    12.654   \n",
       "3445                                                NaN       NaN       NaN   \n",
       "\n",
       "          1982  ...        2015        2016        2017        2018  \\\n",
       "3428  2,748.34  ...  107,348.01  118,190.78  129,812.92  142,481.36   \n",
       "3429   284.468  ...    1,639.69    1,761.63    2,014.01    2,037.69   \n",
       "3430   682.651  ...    6,259.80    6,752.48    7,277.04    7,858.69   \n",
       "3436    10.875  ...     132.323     138.278     143.259     148.171   \n",
       "3437     7.736  ...         4.9         4.5       3.602       3.428   \n",
       "3445       NaN  ...         NaN         NaN         NaN         NaN   \n",
       "\n",
       "            2019        2020        2021        2022        2023        2024  \n",
       "3428  154,600.53  169,780.41  187,034.75  206,161.73  227,236.49  250,213.09  \n",
       "3429    2,171.64    2,338.12    2,529.34    2,737.15    2,965.51    3,209.67  \n",
       "3430    8,378.38    9,026.87    9,770.27   10,568.27   11,431.35   12,353.81  \n",
       "3436     153.262     159.525     166.022     172.737     179.618     186.756  \n",
       "3437       3.436       4.086       4.073       4.045       3.983       3.974  \n",
       "3445         NaN         NaN         NaN         NaN         NaN         NaN  \n",
       "\n",
       "[6 rows x 52 columns]"
      ]
     },
     "execution_count": 37,
     "metadata": {},
     "output_type": "execute_result"
    }
   ],
   "source": [
    "gdp.loc[gdp[\"Country\"] == \"India\"]"
   ]
  },
  {
   "cell_type": "code",
   "execution_count": 38,
   "metadata": {},
   "outputs": [
    {
     "data": {
      "text/plain": [
       "Gross domestic product per capita, current prices    519\n",
       "Inflation, average consumer prices                   346\n",
       "Unemployment rate                                    173\n",
       "Name: Subject Descriptor, dtype: int64"
      ]
     },
     "execution_count": 38,
     "metadata": {},
     "output_type": "execute_result"
    }
   ],
   "source": [
    "gdp[\"Subject Descriptor\"].value_counts()"
   ]
  },
  {
   "cell_type": "code",
   "execution_count": 39,
   "metadata": {},
   "outputs": [
    {
     "data": {
      "text/plain": [
       "Percent of total labor force                      173\n",
       "U.S. dollars                                      173\n",
       "Index                                             173\n",
       "Percent change                                    173\n",
       "Purchasing power parity; international dollars    173\n",
       "National currency                                 173\n",
       "Name: Units, dtype: int64"
      ]
     },
     "execution_count": 39,
     "metadata": {},
     "output_type": "execute_result"
    }
   ],
   "source": [
    "gdp[\"Units\"].value_counts()"
   ]
  },
  {
   "cell_type": "code",
   "execution_count": 40,
   "metadata": {},
   "outputs": [],
   "source": [
    "gdp.drop(columns = [\"Subject Notes\", \"Scale\", \"Country/Series-specific Notes\"], inplace = True)"
   ]
  },
  {
   "cell_type": "code",
   "execution_count": 41,
   "metadata": {},
   "outputs": [
    {
     "data": {
      "text/plain": [
       "Code                    0\n",
       "Country                 0\n",
       "Subject Descriptor      0\n",
       "Units                   0\n",
       "1980                  370\n",
       "1981                  359\n",
       "1982                  357\n",
       "1983                  353\n",
       "1984                  351\n",
       "1985                  347\n",
       "1986                  343\n",
       "1987                  341\n",
       "1988                  339\n",
       "1989                  337\n",
       "1990                  303\n",
       "1991                  291\n",
       "1992                  231\n",
       "1993                  211\n",
       "1994                  202\n",
       "1995                  178\n",
       "1996                  167\n",
       "1997                  155\n",
       "1998                  143\n",
       "1999                  137\n",
       "2000                  117\n",
       "2001                  111\n",
       "2002                  103\n",
       "2003                   97\n",
       "2004                   90\n",
       "2005                   88\n",
       "2006                   88\n",
       "2007                   83\n",
       "2008                   83\n",
       "2009                   83\n",
       "2010                   82\n",
       "2011                   84\n",
       "2012                   83\n",
       "2013                   83\n",
       "2014                   85\n",
       "2015                   85\n",
       "2016                   84\n",
       "2017                   83\n",
       "2018                   85\n",
       "2019                   93\n",
       "2020                   94\n",
       "2021                   94\n",
       "2022                   97\n",
       "2023                   97\n",
       "2024                   97\n",
       "dtype: int64"
      ]
     },
     "execution_count": 41,
     "metadata": {},
     "output_type": "execute_result"
    }
   ],
   "source": [
    "gdp.isna().sum()"
   ]
  },
  {
   "cell_type": "code",
   "execution_count": 42,
   "metadata": {},
   "outputs": [],
   "source": [
    "gdp_new = gdp.loc[(gdp[\"Units\"] == \"U.S. dollars\") | (gdp[\"Units\"] == \"Percent change\") | (gdp[\"Units\"] == \"Percent of total labor force\")]"
   ]
  },
  {
   "cell_type": "code",
   "execution_count": 43,
   "metadata": {},
   "outputs": [
    {
     "data": {
      "text/html": [
       "<div>\n",
       "<style scoped>\n",
       "    .dataframe tbody tr th:only-of-type {\n",
       "        vertical-align: middle;\n",
       "    }\n",
       "\n",
       "    .dataframe tbody tr th {\n",
       "        vertical-align: top;\n",
       "    }\n",
       "\n",
       "    .dataframe thead th {\n",
       "        text-align: right;\n",
       "    }\n",
       "</style>\n",
       "<table border=\"1\" class=\"dataframe\">\n",
       "  <thead>\n",
       "    <tr style=\"text-align: right;\">\n",
       "      <th></th>\n",
       "      <th>Code</th>\n",
       "      <th>Country</th>\n",
       "      <th>Subject Descriptor</th>\n",
       "      <th>Units</th>\n",
       "      <th>1980</th>\n",
       "      <th>1981</th>\n",
       "      <th>1982</th>\n",
       "      <th>1983</th>\n",
       "      <th>1984</th>\n",
       "      <th>1985</th>\n",
       "      <th>...</th>\n",
       "      <th>2015</th>\n",
       "      <th>2016</th>\n",
       "      <th>2017</th>\n",
       "      <th>2018</th>\n",
       "      <th>2019</th>\n",
       "      <th>2020</th>\n",
       "      <th>2021</th>\n",
       "      <th>2022</th>\n",
       "      <th>2023</th>\n",
       "      <th>2024</th>\n",
       "    </tr>\n",
       "  </thead>\n",
       "  <tbody>\n",
       "    <tr>\n",
       "      <th>1584</th>\n",
       "      <td>CHN</td>\n",
       "      <td>China</td>\n",
       "      <td>Gross domestic product per capita, current prices</td>\n",
       "      <td>U.S. dollars</td>\n",
       "      <td>309.354</td>\n",
       "      <td>290.617</td>\n",
       "      <td>282.054</td>\n",
       "      <td>298.692</td>\n",
       "      <td>303.408</td>\n",
       "      <td>295.336</td>\n",
       "      <td>...</td>\n",
       "      <td>8,166.76</td>\n",
       "      <td>8,115.83</td>\n",
       "      <td>8,677.40</td>\n",
       "      <td>9,580.24</td>\n",
       "      <td>10,098.87</td>\n",
       "      <td>10,872.50</td>\n",
       "      <td>11,773.10</td>\n",
       "      <td>12,718.79</td>\n",
       "      <td>13,723.67</td>\n",
       "      <td>14,811.79</td>\n",
       "    </tr>\n",
       "    <tr>\n",
       "      <th>1592</th>\n",
       "      <td>CHN</td>\n",
       "      <td>China</td>\n",
       "      <td>Inflation, average consumer prices</td>\n",
       "      <td>Percent change</td>\n",
       "      <td>NaN</td>\n",
       "      <td>2.5</td>\n",
       "      <td>2</td>\n",
       "      <td>2</td>\n",
       "      <td>2.7</td>\n",
       "      <td>9.3</td>\n",
       "      <td>...</td>\n",
       "      <td>1.441</td>\n",
       "      <td>2.003</td>\n",
       "      <td>1.558</td>\n",
       "      <td>2.1</td>\n",
       "      <td>2.305</td>\n",
       "      <td>2.432</td>\n",
       "      <td>2.8</td>\n",
       "      <td>2.9</td>\n",
       "      <td>3</td>\n",
       "      <td>3</td>\n",
       "    </tr>\n",
       "    <tr>\n",
       "      <th>1600</th>\n",
       "      <td>CHN</td>\n",
       "      <td>China</td>\n",
       "      <td>Unemployment rate</td>\n",
       "      <td>Percent of total labor force</td>\n",
       "      <td>4.9</td>\n",
       "      <td>3.8</td>\n",
       "      <td>3.2</td>\n",
       "      <td>2.3</td>\n",
       "      <td>1.9</td>\n",
       "      <td>1.8</td>\n",
       "      <td>...</td>\n",
       "      <td>4.05</td>\n",
       "      <td>4.02</td>\n",
       "      <td>3.9</td>\n",
       "      <td>3.8</td>\n",
       "      <td>3.8</td>\n",
       "      <td>3.8</td>\n",
       "      <td>3.8</td>\n",
       "      <td>3.8</td>\n",
       "      <td>3.8</td>\n",
       "      <td>3.8</td>\n",
       "    </tr>\n",
       "  </tbody>\n",
       "</table>\n",
       "<p>3 rows × 49 columns</p>\n",
       "</div>"
      ],
      "text/plain": [
       "     Code Country                                 Subject Descriptor  \\\n",
       "1584  CHN   China  Gross domestic product per capita, current prices   \n",
       "1592  CHN   China                 Inflation, average consumer prices   \n",
       "1600  CHN   China                                  Unemployment rate   \n",
       "\n",
       "                             Units     1980     1981     1982     1983  \\\n",
       "1584                  U.S. dollars  309.354  290.617  282.054  298.692   \n",
       "1592                Percent change      NaN      2.5        2        2   \n",
       "1600  Percent of total labor force      4.9      3.8      3.2      2.3   \n",
       "\n",
       "         1984     1985  ...      2015      2016      2017      2018  \\\n",
       "1584  303.408  295.336  ...  8,166.76  8,115.83  8,677.40  9,580.24   \n",
       "1592      2.7      9.3  ...     1.441     2.003     1.558       2.1   \n",
       "1600      1.9      1.8  ...      4.05      4.02       3.9       3.8   \n",
       "\n",
       "           2019       2020       2021       2022       2023       2024  \n",
       "1584  10,098.87  10,872.50  11,773.10  12,718.79  13,723.67  14,811.79  \n",
       "1592      2.305      2.432        2.8        2.9          3          3  \n",
       "1600        3.8        3.8        3.8        3.8        3.8        3.8  \n",
       "\n",
       "[3 rows x 49 columns]"
      ]
     },
     "execution_count": 43,
     "metadata": {},
     "output_type": "execute_result"
    }
   ],
   "source": [
    "gdp_new.loc[gdp_new[\"Country\"] == \"China\"]"
   ]
  },
  {
   "cell_type": "code",
   "execution_count": 44,
   "metadata": {},
   "outputs": [
    {
     "data": {
      "text/plain": [
       "Index(['Code', 'Country', 'Subject Descriptor', 'Units', '1980', '1981',\n",
       "       '1982', '1983', '1984', '1985', '1986', '1987', '1988', '1989', '1990',\n",
       "       '1991', '1992', '1993', '1994', '1995', '1996', '1997', '1998', '1999',\n",
       "       '2000', '2001', '2002', '2003', '2004', '2005', '2006', '2007', '2008',\n",
       "       '2009', '2010', '2011', '2012', '2013', '2014', '2015', '2016', '2017',\n",
       "       '2018', '2019', '2020', '2021', '2022', '2023', '2024'],\n",
       "      dtype='object')"
      ]
     },
     "execution_count": 44,
     "metadata": {},
     "output_type": "execute_result"
    }
   ],
   "source": [
    "gdp_new.columns"
   ]
  },
  {
   "cell_type": "code",
   "execution_count": 45,
   "metadata": {
    "scrolled": true
   },
   "outputs": [
    {
     "data": {
      "text/html": [
       "<div>\n",
       "<style scoped>\n",
       "    .dataframe tbody tr th:only-of-type {\n",
       "        vertical-align: middle;\n",
       "    }\n",
       "\n",
       "    .dataframe tbody tr th {\n",
       "        vertical-align: top;\n",
       "    }\n",
       "\n",
       "    .dataframe thead th {\n",
       "        text-align: right;\n",
       "    }\n",
       "</style>\n",
       "<table border=\"1\" class=\"dataframe\">\n",
       "  <thead>\n",
       "    <tr style=\"text-align: right;\">\n",
       "      <th></th>\n",
       "      <th>Code</th>\n",
       "      <th>Country</th>\n",
       "      <th>Subject Descriptor</th>\n",
       "      <th>Units</th>\n",
       "      <th>1980</th>\n",
       "      <th>1981</th>\n",
       "      <th>1982</th>\n",
       "      <th>1983</th>\n",
       "      <th>1984</th>\n",
       "      <th>1985</th>\n",
       "      <th>...</th>\n",
       "      <th>2015</th>\n",
       "      <th>2016</th>\n",
       "      <th>2017</th>\n",
       "      <th>2018</th>\n",
       "      <th>2019</th>\n",
       "      <th>2020</th>\n",
       "      <th>2021</th>\n",
       "      <th>2022</th>\n",
       "      <th>2023</th>\n",
       "      <th>2024</th>\n",
       "    </tr>\n",
       "  </thead>\n",
       "  <tbody>\n",
       "    <tr>\n",
       "      <th>9</th>\n",
       "      <td>AFG</td>\n",
       "      <td>Afghanistan</td>\n",
       "      <td>Gross domestic product per capita, current prices</td>\n",
       "      <td>U.S. dollars</td>\n",
       "      <td>NaN</td>\n",
       "      <td>NaN</td>\n",
       "      <td>NaN</td>\n",
       "      <td>NaN</td>\n",
       "      <td>NaN</td>\n",
       "      <td>NaN</td>\n",
       "      <td>...</td>\n",
       "      <td>594.513</td>\n",
       "      <td>560.601</td>\n",
       "      <td>569.531</td>\n",
       "      <td>544.983</td>\n",
       "      <td>513.108</td>\n",
       "      <td>509.759</td>\n",
       "      <td>533.089</td>\n",
       "      <td>566.416</td>\n",
       "      <td>602.884</td>\n",
       "      <td>644.95</td>\n",
       "    </tr>\n",
       "    <tr>\n",
       "      <th>17</th>\n",
       "      <td>AFG</td>\n",
       "      <td>Afghanistan</td>\n",
       "      <td>Inflation, average consumer prices</td>\n",
       "      <td>Percent change</td>\n",
       "      <td>NaN</td>\n",
       "      <td>NaN</td>\n",
       "      <td>NaN</td>\n",
       "      <td>NaN</td>\n",
       "      <td>NaN</td>\n",
       "      <td>NaN</td>\n",
       "      <td>...</td>\n",
       "      <td>-0.662</td>\n",
       "      <td>4.384</td>\n",
       "      <td>4.976</td>\n",
       "      <td>0.626</td>\n",
       "      <td>2.587</td>\n",
       "      <td>4.502</td>\n",
       "      <td>4.748</td>\n",
       "      <td>5</td>\n",
       "      <td>5</td>\n",
       "      <td>5</td>\n",
       "    </tr>\n",
       "    <tr>\n",
       "      <th>25</th>\n",
       "      <td>AFG</td>\n",
       "      <td>Afghanistan</td>\n",
       "      <td>Unemployment rate</td>\n",
       "      <td>Percent of total labor force</td>\n",
       "      <td>NaN</td>\n",
       "      <td>NaN</td>\n",
       "      <td>NaN</td>\n",
       "      <td>NaN</td>\n",
       "      <td>NaN</td>\n",
       "      <td>NaN</td>\n",
       "      <td>...</td>\n",
       "      <td>NaN</td>\n",
       "      <td>NaN</td>\n",
       "      <td>NaN</td>\n",
       "      <td>NaN</td>\n",
       "      <td>NaN</td>\n",
       "      <td>NaN</td>\n",
       "      <td>NaN</td>\n",
       "      <td>NaN</td>\n",
       "      <td>NaN</td>\n",
       "      <td>NaN</td>\n",
       "    </tr>\n",
       "    <tr>\n",
       "      <th>54</th>\n",
       "      <td>ALB</td>\n",
       "      <td>Albania</td>\n",
       "      <td>Gross domestic product per capita, current prices</td>\n",
       "      <td>U.S. dollars</td>\n",
       "      <td>728.359</td>\n",
       "      <td>817.734</td>\n",
       "      <td>824.542</td>\n",
       "      <td>815.529</td>\n",
       "      <td>788.332</td>\n",
       "      <td>788.801</td>\n",
       "      <td>...</td>\n",
       "      <td>3,953.61</td>\n",
       "      <td>4,124.41</td>\n",
       "      <td>4,540.46</td>\n",
       "      <td>5,239.21</td>\n",
       "      <td>5,372.74</td>\n",
       "      <td>5,847.06</td>\n",
       "      <td>6,333.43</td>\n",
       "      <td>6,876.57</td>\n",
       "      <td>7,410.75</td>\n",
       "      <td>7,993.47</td>\n",
       "    </tr>\n",
       "    <tr>\n",
       "      <th>62</th>\n",
       "      <td>ALB</td>\n",
       "      <td>Albania</td>\n",
       "      <td>Inflation, average consumer prices</td>\n",
       "      <td>Percent change</td>\n",
       "      <td>NaN</td>\n",
       "      <td>NaN</td>\n",
       "      <td>NaN</td>\n",
       "      <td>NaN</td>\n",
       "      <td>NaN</td>\n",
       "      <td>NaN</td>\n",
       "      <td>...</td>\n",
       "      <td>1.868</td>\n",
       "      <td>1.282</td>\n",
       "      <td>1.987</td>\n",
       "      <td>2.029</td>\n",
       "      <td>1.799</td>\n",
       "      <td>2</td>\n",
       "      <td>2.4</td>\n",
       "      <td>2.8</td>\n",
       "      <td>3</td>\n",
       "      <td>3</td>\n",
       "    </tr>\n",
       "  </tbody>\n",
       "</table>\n",
       "<p>5 rows × 49 columns</p>\n",
       "</div>"
      ],
      "text/plain": [
       "   Code      Country                                 Subject Descriptor  \\\n",
       "9   AFG  Afghanistan  Gross domestic product per capita, current prices   \n",
       "17  AFG  Afghanistan                 Inflation, average consumer prices   \n",
       "25  AFG  Afghanistan                                  Unemployment rate   \n",
       "54  ALB      Albania  Gross domestic product per capita, current prices   \n",
       "62  ALB      Albania                 Inflation, average consumer prices   \n",
       "\n",
       "                           Units     1980     1981     1982     1983     1984  \\\n",
       "9                   U.S. dollars      NaN      NaN      NaN      NaN      NaN   \n",
       "17                Percent change      NaN      NaN      NaN      NaN      NaN   \n",
       "25  Percent of total labor force      NaN      NaN      NaN      NaN      NaN   \n",
       "54                  U.S. dollars  728.359  817.734  824.542  815.529  788.332   \n",
       "62                Percent change      NaN      NaN      NaN      NaN      NaN   \n",
       "\n",
       "       1985  ...      2015      2016      2017      2018      2019      2020  \\\n",
       "9       NaN  ...   594.513   560.601   569.531   544.983   513.108   509.759   \n",
       "17      NaN  ...    -0.662     4.384     4.976     0.626     2.587     4.502   \n",
       "25      NaN  ...       NaN       NaN       NaN       NaN       NaN       NaN   \n",
       "54  788.801  ...  3,953.61  4,124.41  4,540.46  5,239.21  5,372.74  5,847.06   \n",
       "62      NaN  ...     1.868     1.282     1.987     2.029     1.799         2   \n",
       "\n",
       "        2021      2022      2023      2024  \n",
       "9    533.089   566.416   602.884    644.95  \n",
       "17     4.748         5         5         5  \n",
       "25       NaN       NaN       NaN       NaN  \n",
       "54  6,333.43  6,876.57  7,410.75  7,993.47  \n",
       "62       2.4       2.8         3         3  \n",
       "\n",
       "[5 rows x 49 columns]"
      ]
     },
     "execution_count": 45,
     "metadata": {},
     "output_type": "execute_result"
    }
   ],
   "source": [
    "gdp_new.head()"
   ]
  },
  {
   "cell_type": "markdown",
   "metadata": {},
   "source": [
    "#### Goal:\n",
    "\n",
    "|Country|Code|Year|GDP per capita|Inflation percent| Unemployment rate|\n",
    "|-------|----|----|--------------|-----------------|------------------|\n",
    "|Afghan |AFG |2015| 594.513      |  -0.662         |  NaN             |\n",
    "|Afghan |AFG |2016| 560.601      |   4.384         |  NaN             |\n",
    "|...    |... |\n"
   ]
  },
  {
   "cell_type": "code",
   "execution_count": 46,
   "metadata": {},
   "outputs": [
    {
     "data": {
      "text/html": [
       "<div>\n",
       "<style scoped>\n",
       "    .dataframe tbody tr th:only-of-type {\n",
       "        vertical-align: middle;\n",
       "    }\n",
       "\n",
       "    .dataframe tbody tr th {\n",
       "        vertical-align: top;\n",
       "    }\n",
       "\n",
       "    .dataframe thead th {\n",
       "        text-align: right;\n",
       "    }\n",
       "</style>\n",
       "<table border=\"1\" class=\"dataframe\">\n",
       "  <thead>\n",
       "    <tr style=\"text-align: right;\">\n",
       "      <th></th>\n",
       "      <th>Code</th>\n",
       "      <th>Country</th>\n",
       "      <th>Year</th>\n",
       "      <th>value</th>\n",
       "    </tr>\n",
       "  </thead>\n",
       "  <tbody>\n",
       "    <tr>\n",
       "      <th>0</th>\n",
       "      <td>AFG</td>\n",
       "      <td>Afghanistan</td>\n",
       "      <td>1980</td>\n",
       "      <td>NaN</td>\n",
       "    </tr>\n",
       "    <tr>\n",
       "      <th>1</th>\n",
       "      <td>AFG</td>\n",
       "      <td>Afghanistan</td>\n",
       "      <td>1980</td>\n",
       "      <td>NaN</td>\n",
       "    </tr>\n",
       "    <tr>\n",
       "      <th>2</th>\n",
       "      <td>AFG</td>\n",
       "      <td>Afghanistan</td>\n",
       "      <td>1980</td>\n",
       "      <td>NaN</td>\n",
       "    </tr>\n",
       "    <tr>\n",
       "      <th>3</th>\n",
       "      <td>ALB</td>\n",
       "      <td>Albania</td>\n",
       "      <td>1980</td>\n",
       "      <td>728.359</td>\n",
       "    </tr>\n",
       "    <tr>\n",
       "      <th>4</th>\n",
       "      <td>ALB</td>\n",
       "      <td>Albania</td>\n",
       "      <td>1980</td>\n",
       "      <td>NaN</td>\n",
       "    </tr>\n",
       "    <tr>\n",
       "      <th>...</th>\n",
       "      <td>...</td>\n",
       "      <td>...</td>\n",
       "      <td>...</td>\n",
       "      <td>...</td>\n",
       "    </tr>\n",
       "    <tr>\n",
       "      <th>23350</th>\n",
       "      <td>ZMB</td>\n",
       "      <td>Zambia</td>\n",
       "      <td>2024</td>\n",
       "      <td>8</td>\n",
       "    </tr>\n",
       "    <tr>\n",
       "      <th>23351</th>\n",
       "      <td>ZMB</td>\n",
       "      <td>Zambia</td>\n",
       "      <td>2024</td>\n",
       "      <td>NaN</td>\n",
       "    </tr>\n",
       "    <tr>\n",
       "      <th>23352</th>\n",
       "      <td>ZWE</td>\n",
       "      <td>Zimbabwe</td>\n",
       "      <td>2024</td>\n",
       "      <td>971.081</td>\n",
       "    </tr>\n",
       "    <tr>\n",
       "      <th>23353</th>\n",
       "      <td>ZWE</td>\n",
       "      <td>Zimbabwe</td>\n",
       "      <td>2024</td>\n",
       "      <td>3</td>\n",
       "    </tr>\n",
       "    <tr>\n",
       "      <th>23354</th>\n",
       "      <td>ZWE</td>\n",
       "      <td>Zimbabwe</td>\n",
       "      <td>2024</td>\n",
       "      <td>NaN</td>\n",
       "    </tr>\n",
       "  </tbody>\n",
       "</table>\n",
       "<p>23355 rows × 4 columns</p>\n",
       "</div>"
      ],
      "text/plain": [
       "      Code      Country  Year    value\n",
       "0      AFG  Afghanistan  1980      NaN\n",
       "1      AFG  Afghanistan  1980      NaN\n",
       "2      AFG  Afghanistan  1980      NaN\n",
       "3      ALB      Albania  1980  728.359\n",
       "4      ALB      Albania  1980      NaN\n",
       "...    ...          ...   ...      ...\n",
       "23350  ZMB       Zambia  2024        8\n",
       "23351  ZMB       Zambia  2024      NaN\n",
       "23352  ZWE     Zimbabwe  2024  971.081\n",
       "23353  ZWE     Zimbabwe  2024        3\n",
       "23354  ZWE     Zimbabwe  2024      NaN\n",
       "\n",
       "[23355 rows x 4 columns]"
      ]
     },
     "execution_count": 46,
     "metadata": {},
     "output_type": "execute_result"
    }
   ],
   "source": [
    "pd.melt(gdp_new, id_vars = [\"Code\", \"Country\"], value_vars = ['1980', '1981',\n",
    "       '1982', '1983', '1984', '1985', '1986', '1987', '1988', '1989', '1990',\n",
    "       '1991', '1992', '1993', '1994', '1995', '1996', '1997', '1998', '1999',\n",
    "       '2000', '2001', '2002', '2003', '2004', '2005', '2006', '2007', '2008',\n",
    "       '2009', '2010', '2011', '2012', '2013', '2014', '2015', '2016', '2017',\n",
    "       '2018', '2019', '2020', '2021', '2022', '2023', '2024'], var_name = \"Year\")"
   ]
  },
  {
   "cell_type": "markdown",
   "metadata": {},
   "source": [
    "Using melt works, but I'll need to create separate dfs for each `Subject Descriptor`"
   ]
  },
  {
   "cell_type": "code",
   "execution_count": 47,
   "metadata": {},
   "outputs": [
    {
     "name": "stderr",
     "output_type": "stream",
     "text": [
      "C:\\Anaconda\\envs\\new_env\\lib\\site-packages\\pandas\\core\\frame.py:3990: SettingWithCopyWarning: \n",
      "A value is trying to be set on a copy of a slice from a DataFrame\n",
      "\n",
      "See the caveats in the documentation: https://pandas.pydata.org/pandas-docs/stable/user_guide/indexing.html#returning-a-view-versus-a-copy\n",
      "  return super().drop(\n"
     ]
    }
   ],
   "source": [
    "gdp_new.drop(columns = \"Units\", inplace = True)"
   ]
  },
  {
   "cell_type": "code",
   "execution_count": 48,
   "metadata": {},
   "outputs": [],
   "source": [
    "gdp_gdp = gdp_new.loc[gdp_new[\"Subject Descriptor\"] == \"Gross domestic product per capita, current prices\"]"
   ]
  },
  {
   "cell_type": "code",
   "execution_count": 49,
   "metadata": {},
   "outputs": [],
   "source": [
    "gdp_infla = gdp_new.loc[gdp_new[\"Subject Descriptor\"] == \"Inflation, average consumer prices\"]"
   ]
  },
  {
   "cell_type": "code",
   "execution_count": 50,
   "metadata": {},
   "outputs": [],
   "source": [
    "gdp_unem = gdp_new.loc[gdp_new[\"Subject Descriptor\"] == \"Unemployment rate\"]"
   ]
  },
  {
   "cell_type": "code",
   "execution_count": 51,
   "metadata": {},
   "outputs": [
    {
     "data": {
      "text/html": [
       "<div>\n",
       "<style scoped>\n",
       "    .dataframe tbody tr th:only-of-type {\n",
       "        vertical-align: middle;\n",
       "    }\n",
       "\n",
       "    .dataframe tbody tr th {\n",
       "        vertical-align: top;\n",
       "    }\n",
       "\n",
       "    .dataframe thead th {\n",
       "        text-align: right;\n",
       "    }\n",
       "</style>\n",
       "<table border=\"1\" class=\"dataframe\">\n",
       "  <thead>\n",
       "    <tr style=\"text-align: right;\">\n",
       "      <th></th>\n",
       "      <th>Code</th>\n",
       "      <th>Country</th>\n",
       "      <th>Subject Descriptor</th>\n",
       "      <th>1980</th>\n",
       "      <th>1981</th>\n",
       "      <th>1982</th>\n",
       "      <th>1983</th>\n",
       "      <th>1984</th>\n",
       "      <th>1985</th>\n",
       "      <th>1986</th>\n",
       "      <th>...</th>\n",
       "      <th>2015</th>\n",
       "      <th>2016</th>\n",
       "      <th>2017</th>\n",
       "      <th>2018</th>\n",
       "      <th>2019</th>\n",
       "      <th>2020</th>\n",
       "      <th>2021</th>\n",
       "      <th>2022</th>\n",
       "      <th>2023</th>\n",
       "      <th>2024</th>\n",
       "    </tr>\n",
       "  </thead>\n",
       "  <tbody>\n",
       "    <tr>\n",
       "      <th>3445</th>\n",
       "      <td>IND</td>\n",
       "      <td>India</td>\n",
       "      <td>Unemployment rate</td>\n",
       "      <td>NaN</td>\n",
       "      <td>NaN</td>\n",
       "      <td>NaN</td>\n",
       "      <td>NaN</td>\n",
       "      <td>NaN</td>\n",
       "      <td>NaN</td>\n",
       "      <td>NaN</td>\n",
       "      <td>...</td>\n",
       "      <td>NaN</td>\n",
       "      <td>NaN</td>\n",
       "      <td>NaN</td>\n",
       "      <td>NaN</td>\n",
       "      <td>NaN</td>\n",
       "      <td>NaN</td>\n",
       "      <td>NaN</td>\n",
       "      <td>NaN</td>\n",
       "      <td>NaN</td>\n",
       "      <td>NaN</td>\n",
       "    </tr>\n",
       "  </tbody>\n",
       "</table>\n",
       "<p>1 rows × 48 columns</p>\n",
       "</div>"
      ],
      "text/plain": [
       "     Code Country Subject Descriptor 1980 1981 1982 1983 1984 1985 1986  ...  \\\n",
       "3445  IND   India  Unemployment rate  NaN  NaN  NaN  NaN  NaN  NaN  NaN  ...   \n",
       "\n",
       "     2015 2016 2017 2018 2019 2020 2021 2022 2023 2024  \n",
       "3445  NaN  NaN  NaN  NaN  NaN  NaN  NaN  NaN  NaN  NaN  \n",
       "\n",
       "[1 rows x 48 columns]"
      ]
     },
     "execution_count": 51,
     "metadata": {},
     "output_type": "execute_result"
    }
   ],
   "source": [
    "gdp_unem.loc[gdp_unem[\"Country\"] == \"India\"]"
   ]
  },
  {
   "cell_type": "markdown",
   "metadata": {},
   "source": [
    "No information for unemployment rate for India."
   ]
  },
  {
   "cell_type": "code",
   "execution_count": 52,
   "metadata": {},
   "outputs": [],
   "source": [
    "gdp_pivot = pd.melt(gdp_gdp, \n",
    "                    id_vars = [\"Code\", \"Country\"], \n",
    "                    value_vars = ['1980', '1981',\n",
    "                                  '1982', '1983', '1984', '1985', '1986', '1987', '1988', '1989', '1990',\n",
    "                                  '1991', '1992', '1993', '1994', '1995', '1996', '1997', '1998', '1999',\n",
    "                                  '2000', '2001', '2002', '2003', '2004', '2005', '2006', '2007', '2008',\n",
    "                                  '2009', '2010', '2011', '2012', '2013', '2014', '2015', '2016', '2017',\n",
    "                                  '2018', '2019', '2020', '2021', '2022', '2023', '2024'],\n",
    "                    var_name = \"Year\", \n",
    "                    value_name = \"GDP per capita (USD)\")"
   ]
  },
  {
   "cell_type": "code",
   "execution_count": 53,
   "metadata": {},
   "outputs": [
    {
     "data": {
      "text/plain": [
       "(7785, 4)"
      ]
     },
     "execution_count": 53,
     "metadata": {},
     "output_type": "execute_result"
    }
   ],
   "source": [
    "gdp_pivot.shape"
   ]
  },
  {
   "cell_type": "code",
   "execution_count": 54,
   "metadata": {},
   "outputs": [],
   "source": [
    "infla_pivot = pd.melt(gdp_infla, \n",
    "                      id_vars = [\"Code\", \"Country\"], \n",
    "                      value_vars = ['1980', '1981',\n",
    "                                    '1982', '1983', '1984', '1985', '1986', '1987', '1988', '1989', '1990',\n",
    "                                    '1991', '1992', '1993', '1994', '1995', '1996', '1997', '1998', '1999',\n",
    "                                    '2000', '2001', '2002', '2003', '2004', '2005', '2006', '2007', '2008',\n",
    "                                    '2009', '2010', '2011', '2012', '2013', '2014', '2015', '2016', '2017',\n",
    "                                    '2018', '2019', '2020', '2021', '2022', '2023', '2024'],\n",
    "                      var_name = \"Year\", \n",
    "                      value_name = \"Inflation, avg cons. prices (% change)\")"
   ]
  },
  {
   "cell_type": "code",
   "execution_count": 55,
   "metadata": {},
   "outputs": [
    {
     "data": {
      "text/plain": [
       "(7785, 4)"
      ]
     },
     "execution_count": 55,
     "metadata": {},
     "output_type": "execute_result"
    }
   ],
   "source": [
    "infla_pivot.shape"
   ]
  },
  {
   "cell_type": "code",
   "execution_count": 56,
   "metadata": {},
   "outputs": [],
   "source": [
    "unemp_pivot = pd.melt(gdp_unem, \n",
    "                      id_vars = [\"Code\", \"Country\"], \n",
    "                      value_vars = ['1980', '1981',\n",
    "                                    '1982', '1983', '1984', '1985', '1986', '1987', '1988', '1989', '1990',\n",
    "                                    '1991', '1992', '1993', '1994', '1995', '1996', '1997', '1998', '1999',\n",
    "                                    '2000', '2001', '2002', '2003', '2004', '2005', '2006', '2007', '2008',\n",
    "                                    '2009', '2010', '2011', '2012', '2013', '2014', '2015', '2016', '2017',\n",
    "                                    '2018', '2019', '2020', '2021', '2022', '2023', '2024'],\n",
    "                      var_name = \"Year\", \n",
    "                      value_name = \"Unemployment rate\")"
   ]
  },
  {
   "cell_type": "code",
   "execution_count": 57,
   "metadata": {},
   "outputs": [
    {
     "data": {
      "text/plain": [
       "(7785, 4)"
      ]
     },
     "execution_count": 57,
     "metadata": {},
     "output_type": "execute_result"
    }
   ],
   "source": [
    "unemp_pivot.shape"
   ]
  },
  {
   "cell_type": "code",
   "execution_count": 58,
   "metadata": {},
   "outputs": [],
   "source": [
    "gdp_merged = gdp_pivot.merge(infla_pivot, on = [\"Code\", \"Country\", \"Year\"], how = \"left\")"
   ]
  },
  {
   "cell_type": "code",
   "execution_count": 59,
   "metadata": {},
   "outputs": [],
   "source": [
    "gdp_merged = gdp_merged.merge(unemp_pivot, on = [\"Code\", \"Country\", \"Year\"], how = \"left\")"
   ]
  },
  {
   "cell_type": "markdown",
   "metadata": {},
   "source": [
    "Now that the dataframe looks like I want, is time to finish the cleaning. "
   ]
  },
  {
   "cell_type": "code",
   "execution_count": 60,
   "metadata": {},
   "outputs": [
    {
     "data": {
      "text/plain": [
       "Code                                      object\n",
       "Country                                   object\n",
       "Year                                      object\n",
       "GDP per capita (USD)                      object\n",
       "Inflation, avg cons. prices (% change)    object\n",
       "Unemployment rate                         object\n",
       "dtype: object"
      ]
     },
     "execution_count": 60,
     "metadata": {},
     "output_type": "execute_result"
    }
   ],
   "source": [
    "gdp_merged.dtypes"
   ]
  },
  {
   "cell_type": "code",
   "execution_count": 61,
   "metadata": {},
   "outputs": [],
   "source": [
    "gdp_merged[\"Year\"] = pd.to_datetime(gdp_merged[\"Year\"], format = \"%Y\")"
   ]
  },
  {
   "cell_type": "code",
   "execution_count": 62,
   "metadata": {},
   "outputs": [
    {
     "data": {
      "text/html": [
       "<div>\n",
       "<style scoped>\n",
       "    .dataframe tbody tr th:only-of-type {\n",
       "        vertical-align: middle;\n",
       "    }\n",
       "\n",
       "    .dataframe tbody tr th {\n",
       "        vertical-align: top;\n",
       "    }\n",
       "\n",
       "    .dataframe thead th {\n",
       "        text-align: right;\n",
       "    }\n",
       "</style>\n",
       "<table border=\"1\" class=\"dataframe\">\n",
       "  <thead>\n",
       "    <tr style=\"text-align: right;\">\n",
       "      <th></th>\n",
       "      <th>Code</th>\n",
       "      <th>Country</th>\n",
       "      <th>Year</th>\n",
       "      <th>GDP per capita (USD)</th>\n",
       "      <th>Inflation, avg cons. prices (% change)</th>\n",
       "      <th>Unemployment rate</th>\n",
       "    </tr>\n",
       "  </thead>\n",
       "  <tbody>\n",
       "    <tr>\n",
       "      <th>0</th>\n",
       "      <td>AFG</td>\n",
       "      <td>Afghanistan</td>\n",
       "      <td>1980-01-01</td>\n",
       "      <td>NaN</td>\n",
       "      <td>NaN</td>\n",
       "      <td>NaN</td>\n",
       "    </tr>\n",
       "    <tr>\n",
       "      <th>1</th>\n",
       "      <td>ALB</td>\n",
       "      <td>Albania</td>\n",
       "      <td>1980-01-01</td>\n",
       "      <td>728.359</td>\n",
       "      <td>NaN</td>\n",
       "      <td>5.028</td>\n",
       "    </tr>\n",
       "    <tr>\n",
       "      <th>2</th>\n",
       "      <td>DZA</td>\n",
       "      <td>Algeria</td>\n",
       "      <td>1980-01-01</td>\n",
       "      <td>2,268.61</td>\n",
       "      <td>9.668</td>\n",
       "      <td>15.789</td>\n",
       "    </tr>\n",
       "    <tr>\n",
       "      <th>3</th>\n",
       "      <td>AGO</td>\n",
       "      <td>Angola</td>\n",
       "      <td>1980-01-01</td>\n",
       "      <td>745.119</td>\n",
       "      <td>46.708</td>\n",
       "      <td>NaN</td>\n",
       "    </tr>\n",
       "    <tr>\n",
       "      <th>4</th>\n",
       "      <td>ATG</td>\n",
       "      <td>Antigua and Barbuda</td>\n",
       "      <td>1980-01-01</td>\n",
       "      <td>1,920.27</td>\n",
       "      <td>18.999</td>\n",
       "      <td>NaN</td>\n",
       "    </tr>\n",
       "  </tbody>\n",
       "</table>\n",
       "</div>"
      ],
      "text/plain": [
       "  Code              Country       Year GDP per capita (USD)  \\\n",
       "0  AFG          Afghanistan 1980-01-01                  NaN   \n",
       "1  ALB              Albania 1980-01-01              728.359   \n",
       "2  DZA              Algeria 1980-01-01             2,268.61   \n",
       "3  AGO               Angola 1980-01-01              745.119   \n",
       "4  ATG  Antigua and Barbuda 1980-01-01             1,920.27   \n",
       "\n",
       "  Inflation, avg cons. prices (% change) Unemployment rate  \n",
       "0                                    NaN               NaN  \n",
       "1                                    NaN             5.028  \n",
       "2                                  9.668            15.789  \n",
       "3                                 46.708               NaN  \n",
       "4                                 18.999               NaN  "
      ]
     },
     "execution_count": 62,
     "metadata": {},
     "output_type": "execute_result"
    }
   ],
   "source": [
    "gdp_merged.head()"
   ]
  },
  {
   "cell_type": "code",
   "execution_count": 63,
   "metadata": {},
   "outputs": [
    {
     "data": {
      "text/plain": [
       "pandas.core.series.Series"
      ]
     },
     "execution_count": 63,
     "metadata": {},
     "output_type": "execute_result"
    }
   ],
   "source": [
    "type(gdp_merged[\"GDP per capita (USD)\"])"
   ]
  },
  {
   "cell_type": "code",
   "execution_count": 64,
   "metadata": {},
   "outputs": [],
   "source": [
    "gdp_merged[\"GDP per capita (USD)\"] = gdp_merged[\"GDP per capita (USD)\"].str.replace(\",\", \"\")"
   ]
  },
  {
   "cell_type": "code",
   "execution_count": 65,
   "metadata": {},
   "outputs": [],
   "source": [
    "gdp_merged[\"GDP per capita (USD)\"] = pd.to_numeric(gdp_merged[\"GDP per capita (USD)\"])"
   ]
  },
  {
   "cell_type": "code",
   "execution_count": 66,
   "metadata": {},
   "outputs": [],
   "source": [
    "gdp_merged[\"Inflation, avg cons. prices (% change)\"] = gdp_merged[\"Inflation, avg cons. prices (% change)\"].str.replace(\"--\", \"\").str.replace(\",\", \"\")"
   ]
  },
  {
   "cell_type": "code",
   "execution_count": 67,
   "metadata": {},
   "outputs": [],
   "source": [
    "gdp_merged[\"Inflation, avg cons. prices (% change)\"] = pd.to_numeric(gdp_merged[\"Inflation, avg cons. prices (% change)\"])"
   ]
  },
  {
   "cell_type": "code",
   "execution_count": 68,
   "metadata": {},
   "outputs": [],
   "source": [
    "gdp_merged[\"Unemployment rate\"] = pd.to_numeric(gdp_merged[\"Unemployment rate\"])"
   ]
  },
  {
   "cell_type": "code",
   "execution_count": 69,
   "metadata": {},
   "outputs": [
    {
     "data": {
      "text/html": [
       "<div>\n",
       "<style scoped>\n",
       "    .dataframe tbody tr th:only-of-type {\n",
       "        vertical-align: middle;\n",
       "    }\n",
       "\n",
       "    .dataframe tbody tr th {\n",
       "        vertical-align: top;\n",
       "    }\n",
       "\n",
       "    .dataframe thead th {\n",
       "        text-align: right;\n",
       "    }\n",
       "</style>\n",
       "<table border=\"1\" class=\"dataframe\">\n",
       "  <thead>\n",
       "    <tr style=\"text-align: right;\">\n",
       "      <th></th>\n",
       "      <th>Code</th>\n",
       "      <th>Country</th>\n",
       "      <th>Year</th>\n",
       "      <th>GDP per capita (USD)</th>\n",
       "      <th>Inflation, avg cons. prices (% change)</th>\n",
       "      <th>Unemployment rate</th>\n",
       "    </tr>\n",
       "  </thead>\n",
       "  <tbody>\n",
       "    <tr>\n",
       "      <th>0</th>\n",
       "      <td>AFG</td>\n",
       "      <td>Afghanistan</td>\n",
       "      <td>1980-01-01</td>\n",
       "      <td>NaN</td>\n",
       "      <td>NaN</td>\n",
       "      <td>NaN</td>\n",
       "    </tr>\n",
       "    <tr>\n",
       "      <th>1</th>\n",
       "      <td>ALB</td>\n",
       "      <td>Albania</td>\n",
       "      <td>1980-01-01</td>\n",
       "      <td>728.359</td>\n",
       "      <td>NaN</td>\n",
       "      <td>5.028</td>\n",
       "    </tr>\n",
       "    <tr>\n",
       "      <th>2</th>\n",
       "      <td>DZA</td>\n",
       "      <td>Algeria</td>\n",
       "      <td>1980-01-01</td>\n",
       "      <td>2268.610</td>\n",
       "      <td>9.668</td>\n",
       "      <td>15.789</td>\n",
       "    </tr>\n",
       "    <tr>\n",
       "      <th>3</th>\n",
       "      <td>AGO</td>\n",
       "      <td>Angola</td>\n",
       "      <td>1980-01-01</td>\n",
       "      <td>745.119</td>\n",
       "      <td>46.708</td>\n",
       "      <td>NaN</td>\n",
       "    </tr>\n",
       "    <tr>\n",
       "      <th>4</th>\n",
       "      <td>ATG</td>\n",
       "      <td>Antigua and Barbuda</td>\n",
       "      <td>1980-01-01</td>\n",
       "      <td>1920.270</td>\n",
       "      <td>18.999</td>\n",
       "      <td>NaN</td>\n",
       "    </tr>\n",
       "  </tbody>\n",
       "</table>\n",
       "</div>"
      ],
      "text/plain": [
       "  Code              Country       Year  GDP per capita (USD)  \\\n",
       "0  AFG          Afghanistan 1980-01-01                   NaN   \n",
       "1  ALB              Albania 1980-01-01               728.359   \n",
       "2  DZA              Algeria 1980-01-01              2268.610   \n",
       "3  AGO               Angola 1980-01-01               745.119   \n",
       "4  ATG  Antigua and Barbuda 1980-01-01              1920.270   \n",
       "\n",
       "   Inflation, avg cons. prices (% change)  Unemployment rate  \n",
       "0                                     NaN                NaN  \n",
       "1                                     NaN              5.028  \n",
       "2                                   9.668             15.789  \n",
       "3                                  46.708                NaN  \n",
       "4                                  18.999                NaN  "
      ]
     },
     "execution_count": 69,
     "metadata": {},
     "output_type": "execute_result"
    }
   ],
   "source": [
    "gdp_merged.head()"
   ]
  },
  {
   "cell_type": "code",
   "execution_count": 70,
   "metadata": {},
   "outputs": [
    {
     "data": {
      "text/plain": [
       "Code                                              object\n",
       "Country                                           object\n",
       "Year                                      datetime64[ns]\n",
       "GDP per capita (USD)                             float64\n",
       "Inflation, avg cons. prices (% change)           float64\n",
       "Unemployment rate                                float64\n",
       "dtype: object"
      ]
     },
     "execution_count": 70,
     "metadata": {},
     "output_type": "execute_result"
    }
   ],
   "source": [
    "gdp_merged.dtypes"
   ]
  },
  {
   "cell_type": "code",
   "execution_count": 71,
   "metadata": {},
   "outputs": [],
   "source": [
    "gdp_merged[\"Unemployment rate\"] = gdp_merged[\"Unemployment rate\"].round(decimals = 2)"
   ]
  },
  {
   "cell_type": "code",
   "execution_count": 72,
   "metadata": {},
   "outputs": [],
   "source": [
    "gdp_merged[\"Inflation, avg cons. prices (% change)\"] = gdp_merged[\"Inflation, avg cons. prices (% change)\"].round(decimals = 2)"
   ]
  },
  {
   "cell_type": "code",
   "execution_count": 73,
   "metadata": {},
   "outputs": [],
   "source": [
    "gdp_merged[\"GDP per capita (USD)\"] = gdp_merged[\"GDP per capita (USD)\"].round(decimals = 2)"
   ]
  },
  {
   "cell_type": "code",
   "execution_count": 74,
   "metadata": {},
   "outputs": [
    {
     "data": {
      "text/html": [
       "<div>\n",
       "<style scoped>\n",
       "    .dataframe tbody tr th:only-of-type {\n",
       "        vertical-align: middle;\n",
       "    }\n",
       "\n",
       "    .dataframe tbody tr th {\n",
       "        vertical-align: top;\n",
       "    }\n",
       "\n",
       "    .dataframe thead th {\n",
       "        text-align: right;\n",
       "    }\n",
       "</style>\n",
       "<table border=\"1\" class=\"dataframe\">\n",
       "  <thead>\n",
       "    <tr style=\"text-align: right;\">\n",
       "      <th></th>\n",
       "      <th>Code</th>\n",
       "      <th>Country</th>\n",
       "      <th>Year</th>\n",
       "      <th>GDP per capita (USD)</th>\n",
       "      <th>Inflation, avg cons. prices (% change)</th>\n",
       "      <th>Unemployment rate</th>\n",
       "    </tr>\n",
       "  </thead>\n",
       "  <tbody>\n",
       "    <tr>\n",
       "      <th>0</th>\n",
       "      <td>AFG</td>\n",
       "      <td>Afghanistan</td>\n",
       "      <td>1980-01-01</td>\n",
       "      <td>NaN</td>\n",
       "      <td>NaN</td>\n",
       "      <td>NaN</td>\n",
       "    </tr>\n",
       "    <tr>\n",
       "      <th>1</th>\n",
       "      <td>ALB</td>\n",
       "      <td>Albania</td>\n",
       "      <td>1980-01-01</td>\n",
       "      <td>728.36</td>\n",
       "      <td>NaN</td>\n",
       "      <td>5.03</td>\n",
       "    </tr>\n",
       "    <tr>\n",
       "      <th>2</th>\n",
       "      <td>DZA</td>\n",
       "      <td>Algeria</td>\n",
       "      <td>1980-01-01</td>\n",
       "      <td>2268.61</td>\n",
       "      <td>9.67</td>\n",
       "      <td>15.79</td>\n",
       "    </tr>\n",
       "    <tr>\n",
       "      <th>3</th>\n",
       "      <td>AGO</td>\n",
       "      <td>Angola</td>\n",
       "      <td>1980-01-01</td>\n",
       "      <td>745.12</td>\n",
       "      <td>46.71</td>\n",
       "      <td>NaN</td>\n",
       "    </tr>\n",
       "    <tr>\n",
       "      <th>4</th>\n",
       "      <td>ATG</td>\n",
       "      <td>Antigua and Barbuda</td>\n",
       "      <td>1980-01-01</td>\n",
       "      <td>1920.27</td>\n",
       "      <td>19.00</td>\n",
       "      <td>NaN</td>\n",
       "    </tr>\n",
       "  </tbody>\n",
       "</table>\n",
       "</div>"
      ],
      "text/plain": [
       "  Code              Country       Year  GDP per capita (USD)  \\\n",
       "0  AFG          Afghanistan 1980-01-01                   NaN   \n",
       "1  ALB              Albania 1980-01-01                728.36   \n",
       "2  DZA              Algeria 1980-01-01               2268.61   \n",
       "3  AGO               Angola 1980-01-01                745.12   \n",
       "4  ATG  Antigua and Barbuda 1980-01-01               1920.27   \n",
       "\n",
       "   Inflation, avg cons. prices (% change)  Unemployment rate  \n",
       "0                                     NaN                NaN  \n",
       "1                                     NaN               5.03  \n",
       "2                                    9.67              15.79  \n",
       "3                                   46.71                NaN  \n",
       "4                                   19.00                NaN  "
      ]
     },
     "execution_count": 74,
     "metadata": {},
     "output_type": "execute_result"
    }
   ],
   "source": [
    "gdp_merged.head()"
   ]
  },
  {
   "cell_type": "code",
   "execution_count": 75,
   "metadata": {},
   "outputs": [],
   "source": [
    "gdp_merged.to_csv(\"../data/economic-information.csv\", index = False)"
   ]
  },
  {
   "cell_type": "code",
   "execution_count": null,
   "metadata": {},
   "outputs": [],
   "source": []
  }
 ],
 "metadata": {
  "kernelspec": {
   "display_name": "Python 3",
   "language": "python",
   "name": "python3"
  },
  "language_info": {
   "codemirror_mode": {
    "name": "ipython",
    "version": 3
   },
   "file_extension": ".py",
   "mimetype": "text/x-python",
   "name": "python",
   "nbconvert_exporter": "python",
   "pygments_lexer": "ipython3",
   "version": "3.8.2"
  }
 },
 "nbformat": 4,
 "nbformat_minor": 4
}
