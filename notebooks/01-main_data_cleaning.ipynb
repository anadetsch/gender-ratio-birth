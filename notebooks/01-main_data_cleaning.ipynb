{
 "cells": [
  {
   "cell_type": "code",
   "execution_count": 1,
   "metadata": {},
   "outputs": [],
   "source": [
    "import pandas as pd\n",
    "import numpy as np\n",
    "import matplotlib.pyplot as plt\n",
    "import seaborn as sns\n",
    "from bs4 import BeautifulSoup\n",
    "import requests\n",
    "\n",
    "\n",
    "%matplotlib inline"
   ]
  },
  {
   "cell_type": "markdown",
   "metadata": {},
   "source": [
    "The data contains information not just per country, but also grouped per region, continent, economic status. This extra informations are not useful for this project and I chose to keep just the rows containing countries + World informations. \n",
    "\n",
    "Used webscraping for creating a list with the country name and add World to the list. "
   ]
  },
  {
   "cell_type": "code",
   "execution_count": 2,
   "metadata": {},
   "outputs": [],
   "source": [
    "url = \"https://laendercode.net/en/3-letter-list.html\"\n",
    "\n",
    "countries = BeautifulSoup(requests.get(url).content, \"html.parser\")\n",
    "\n",
    "country_list = countries.find_all(\"tr\")"
   ]
  },
  {
   "cell_type": "code",
   "execution_count": 3,
   "metadata": {},
   "outputs": [],
   "source": [
    "for i in range(1,len(country_list)):\n",
    "    country_list[i]= country_list[i].find_all(\"td\")"
   ]
  },
  {
   "cell_type": "code",
   "execution_count": 4,
   "metadata": {},
   "outputs": [],
   "source": [
    "country_names = []\n",
    "\n",
    "parse = [country_list[i] for i in range(1,len(country_list))]\n",
    "\n",
    "for items in parse:\n",
    "    country_names.append(items[1].text)"
   ]
  },
  {
   "cell_type": "code",
   "execution_count": 5,
   "metadata": {},
   "outputs": [],
   "source": [
    "country_names.append(\"World\")\n",
    "country_names.append(\"Rest of World\")"
   ]
  },
  {
   "cell_type": "code",
   "execution_count": 6,
   "metadata": {},
   "outputs": [
    {
     "data": {
      "text/plain": [
       "['Afghanistan',\n",
       " 'Aland Islands',\n",
       " 'Albania',\n",
       " 'Algeria',\n",
       " 'American Samoa',\n",
       " 'Andorra',\n",
       " 'Angola',\n",
       " 'Anguilla',\n",
       " 'Antarctica',\n",
       " 'Antigua and Barbuda',\n",
       " 'Argentina',\n",
       " 'Armenia',\n",
       " 'Aruba',\n",
       " 'Australia',\n",
       " 'Austria',\n",
       " 'Azerbaijan',\n",
       " 'Bahamas',\n",
       " 'Bahrain',\n",
       " 'Bangladesh',\n",
       " 'Barbados',\n",
       " 'Belarus',\n",
       " 'Belgium',\n",
       " 'Belize',\n",
       " 'Benin',\n",
       " 'Bermuda',\n",
       " 'Bhutan',\n",
       " 'Bolivia',\n",
       " 'Bonaire, Saint Eustatius and Saba ',\n",
       " 'Bosnia and Herzegovina',\n",
       " 'Botswana',\n",
       " 'Bouvet Island',\n",
       " 'Brazil',\n",
       " 'British Indian Ocean Territory',\n",
       " 'British Virgin Islands',\n",
       " 'Brunei',\n",
       " 'Bulgaria',\n",
       " 'Burkina Faso',\n",
       " 'Burundi',\n",
       " 'Cambodia',\n",
       " 'Cameroon',\n",
       " 'Canada',\n",
       " 'Cape Verde',\n",
       " 'Cayman Islands',\n",
       " 'Central African Republic',\n",
       " 'Chad',\n",
       " 'Chile',\n",
       " 'China',\n",
       " 'Christmas Island',\n",
       " 'Cocos Islands',\n",
       " 'Colombia',\n",
       " 'Comoros',\n",
       " 'Cook Islands',\n",
       " 'Costa Rica',\n",
       " 'Croatia',\n",
       " 'Cuba',\n",
       " 'Curacao',\n",
       " 'Cyprus',\n",
       " 'Czech Republic',\n",
       " 'Democratic Republic of the Congo',\n",
       " 'Denmark',\n",
       " 'Djibouti',\n",
       " 'Dominica',\n",
       " 'Dominican Republic',\n",
       " 'East Timor',\n",
       " 'Ecuador',\n",
       " 'Egypt',\n",
       " 'El Salvador',\n",
       " 'Equatorial Guinea',\n",
       " 'Eritrea',\n",
       " 'Estonia',\n",
       " 'Ethiopia',\n",
       " 'Falkland Islands',\n",
       " 'Faroe Islands',\n",
       " 'Fiji',\n",
       " 'Finland',\n",
       " 'France',\n",
       " 'French Guiana',\n",
       " 'French Polynesia',\n",
       " 'French Southern Territories',\n",
       " 'Gabon',\n",
       " 'Gambia',\n",
       " 'Georgia',\n",
       " 'Germany',\n",
       " 'Ghana',\n",
       " 'Gibraltar',\n",
       " 'Greece',\n",
       " 'Greenland',\n",
       " 'Grenada',\n",
       " 'Guadeloupe',\n",
       " 'Guam',\n",
       " 'Guatemala',\n",
       " 'Guernsey',\n",
       " 'Guinea',\n",
       " 'Guinea-Bissau',\n",
       " 'Guyana',\n",
       " 'Haiti',\n",
       " 'Heard Island and McDonald Islands',\n",
       " 'Honduras',\n",
       " 'Hong Kong',\n",
       " 'Hungary',\n",
       " 'Iceland',\n",
       " 'India',\n",
       " 'Indonesia',\n",
       " 'Iran',\n",
       " 'Iraq',\n",
       " 'Ireland',\n",
       " 'Isle of Man',\n",
       " 'Israel',\n",
       " 'Italy',\n",
       " 'Ivory Coast',\n",
       " 'Jamaica',\n",
       " 'Japan',\n",
       " 'Jersey',\n",
       " 'Jordan',\n",
       " 'Kazakhstan',\n",
       " 'Kenya',\n",
       " 'Kiribati',\n",
       " 'Kosovo',\n",
       " 'Kuwait',\n",
       " 'Kyrgyzstan',\n",
       " 'Laos',\n",
       " 'Latvia',\n",
       " 'Lebanon',\n",
       " 'Lesotho',\n",
       " 'Liberia',\n",
       " 'Libya',\n",
       " 'Liechtenstein',\n",
       " 'Lithuania',\n",
       " 'Luxembourg',\n",
       " 'Macao',\n",
       " 'Macedonia',\n",
       " 'Madagascar',\n",
       " 'Malawi',\n",
       " 'Malaysia',\n",
       " 'Maldives',\n",
       " 'Mali',\n",
       " 'Malta',\n",
       " 'Marshall Islands',\n",
       " 'Martinique',\n",
       " 'Mauritania',\n",
       " 'Mauritius',\n",
       " 'Mayotte',\n",
       " 'Mexico',\n",
       " 'Micronesia',\n",
       " 'Moldova',\n",
       " 'Monaco',\n",
       " 'Mongolia',\n",
       " 'Montenegro',\n",
       " 'Montserrat',\n",
       " 'Morocco',\n",
       " 'Mozambique',\n",
       " 'Myanmar',\n",
       " 'Namibia',\n",
       " 'Nauru',\n",
       " 'Nepal',\n",
       " 'Netherlands',\n",
       " 'Netherlands Antilles',\n",
       " 'New Caledonia',\n",
       " 'New Zealand',\n",
       " 'Nicaragua',\n",
       " 'Niger',\n",
       " 'Nigeria',\n",
       " 'Niue',\n",
       " 'Norfolk Island',\n",
       " 'North Korea',\n",
       " 'Northern Mariana Islands',\n",
       " 'Norway',\n",
       " 'Oman',\n",
       " 'Pakistan',\n",
       " 'Palau',\n",
       " 'Palestinian Territory',\n",
       " 'Panama',\n",
       " 'Papua New Guinea',\n",
       " 'Paraguay',\n",
       " 'Peru',\n",
       " 'Philippines',\n",
       " 'Pitcairn',\n",
       " 'Poland',\n",
       " 'Portugal',\n",
       " 'Puerto Rico',\n",
       " 'Qatar',\n",
       " 'Republic of the Congo',\n",
       " 'Reunion',\n",
       " 'Romania',\n",
       " 'Russia',\n",
       " 'Rwanda',\n",
       " 'Saint Barthelemy',\n",
       " 'Saint Helena',\n",
       " 'Saint Kitts and Nevis',\n",
       " 'Saint Lucia',\n",
       " 'Saint Martin',\n",
       " 'Saint Pierre and Miquelon',\n",
       " 'Saint Vincent and the Grenadines',\n",
       " 'Samoa',\n",
       " 'San Marino',\n",
       " 'Sao Tome and Principe',\n",
       " 'Saudi Arabia',\n",
       " 'Senegal',\n",
       " 'Serbia',\n",
       " 'Serbia and Montenegro',\n",
       " 'Seychelles',\n",
       " 'Sierra Leone',\n",
       " 'Singapore',\n",
       " 'Sint Maarten',\n",
       " 'Slovakia',\n",
       " 'Slovenia',\n",
       " 'Solomon Islands',\n",
       " 'Somalia',\n",
       " 'South Africa',\n",
       " 'South Georgia and the South Sandwich Islands',\n",
       " 'South Korea',\n",
       " 'South Sudan',\n",
       " 'Spain',\n",
       " 'Sri Lanka',\n",
       " 'Sudan',\n",
       " 'Suriname',\n",
       " 'Svalbard and Jan Mayen',\n",
       " 'Swaziland',\n",
       " 'Sweden',\n",
       " 'Switzerland',\n",
       " 'Syria',\n",
       " 'Taiwan',\n",
       " 'Tajikistan',\n",
       " 'Tanzania',\n",
       " 'Thailand',\n",
       " 'Togo',\n",
       " 'Tokelau',\n",
       " 'Tonga',\n",
       " 'Trinidad and Tobago',\n",
       " 'Tunisia',\n",
       " 'Turkey',\n",
       " 'Turkmenistan',\n",
       " 'Turks and Caicos Islands',\n",
       " 'Tuvalu',\n",
       " 'U.S. Virgin Islands',\n",
       " 'Uganda',\n",
       " 'Ukraine',\n",
       " 'United Arab Emirates',\n",
       " 'United Kingdom',\n",
       " 'United States',\n",
       " 'United States Minor Outlying Islands',\n",
       " 'Uruguay',\n",
       " 'Uzbekistan',\n",
       " 'Vanuatu',\n",
       " 'Vatican',\n",
       " 'Venezuela',\n",
       " 'Vietnam',\n",
       " 'Wallis and Futuna',\n",
       " 'Western Sahara',\n",
       " 'Yemen',\n",
       " 'Zambia',\n",
       " 'Zimbabwe',\n",
       " 'World',\n",
       " 'Rest of World']"
      ]
     },
     "execution_count": 6,
     "metadata": {},
     "output_type": "execute_result"
    }
   ],
   "source": [
    "country_names"
   ]
  },
  {
   "cell_type": "code",
   "execution_count": 7,
   "metadata": {},
   "outputs": [
    {
     "data": {
      "text/plain": [
       "254"
      ]
     },
     "execution_count": 7,
     "metadata": {},
     "output_type": "execute_result"
    }
   ],
   "source": [
    "len(country_names)"
   ]
  },
  {
   "cell_type": "markdown",
   "metadata": {},
   "source": [
    "## Sex ratio at birth \n",
    "\n",
    "### Male per 100 Female"
   ]
  },
  {
   "cell_type": "code",
   "execution_count": 8,
   "metadata": {},
   "outputs": [],
   "source": [
    "birth_ratio = pd.read_csv(\"../data/original_data/sex-ratio-at-birth.csv\")"
   ]
  },
  {
   "cell_type": "code",
   "execution_count": 9,
   "metadata": {},
   "outputs": [
    {
     "data": {
      "text/html": [
       "<div>\n",
       "<style scoped>\n",
       "    .dataframe tbody tr th:only-of-type {\n",
       "        vertical-align: middle;\n",
       "    }\n",
       "\n",
       "    .dataframe tbody tr th {\n",
       "        vertical-align: top;\n",
       "    }\n",
       "\n",
       "    .dataframe thead th {\n",
       "        text-align: right;\n",
       "    }\n",
       "</style>\n",
       "<table border=\"1\" class=\"dataframe\">\n",
       "  <thead>\n",
       "    <tr style=\"text-align: right;\">\n",
       "      <th></th>\n",
       "      <th>Entity</th>\n",
       "      <th>Code</th>\n",
       "      <th>Year</th>\n",
       "      <th>Sex ratio at birth (male births per female births) (male births per 100 female births)</th>\n",
       "    </tr>\n",
       "  </thead>\n",
       "  <tbody>\n",
       "    <tr>\n",
       "      <th>0</th>\n",
       "      <td>Afghanistan</td>\n",
       "      <td>AFG</td>\n",
       "      <td>1962</td>\n",
       "      <td>106.0</td>\n",
       "    </tr>\n",
       "    <tr>\n",
       "      <th>1</th>\n",
       "      <td>Afghanistan</td>\n",
       "      <td>AFG</td>\n",
       "      <td>1967</td>\n",
       "      <td>106.0</td>\n",
       "    </tr>\n",
       "    <tr>\n",
       "      <th>2</th>\n",
       "      <td>Afghanistan</td>\n",
       "      <td>AFG</td>\n",
       "      <td>1972</td>\n",
       "      <td>106.0</td>\n",
       "    </tr>\n",
       "    <tr>\n",
       "      <th>3</th>\n",
       "      <td>Afghanistan</td>\n",
       "      <td>AFG</td>\n",
       "      <td>1977</td>\n",
       "      <td>106.0</td>\n",
       "    </tr>\n",
       "    <tr>\n",
       "      <th>4</th>\n",
       "      <td>Afghanistan</td>\n",
       "      <td>AFG</td>\n",
       "      <td>1982</td>\n",
       "      <td>106.0</td>\n",
       "    </tr>\n",
       "  </tbody>\n",
       "</table>\n",
       "</div>"
      ],
      "text/plain": [
       "        Entity Code  Year  \\\n",
       "0  Afghanistan  AFG  1962   \n",
       "1  Afghanistan  AFG  1967   \n",
       "2  Afghanistan  AFG  1972   \n",
       "3  Afghanistan  AFG  1977   \n",
       "4  Afghanistan  AFG  1982   \n",
       "\n",
       "   Sex ratio at birth (male births per female births) (male births per 100 female births)  \n",
       "0                                              106.0                                       \n",
       "1                                              106.0                                       \n",
       "2                                              106.0                                       \n",
       "3                                              106.0                                       \n",
       "4                                              106.0                                       "
      ]
     },
     "execution_count": 9,
     "metadata": {},
     "output_type": "execute_result"
    }
   ],
   "source": [
    "birth_ratio.head()"
   ]
  },
  {
   "cell_type": "code",
   "execution_count": 10,
   "metadata": {},
   "outputs": [
    {
     "data": {
      "text/plain": [
       "Entity                                                                                     object\n",
       "Code                                                                                       object\n",
       "Year                                                                                        int64\n",
       "Sex ratio at birth (male births per female births) (male births per 100 female births)    float64\n",
       "dtype: object"
      ]
     },
     "execution_count": 10,
     "metadata": {},
     "output_type": "execute_result"
    }
   ],
   "source": [
    "birth_ratio.dtypes"
   ]
  },
  {
   "cell_type": "code",
   "execution_count": 11,
   "metadata": {},
   "outputs": [
    {
     "data": {
      "text/plain": [
       "Paraguay                 21\n",
       "Bulgaria                 21\n",
       "Italy                    21\n",
       "Mexico                   21\n",
       "Tunisia                  21\n",
       "                         ..\n",
       "Sub-Saharan Africa       20\n",
       "Europe & Central Asia    20\n",
       "Small states             20\n",
       "Palestine                15\n",
       "Serbia                   15\n",
       "Name: Entity, Length: 240, dtype: int64"
      ]
     },
     "execution_count": 11,
     "metadata": {},
     "output_type": "execute_result"
    }
   ],
   "source": [
    "birth_ratio[\"Entity\"].value_counts()"
   ]
  },
  {
   "cell_type": "markdown",
   "metadata": {},
   "source": [
    "No data for all years. \n"
   ]
  },
  {
   "cell_type": "code",
   "execution_count": 12,
   "metadata": {},
   "outputs": [
    {
     "data": {
      "text/plain": [
       "Entity                                                                                      0\n",
       "Code                                                                                      921\n",
       "Year                                                                                        0\n",
       "Sex ratio at birth (male births per female births) (male births per 100 female births)      0\n",
       "dtype: int64"
      ]
     },
     "execution_count": 12,
     "metadata": {},
     "output_type": "execute_result"
    }
   ],
   "source": [
    "birth_ratio.isna().sum()"
   ]
  },
  {
   "cell_type": "code",
   "execution_count": 13,
   "metadata": {},
   "outputs": [],
   "source": [
    "birth_ratio.rename(columns = {\"Entity\" : \"Country\", \"Sex ratio at birth (male births per female births) (male births per 100 female births)\": \"Sex ratio at birth\"}, inplace = True)"
   ]
  },
  {
   "cell_type": "code",
   "execution_count": 14,
   "metadata": {},
   "outputs": [
    {
     "data": {
      "text/html": [
       "<div>\n",
       "<style scoped>\n",
       "    .dataframe tbody tr th:only-of-type {\n",
       "        vertical-align: middle;\n",
       "    }\n",
       "\n",
       "    .dataframe tbody tr th {\n",
       "        vertical-align: top;\n",
       "    }\n",
       "\n",
       "    .dataframe thead th {\n",
       "        text-align: right;\n",
       "    }\n",
       "</style>\n",
       "<table border=\"1\" class=\"dataframe\">\n",
       "  <thead>\n",
       "    <tr style=\"text-align: right;\">\n",
       "      <th></th>\n",
       "      <th>Country</th>\n",
       "      <th>Code</th>\n",
       "      <th>Year</th>\n",
       "      <th>Sex ratio at birth</th>\n",
       "    </tr>\n",
       "  </thead>\n",
       "  <tbody>\n",
       "    <tr>\n",
       "      <th>0</th>\n",
       "      <td>Afghanistan</td>\n",
       "      <td>AFG</td>\n",
       "      <td>1962</td>\n",
       "      <td>106.0</td>\n",
       "    </tr>\n",
       "    <tr>\n",
       "      <th>1</th>\n",
       "      <td>Afghanistan</td>\n",
       "      <td>AFG</td>\n",
       "      <td>1967</td>\n",
       "      <td>106.0</td>\n",
       "    </tr>\n",
       "    <tr>\n",
       "      <th>2</th>\n",
       "      <td>Afghanistan</td>\n",
       "      <td>AFG</td>\n",
       "      <td>1972</td>\n",
       "      <td>106.0</td>\n",
       "    </tr>\n",
       "    <tr>\n",
       "      <th>3</th>\n",
       "      <td>Afghanistan</td>\n",
       "      <td>AFG</td>\n",
       "      <td>1977</td>\n",
       "      <td>106.0</td>\n",
       "    </tr>\n",
       "    <tr>\n",
       "      <th>4</th>\n",
       "      <td>Afghanistan</td>\n",
       "      <td>AFG</td>\n",
       "      <td>1982</td>\n",
       "      <td>106.0</td>\n",
       "    </tr>\n",
       "  </tbody>\n",
       "</table>\n",
       "</div>"
      ],
      "text/plain": [
       "       Country Code  Year  Sex ratio at birth\n",
       "0  Afghanistan  AFG  1962               106.0\n",
       "1  Afghanistan  AFG  1967               106.0\n",
       "2  Afghanistan  AFG  1972               106.0\n",
       "3  Afghanistan  AFG  1977               106.0\n",
       "4  Afghanistan  AFG  1982               106.0"
      ]
     },
     "execution_count": 14,
     "metadata": {},
     "output_type": "execute_result"
    }
   ],
   "source": [
    "birth_ratio.head()"
   ]
  },
  {
   "cell_type": "code",
   "execution_count": 15,
   "metadata": {},
   "outputs": [
    {
     "data": {
      "image/png": "[encoded data removed]",
      "text/plain": [
       "<Figure size 432x288 with 1 Axes>"
      ]
     },
     "metadata": {
      "needs_background": "light"
     },
     "output_type": "display_data"
    }
   ],
   "source": [
    "\n",
    "plt.scatter(data = birth_ratio, x = \"Year\", y = \"Sex ratio at birth\", c = \"c\");"
   ]
  },
  {
   "cell_type": "markdown",
   "metadata": {},
   "source": [
    "The column \"Code\" seems to have a lot of Nan-values. Look deeper into those rows"
   ]
  },
  {
   "cell_type": "code",
   "execution_count": 16,
   "metadata": {},
   "outputs": [
    {
     "data": {
      "text/html": [
       "<div>\n",
       "<style scoped>\n",
       "    .dataframe tbody tr th:only-of-type {\n",
       "        vertical-align: middle;\n",
       "    }\n",
       "\n",
       "    .dataframe tbody tr th {\n",
       "        vertical-align: top;\n",
       "    }\n",
       "\n",
       "    .dataframe thead th {\n",
       "        text-align: right;\n",
       "    }\n",
       "</style>\n",
       "<table border=\"1\" class=\"dataframe\">\n",
       "  <thead>\n",
       "    <tr style=\"text-align: right;\">\n",
       "      <th></th>\n",
       "      <th>Country</th>\n",
       "      <th>Code</th>\n",
       "      <th>Year</th>\n",
       "      <th>Sex ratio at birth</th>\n",
       "    </tr>\n",
       "  </thead>\n",
       "  <tbody>\n",
       "    <tr>\n",
       "      <th>105</th>\n",
       "      <td>Arab World</td>\n",
       "      <td>NaN</td>\n",
       "      <td>1962</td>\n",
       "      <td>105.167470</td>\n",
       "    </tr>\n",
       "    <tr>\n",
       "      <th>106</th>\n",
       "      <td>Arab World</td>\n",
       "      <td>NaN</td>\n",
       "      <td>1967</td>\n",
       "      <td>105.161387</td>\n",
       "    </tr>\n",
       "    <tr>\n",
       "      <th>107</th>\n",
       "      <td>Arab World</td>\n",
       "      <td>NaN</td>\n",
       "      <td>1972</td>\n",
       "      <td>105.141635</td>\n",
       "    </tr>\n",
       "    <tr>\n",
       "      <th>108</th>\n",
       "      <td>Arab World</td>\n",
       "      <td>NaN</td>\n",
       "      <td>1977</td>\n",
       "      <td>105.100513</td>\n",
       "    </tr>\n",
       "    <tr>\n",
       "      <th>109</th>\n",
       "      <td>Arab World</td>\n",
       "      <td>NaN</td>\n",
       "      <td>1982</td>\n",
       "      <td>105.058423</td>\n",
       "    </tr>\n",
       "    <tr>\n",
       "      <th>...</th>\n",
       "      <td>...</td>\n",
       "      <td>...</td>\n",
       "      <td>...</td>\n",
       "      <td>...</td>\n",
       "    </tr>\n",
       "    <tr>\n",
       "      <th>4789</th>\n",
       "      <td>Upper middle income</td>\n",
       "      <td>NaN</td>\n",
       "      <td>2012</td>\n",
       "      <td>110.127265</td>\n",
       "    </tr>\n",
       "    <tr>\n",
       "      <th>4790</th>\n",
       "      <td>Upper middle income</td>\n",
       "      <td>NaN</td>\n",
       "      <td>2013</td>\n",
       "      <td>110.033334</td>\n",
       "    </tr>\n",
       "    <tr>\n",
       "      <th>4791</th>\n",
       "      <td>Upper middle income</td>\n",
       "      <td>NaN</td>\n",
       "      <td>2014</td>\n",
       "      <td>110.003750</td>\n",
       "    </tr>\n",
       "    <tr>\n",
       "      <th>4792</th>\n",
       "      <td>Upper middle income</td>\n",
       "      <td>NaN</td>\n",
       "      <td>2015</td>\n",
       "      <td>109.863171</td>\n",
       "    </tr>\n",
       "    <tr>\n",
       "      <th>4793</th>\n",
       "      <td>Upper middle income</td>\n",
       "      <td>NaN</td>\n",
       "      <td>2016</td>\n",
       "      <td>109.780143</td>\n",
       "    </tr>\n",
       "  </tbody>\n",
       "</table>\n",
       "<p>921 rows × 4 columns</p>\n",
       "</div>"
      ],
      "text/plain": [
       "                  Country Code  Year  Sex ratio at birth\n",
       "105            Arab World  NaN  1962          105.167470\n",
       "106            Arab World  NaN  1967          105.161387\n",
       "107            Arab World  NaN  1972          105.141635\n",
       "108            Arab World  NaN  1977          105.100513\n",
       "109            Arab World  NaN  1982          105.058423\n",
       "...                   ...  ...   ...                 ...\n",
       "4789  Upper middle income  NaN  2012          110.127265\n",
       "4790  Upper middle income  NaN  2013          110.033334\n",
       "4791  Upper middle income  NaN  2014          110.003750\n",
       "4792  Upper middle income  NaN  2015          109.863171\n",
       "4793  Upper middle income  NaN  2016          109.780143\n",
       "\n",
       "[921 rows x 4 columns]"
      ]
     },
     "execution_count": 16,
     "metadata": {},
     "output_type": "execute_result"
    }
   ],
   "source": [
    "birth_ratio.loc[birth_ratio[\"Code\"].isna()]"
   ]
  },
  {
   "cell_type": "markdown",
   "metadata": {},
   "source": [
    "Looks like the NaN values are for non countries. Drop rows without country name. "
   ]
  },
  {
   "cell_type": "code",
   "execution_count": 17,
   "metadata": {},
   "outputs": [],
   "source": [
    "birth_ratio = birth_ratio[birth_ratio[\"Country\"].isin(country_names)]"
   ]
  },
  {
   "cell_type": "code",
   "execution_count": 18,
   "metadata": {},
   "outputs": [
    {
     "data": {
      "text/html": [
       "<div>\n",
       "<style scoped>\n",
       "    .dataframe tbody tr th:only-of-type {\n",
       "        vertical-align: middle;\n",
       "    }\n",
       "\n",
       "    .dataframe tbody tr th {\n",
       "        vertical-align: top;\n",
       "    }\n",
       "\n",
       "    .dataframe thead th {\n",
       "        text-align: right;\n",
       "    }\n",
       "</style>\n",
       "<table border=\"1\" class=\"dataframe\">\n",
       "  <thead>\n",
       "    <tr style=\"text-align: right;\">\n",
       "      <th></th>\n",
       "      <th>Country</th>\n",
       "      <th>Code</th>\n",
       "      <th>Year</th>\n",
       "      <th>Sex ratio at birth</th>\n",
       "    </tr>\n",
       "  </thead>\n",
       "  <tbody>\n",
       "    <tr>\n",
       "      <th>0</th>\n",
       "      <td>Afghanistan</td>\n",
       "      <td>AFG</td>\n",
       "      <td>1962</td>\n",
       "      <td>106.0</td>\n",
       "    </tr>\n",
       "    <tr>\n",
       "      <th>1</th>\n",
       "      <td>Afghanistan</td>\n",
       "      <td>AFG</td>\n",
       "      <td>1967</td>\n",
       "      <td>106.0</td>\n",
       "    </tr>\n",
       "    <tr>\n",
       "      <th>2</th>\n",
       "      <td>Afghanistan</td>\n",
       "      <td>AFG</td>\n",
       "      <td>1972</td>\n",
       "      <td>106.0</td>\n",
       "    </tr>\n",
       "    <tr>\n",
       "      <th>3</th>\n",
       "      <td>Afghanistan</td>\n",
       "      <td>AFG</td>\n",
       "      <td>1977</td>\n",
       "      <td>106.0</td>\n",
       "    </tr>\n",
       "    <tr>\n",
       "      <th>4</th>\n",
       "      <td>Afghanistan</td>\n",
       "      <td>AFG</td>\n",
       "      <td>1982</td>\n",
       "      <td>106.0</td>\n",
       "    </tr>\n",
       "  </tbody>\n",
       "</table>\n",
       "</div>"
      ],
      "text/plain": [
       "       Country Code  Year  Sex ratio at birth\n",
       "0  Afghanistan  AFG  1962               106.0\n",
       "1  Afghanistan  AFG  1967               106.0\n",
       "2  Afghanistan  AFG  1972               106.0\n",
       "3  Afghanistan  AFG  1977               106.0\n",
       "4  Afghanistan  AFG  1982               106.0"
      ]
     },
     "execution_count": 18,
     "metadata": {},
     "output_type": "execute_result"
    }
   ],
   "source": [
    "birth_ratio.head()"
   ]
  },
  {
   "cell_type": "code",
   "execution_count": 19,
   "metadata": {},
   "outputs": [
    {
     "data": {
      "text/plain": [
       "Paraguay                 21\n",
       "Pakistan                 21\n",
       "Angola                   21\n",
       "Sao Tome and Principe    21\n",
       "Canada                   21\n",
       "                         ..\n",
       "Rwanda                   21\n",
       "China                    21\n",
       "Poland                   21\n",
       "World                    20\n",
       "Serbia                   15\n",
       "Name: Country, Length: 186, dtype: int64"
      ]
     },
     "execution_count": 19,
     "metadata": {},
     "output_type": "execute_result"
    }
   ],
   "source": [
    "birth_ratio[\"Country\"].value_counts()"
   ]
  },
  {
   "cell_type": "code",
   "execution_count": 20,
   "metadata": {},
   "outputs": [],
   "source": [
    "birth_ratio[\"Year\"] = pd.to_datetime(birth_ratio[\"Year\"], format = '%Y')"
   ]
  },
  {
   "cell_type": "code",
   "execution_count": 21,
   "metadata": {},
   "outputs": [
    {
     "data": {
      "text/html": [
       "<div>\n",
       "<style scoped>\n",
       "    .dataframe tbody tr th:only-of-type {\n",
       "        vertical-align: middle;\n",
       "    }\n",
       "\n",
       "    .dataframe tbody tr th {\n",
       "        vertical-align: top;\n",
       "    }\n",
       "\n",
       "    .dataframe thead th {\n",
       "        text-align: right;\n",
       "    }\n",
       "</style>\n",
       "<table border=\"1\" class=\"dataframe\">\n",
       "  <thead>\n",
       "    <tr style=\"text-align: right;\">\n",
       "      <th></th>\n",
       "      <th>Country</th>\n",
       "      <th>Code</th>\n",
       "      <th>Year</th>\n",
       "      <th>Sex ratio at birth</th>\n",
       "    </tr>\n",
       "  </thead>\n",
       "  <tbody>\n",
       "    <tr>\n",
       "      <th>0</th>\n",
       "      <td>Afghanistan</td>\n",
       "      <td>AFG</td>\n",
       "      <td>1962-01-01</td>\n",
       "      <td>106.0</td>\n",
       "    </tr>\n",
       "    <tr>\n",
       "      <th>1</th>\n",
       "      <td>Afghanistan</td>\n",
       "      <td>AFG</td>\n",
       "      <td>1967-01-01</td>\n",
       "      <td>106.0</td>\n",
       "    </tr>\n",
       "    <tr>\n",
       "      <th>2</th>\n",
       "      <td>Afghanistan</td>\n",
       "      <td>AFG</td>\n",
       "      <td>1972-01-01</td>\n",
       "      <td>106.0</td>\n",
       "    </tr>\n",
       "    <tr>\n",
       "      <th>3</th>\n",
       "      <td>Afghanistan</td>\n",
       "      <td>AFG</td>\n",
       "      <td>1977-01-01</td>\n",
       "      <td>106.0</td>\n",
       "    </tr>\n",
       "    <tr>\n",
       "      <th>4</th>\n",
       "      <td>Afghanistan</td>\n",
       "      <td>AFG</td>\n",
       "      <td>1982-01-01</td>\n",
       "      <td>106.0</td>\n",
       "    </tr>\n",
       "  </tbody>\n",
       "</table>\n",
       "</div>"
      ],
      "text/plain": [
       "       Country Code       Year  Sex ratio at birth\n",
       "0  Afghanistan  AFG 1962-01-01               106.0\n",
       "1  Afghanistan  AFG 1967-01-01               106.0\n",
       "2  Afghanistan  AFG 1972-01-01               106.0\n",
       "3  Afghanistan  AFG 1977-01-01               106.0\n",
       "4  Afghanistan  AFG 1982-01-01               106.0"
      ]
     },
     "execution_count": 21,
     "metadata": {},
     "output_type": "execute_result"
    }
   ],
   "source": [
    "birth_ratio.head()"
   ]
  },
  {
   "cell_type": "code",
   "execution_count": 22,
   "metadata": {},
   "outputs": [
    {
     "data": {
      "text/plain": [
       "Country                       object\n",
       "Code                          object\n",
       "Year                  datetime64[ns]\n",
       "Sex ratio at birth           float64\n",
       "dtype: object"
      ]
     },
     "execution_count": 22,
     "metadata": {},
     "output_type": "execute_result"
    }
   ],
   "source": [
    "birth_ratio.dtypes"
   ]
  },
  {
   "cell_type": "code",
   "execution_count": 23,
   "metadata": {},
   "outputs": [],
   "source": [
    "birth_ratio.to_csv(\"../data/gender-ratio-at-birth.csv\", index = False)"
   ]
  },
  {
   "cell_type": "markdown",
   "metadata": {},
   "source": [
    "## Female population\n",
    "\n",
    "### % of total"
   ]
  },
  {
   "cell_type": "code",
   "execution_count": 24,
   "metadata": {},
   "outputs": [],
   "source": [
    "female_pop = pd.read_csv(\"../data/original_data/share-population-female.csv\")"
   ]
  },
  {
   "cell_type": "code",
   "execution_count": 25,
   "metadata": {},
   "outputs": [
    {
     "data": {
      "text/html": [
       "<div>\n",
       "<style scoped>\n",
       "    .dataframe tbody tr th:only-of-type {\n",
       "        vertical-align: middle;\n",
       "    }\n",
       "\n",
       "    .dataframe tbody tr th {\n",
       "        vertical-align: top;\n",
       "    }\n",
       "\n",
       "    .dataframe thead th {\n",
       "        text-align: right;\n",
       "    }\n",
       "</style>\n",
       "<table border=\"1\" class=\"dataframe\">\n",
       "  <thead>\n",
       "    <tr style=\"text-align: right;\">\n",
       "      <th></th>\n",
       "      <th>Entity</th>\n",
       "      <th>Code</th>\n",
       "      <th>Year</th>\n",
       "      <th>Population, female (% of total) (% of total)</th>\n",
       "    </tr>\n",
       "  </thead>\n",
       "  <tbody>\n",
       "    <tr>\n",
       "      <th>0</th>\n",
       "      <td>Afghanistan</td>\n",
       "      <td>AFG</td>\n",
       "      <td>1960</td>\n",
       "      <td>48.319478</td>\n",
       "    </tr>\n",
       "    <tr>\n",
       "      <th>1</th>\n",
       "      <td>Afghanistan</td>\n",
       "      <td>AFG</td>\n",
       "      <td>1961</td>\n",
       "      <td>48.410528</td>\n",
       "    </tr>\n",
       "    <tr>\n",
       "      <th>2</th>\n",
       "      <td>Afghanistan</td>\n",
       "      <td>AFG</td>\n",
       "      <td>1962</td>\n",
       "      <td>48.495956</td>\n",
       "    </tr>\n",
       "    <tr>\n",
       "      <th>3</th>\n",
       "      <td>Afghanistan</td>\n",
       "      <td>AFG</td>\n",
       "      <td>1963</td>\n",
       "      <td>48.575984</td>\n",
       "    </tr>\n",
       "    <tr>\n",
       "      <th>4</th>\n",
       "      <td>Afghanistan</td>\n",
       "      <td>AFG</td>\n",
       "      <td>1964</td>\n",
       "      <td>48.650651</td>\n",
       "    </tr>\n",
       "  </tbody>\n",
       "</table>\n",
       "</div>"
      ],
      "text/plain": [
       "        Entity Code  Year  Population, female (% of total) (% of total)\n",
       "0  Afghanistan  AFG  1960                                     48.319478\n",
       "1  Afghanistan  AFG  1961                                     48.410528\n",
       "2  Afghanistan  AFG  1962                                     48.495956\n",
       "3  Afghanistan  AFG  1963                                     48.575984\n",
       "4  Afghanistan  AFG  1964                                     48.650651"
      ]
     },
     "execution_count": 25,
     "metadata": {},
     "output_type": "execute_result"
    }
   ],
   "source": [
    "female_pop.head()"
   ]
  },
  {
   "cell_type": "code",
   "execution_count": 26,
   "metadata": {},
   "outputs": [
    {
     "data": {
      "text/plain": [
       "Entity                                           object\n",
       "Code                                             object\n",
       "Year                                              int64\n",
       "Population, female (% of total) (% of total)    float64\n",
       "dtype: object"
      ]
     },
     "execution_count": 26,
     "metadata": {},
     "output_type": "execute_result"
    }
   ],
   "source": [
    "female_pop.dtypes"
   ]
  },
  {
   "cell_type": "code",
   "execution_count": 27,
   "metadata": {},
   "outputs": [],
   "source": [
    "female_pop[\"Year\"] = pd.to_datetime(female_pop[\"Year\"], format = '%Y')"
   ]
  },
  {
   "cell_type": "code",
   "execution_count": 28,
   "metadata": {},
   "outputs": [
    {
     "data": {
      "text/plain": [
       "Entity                                                  object\n",
       "Code                                                    object\n",
       "Year                                            datetime64[ns]\n",
       "Population, female (% of total) (% of total)           float64\n",
       "dtype: object"
      ]
     },
     "execution_count": 28,
     "metadata": {},
     "output_type": "execute_result"
    }
   ],
   "source": [
    "female_pop.dtypes"
   ]
  },
  {
   "cell_type": "code",
   "execution_count": 29,
   "metadata": {},
   "outputs": [
    {
     "data": {
      "text/plain": [
       "Entity                                             0\n",
       "Code                                            2668\n",
       "Year                                               0\n",
       "Population, female (% of total) (% of total)       0\n",
       "dtype: int64"
      ]
     },
     "execution_count": 29,
     "metadata": {},
     "output_type": "execute_result"
    }
   ],
   "source": [
    "female_pop.isna().sum()"
   ]
  },
  {
   "cell_type": "code",
   "execution_count": 30,
   "metadata": {},
   "outputs": [
    {
     "data": {
      "text/plain": [
       "Czech Republic              58\n",
       "Central African Republic    58\n",
       "Iraq                        58\n",
       "Brazil                      58\n",
       "Ghana                       58\n",
       "                            ..\n",
       "Italy                       58\n",
       "Malawi                      58\n",
       "Eritrea                     52\n",
       "Palestine                   28\n",
       "Serbia                      28\n",
       "Name: Entity, Length: 240, dtype: int64"
      ]
     },
     "execution_count": 30,
     "metadata": {},
     "output_type": "execute_result"
    }
   ],
   "source": [
    "female_pop[\"Entity\"].value_counts()"
   ]
  },
  {
   "cell_type": "code",
   "execution_count": 31,
   "metadata": {},
   "outputs": [],
   "source": [
    "na_code = female_pop.loc[female_pop[\"Code\"].isna()]"
   ]
  },
  {
   "cell_type": "code",
   "execution_count": 32,
   "metadata": {
    "scrolled": true
   },
   "outputs": [
    {
     "data": {
      "text/plain": [
       "Late-demographic dividend                             58\n",
       "Latin America & Caribbean                             58\n",
       "Europe & Central Asia                                 58\n",
       "Early-demographic dividend                            58\n",
       "Small states                                          58\n",
       "North America                                         58\n",
       "OECD members                                          58\n",
       "Sub-Saharan Africa (IDA & IBRD)                       58\n",
       "Low income                                            58\n",
       "Middle East & North Africa                            58\n",
       "Low & middle income                                   58\n",
       "Syrian Arab Republic                                  58\n",
       "Middle East & North Africa (excluding high income)    58\n",
       "Fragile and conflict affected situations              58\n",
       "Europe & Central Asia (excluding high income)         58\n",
       "IDA & IBRD total                                      58\n",
       "East Asia & Pacific (excluding high income)           58\n",
       "East Asia & Pacific (IDA & IBRD)                      58\n",
       "Euro area                                             58\n",
       "European Union                                        58\n",
       "Middle income                                         58\n",
       "Pacific island small states                           58\n",
       "High income                                           58\n",
       "Least developed countries: UN classification          58\n",
       "IBRD only                                             58\n",
       "Lower middle income                                   58\n",
       "IDA total                                             58\n",
       "IDA blend                                             58\n",
       "Arab World                                            58\n",
       "Sub-Saharan Africa (excluding high income)            58\n",
       "Sub-Saharan Africa                                    58\n",
       "Latin America & Caribbean (IDA & IBRD)                58\n",
       "Pre-demographic dividend                              58\n",
       "Central Europe and the Baltics                        58\n",
       "East Asia & Pacific                                   58\n",
       "South Asia (IDA & IBRD)                               58\n",
       "Latin America & Caribbean (excluding high income)     58\n",
       "Heavily indebted poor countries (HIPC)                58\n",
       "Other small states                                    58\n",
       "Caribbean small states                                58\n",
       "Upper middle income                                   58\n",
       "Europe & Central Asia (IDA & IBRD)                    58\n",
       "Post-demographic dividend                             58\n",
       "IDA only                                              58\n",
       "South Asia                                            58\n",
       "Middle East & North Africa (IDA & IBRD)               58\n",
       "Name: Entity, dtype: int64"
      ]
     },
     "execution_count": 32,
     "metadata": {},
     "output_type": "execute_result"
    }
   ],
   "source": [
    "na_code[\"Entity\"].value_counts()"
   ]
  },
  {
   "cell_type": "code",
   "execution_count": 33,
   "metadata": {},
   "outputs": [],
   "source": [
    "female_pop.rename(columns = {\"Entity\" : \"Country\", \"Population, female (% of total) (% of total)\" : \"Female pop rate\"}, inplace = True)"
   ]
  },
  {
   "cell_type": "code",
   "execution_count": 34,
   "metadata": {},
   "outputs": [],
   "source": [
    "female_pop = female_pop[female_pop[\"Country\"].isin(country_names)]"
   ]
  },
  {
   "cell_type": "code",
   "execution_count": 35,
   "metadata": {},
   "outputs": [
    {
     "data": {
      "text/plain": [
       "Country            0\n",
       "Code               0\n",
       "Year               0\n",
       "Female pop rate    0\n",
       "dtype: int64"
      ]
     },
     "execution_count": 35,
     "metadata": {},
     "output_type": "execute_result"
    }
   ],
   "source": [
    "female_pop.isna().sum()"
   ]
  },
  {
   "cell_type": "code",
   "execution_count": 36,
   "metadata": {},
   "outputs": [
    {
     "data": {
      "image/png": "[encoded data removed]",
      "text/plain": [
       "<Figure size 432x288 with 1 Axes>"
      ]
     },
     "metadata": {
      "needs_background": "light"
     },
     "output_type": "display_data"
    }
   ],
   "source": [
    "plt.scatter(data = female_pop, x = \"Year\", y = \"Female pop rate\");"
   ]
  },
  {
   "cell_type": "markdown",
   "metadata": {},
   "source": [
    "##### Female pop rate column has too many decimals. Round it to 2 decimal points. "
   ]
  },
  {
   "cell_type": "code",
   "execution_count": 37,
   "metadata": {},
   "outputs": [],
   "source": [
    "female_pop[\"Female pop rate\"] = female_pop[\"Female pop rate\"].round(decimals = 2)"
   ]
  },
  {
   "cell_type": "code",
   "execution_count": 38,
   "metadata": {},
   "outputs": [
    {
     "data": {
      "text/html": [
       "<div>\n",
       "<style scoped>\n",
       "    .dataframe tbody tr th:only-of-type {\n",
       "        vertical-align: middle;\n",
       "    }\n",
       "\n",
       "    .dataframe tbody tr th {\n",
       "        vertical-align: top;\n",
       "    }\n",
       "\n",
       "    .dataframe thead th {\n",
       "        text-align: right;\n",
       "    }\n",
       "</style>\n",
       "<table border=\"1\" class=\"dataframe\">\n",
       "  <thead>\n",
       "    <tr style=\"text-align: right;\">\n",
       "      <th></th>\n",
       "      <th>Country</th>\n",
       "      <th>Code</th>\n",
       "      <th>Year</th>\n",
       "      <th>Female pop rate</th>\n",
       "    </tr>\n",
       "  </thead>\n",
       "  <tbody>\n",
       "    <tr>\n",
       "      <th>0</th>\n",
       "      <td>Afghanistan</td>\n",
       "      <td>AFG</td>\n",
       "      <td>1960-01-01</td>\n",
       "      <td>48.32</td>\n",
       "    </tr>\n",
       "    <tr>\n",
       "      <th>1</th>\n",
       "      <td>Afghanistan</td>\n",
       "      <td>AFG</td>\n",
       "      <td>1961-01-01</td>\n",
       "      <td>48.41</td>\n",
       "    </tr>\n",
       "    <tr>\n",
       "      <th>2</th>\n",
       "      <td>Afghanistan</td>\n",
       "      <td>AFG</td>\n",
       "      <td>1962-01-01</td>\n",
       "      <td>48.50</td>\n",
       "    </tr>\n",
       "    <tr>\n",
       "      <th>3</th>\n",
       "      <td>Afghanistan</td>\n",
       "      <td>AFG</td>\n",
       "      <td>1963-01-01</td>\n",
       "      <td>48.58</td>\n",
       "    </tr>\n",
       "    <tr>\n",
       "      <th>4</th>\n",
       "      <td>Afghanistan</td>\n",
       "      <td>AFG</td>\n",
       "      <td>1964-01-01</td>\n",
       "      <td>48.65</td>\n",
       "    </tr>\n",
       "  </tbody>\n",
       "</table>\n",
       "</div>"
      ],
      "text/plain": [
       "       Country Code       Year  Female pop rate\n",
       "0  Afghanistan  AFG 1960-01-01            48.32\n",
       "1  Afghanistan  AFG 1961-01-01            48.41\n",
       "2  Afghanistan  AFG 1962-01-01            48.50\n",
       "3  Afghanistan  AFG 1963-01-01            48.58\n",
       "4  Afghanistan  AFG 1964-01-01            48.65"
      ]
     },
     "execution_count": 38,
     "metadata": {},
     "output_type": "execute_result"
    }
   ],
   "source": [
    "female_pop.head()"
   ]
  },
  {
   "cell_type": "code",
   "execution_count": 39,
   "metadata": {},
   "outputs": [],
   "source": [
    "female_pop.to_csv(\"../data/female-population-rate.csv\", index = False)"
   ]
  },
  {
   "cell_type": "markdown",
   "metadata": {},
   "source": [
    "## Child Mortality\n",
    "\n",
    "\n",
    "Too many missing values. Is even useful? "
   ]
  },
  {
   "cell_type": "code",
   "execution_count": 40,
   "metadata": {},
   "outputs": [],
   "source": [
    "mortality = pd.read_csv(\"../data/original_data/child-mortality-by-sex.csv\")"
   ]
  },
  {
   "cell_type": "code",
   "execution_count": 41,
   "metadata": {},
   "outputs": [
    {
     "data": {
      "text/html": [
       "<div>\n",
       "<style scoped>\n",
       "    .dataframe tbody tr th:only-of-type {\n",
       "        vertical-align: middle;\n",
       "    }\n",
       "\n",
       "    .dataframe tbody tr th {\n",
       "        vertical-align: top;\n",
       "    }\n",
       "\n",
       "    .dataframe thead th {\n",
       "        text-align: right;\n",
       "    }\n",
       "</style>\n",
       "<table border=\"1\" class=\"dataframe\">\n",
       "  <thead>\n",
       "    <tr style=\"text-align: right;\">\n",
       "      <th></th>\n",
       "      <th>Entity</th>\n",
       "      <th>Code</th>\n",
       "      <th>Year</th>\n",
       "      <th>Child mortality rate of girls (%)</th>\n",
       "      <th>Child mortality rate of boys (%)</th>\n",
       "      <th>Total population (Gapminder)</th>\n",
       "    </tr>\n",
       "  </thead>\n",
       "  <tbody>\n",
       "    <tr>\n",
       "      <th>0</th>\n",
       "      <td>Afghanistan</td>\n",
       "      <td>AFG</td>\n",
       "      <td>1800</td>\n",
       "      <td>NaN</td>\n",
       "      <td>NaN</td>\n",
       "      <td>3280000.0</td>\n",
       "    </tr>\n",
       "    <tr>\n",
       "      <th>1</th>\n",
       "      <td>Afghanistan</td>\n",
       "      <td>AFG</td>\n",
       "      <td>1801</td>\n",
       "      <td>NaN</td>\n",
       "      <td>NaN</td>\n",
       "      <td>3280000.0</td>\n",
       "    </tr>\n",
       "    <tr>\n",
       "      <th>2</th>\n",
       "      <td>Afghanistan</td>\n",
       "      <td>AFG</td>\n",
       "      <td>1802</td>\n",
       "      <td>NaN</td>\n",
       "      <td>NaN</td>\n",
       "      <td>3280000.0</td>\n",
       "    </tr>\n",
       "    <tr>\n",
       "      <th>3</th>\n",
       "      <td>Afghanistan</td>\n",
       "      <td>AFG</td>\n",
       "      <td>1803</td>\n",
       "      <td>NaN</td>\n",
       "      <td>NaN</td>\n",
       "      <td>3280000.0</td>\n",
       "    </tr>\n",
       "    <tr>\n",
       "      <th>4</th>\n",
       "      <td>Afghanistan</td>\n",
       "      <td>AFG</td>\n",
       "      <td>1804</td>\n",
       "      <td>NaN</td>\n",
       "      <td>NaN</td>\n",
       "      <td>3280000.0</td>\n",
       "    </tr>\n",
       "  </tbody>\n",
       "</table>\n",
       "</div>"
      ],
      "text/plain": [
       "        Entity Code  Year  Child mortality rate of girls (%)  \\\n",
       "0  Afghanistan  AFG  1800                                NaN   \n",
       "1  Afghanistan  AFG  1801                                NaN   \n",
       "2  Afghanistan  AFG  1802                                NaN   \n",
       "3  Afghanistan  AFG  1803                                NaN   \n",
       "4  Afghanistan  AFG  1804                                NaN   \n",
       "\n",
       "   Child mortality rate of boys (%)  Total population (Gapminder)  \n",
       "0                               NaN                     3280000.0  \n",
       "1                               NaN                     3280000.0  \n",
       "2                               NaN                     3280000.0  \n",
       "3                               NaN                     3280000.0  \n",
       "4                               NaN                     3280000.0  "
      ]
     },
     "execution_count": 41,
     "metadata": {},
     "output_type": "execute_result"
    }
   ],
   "source": [
    "mortality.head()"
   ]
  },
  {
   "cell_type": "code",
   "execution_count": 42,
   "metadata": {},
   "outputs": [
    {
     "data": {
      "text/plain": [
       "Entity                                   0\n",
       "Code                                  1027\n",
       "Year                                     0\n",
       "Child mortality rate of girls (%)    45913\n",
       "Child mortality rate of boys (%)     45913\n",
       "Total population (Gapminder)           225\n",
       "dtype: int64"
      ]
     },
     "execution_count": 42,
     "metadata": {},
     "output_type": "execute_result"
    }
   ],
   "source": [
    "mortality.isna().sum()"
   ]
  },
  {
   "cell_type": "code",
   "execution_count": 43,
   "metadata": {},
   "outputs": [
    {
     "data": {
      "text/plain": [
       "0.9746327587670884"
      ]
     },
     "execution_count": 43,
     "metadata": {},
     "output_type": "execute_result"
    }
   ],
   "source": [
    "mortality[\"Child mortality rate of girls (%)\"].isna().sum() / len(mortality[\"Child mortality rate of girls (%)\"])"
   ]
  },
  {
   "cell_type": "code",
   "execution_count": 44,
   "metadata": {},
   "outputs": [
    {
     "data": {
      "text/plain": [
       "45913"
      ]
     },
     "execution_count": 44,
     "metadata": {},
     "output_type": "execute_result"
    }
   ],
   "source": [
    "mortality[\"Child mortality rate of girls (%)\"].isna().sum()"
   ]
  },
  {
   "cell_type": "code",
   "execution_count": 45,
   "metadata": {},
   "outputs": [
    {
     "data": {
      "text/plain": [
       "1195"
      ]
     },
     "execution_count": 45,
     "metadata": {},
     "output_type": "execute_result"
    }
   ],
   "source": [
    "len(mortality[\"Child mortality rate of girls (%)\"]) - mortality[\"Child mortality rate of girls (%)\"].isna().sum()"
   ]
  },
  {
   "cell_type": "code",
   "execution_count": 46,
   "metadata": {},
   "outputs": [
    {
     "data": {
      "text/plain": [
       "45913"
      ]
     },
     "execution_count": 46,
     "metadata": {},
     "output_type": "execute_result"
    }
   ],
   "source": [
    "mortality[\"Child mortality rate of boys (%)\"].isna().sum()"
   ]
  },
  {
   "cell_type": "code",
   "execution_count": 47,
   "metadata": {},
   "outputs": [
    {
     "data": {
      "text/plain": [
       "0.9746327587670884"
      ]
     },
     "execution_count": 47,
     "metadata": {},
     "output_type": "execute_result"
    }
   ],
   "source": [
    "mortality[\"Child mortality rate of boys (%)\"].isna().sum() / len(mortality[\"Child mortality rate of boys (%)\"])"
   ]
  },
  {
   "cell_type": "code",
   "execution_count": 48,
   "metadata": {},
   "outputs": [],
   "source": [
    "no_na = mortality.loc[~mortality[\"Child mortality rate of girls (%)\"].isna()]"
   ]
  },
  {
   "cell_type": "code",
   "execution_count": 49,
   "metadata": {},
   "outputs": [
    {
     "data": {
      "text/plain": [
       "2017    239\n",
       "1990    239\n",
       "2000    239\n",
       "2015    239\n",
       "2010    239\n",
       "Name: Year, dtype: int64"
      ]
     },
     "execution_count": 49,
     "metadata": {},
     "output_type": "execute_result"
    }
   ],
   "source": [
    "no_na[\"Year\"].value_counts()"
   ]
  },
  {
   "cell_type": "code",
   "execution_count": 50,
   "metadata": {},
   "outputs": [
    {
     "data": {
      "text/plain": [
       "2017    287\n",
       "2010    287\n",
       "2000    287\n",
       "1990    287\n",
       "2015    287\n",
       "       ... \n",
       "1770      6\n",
       "1710      6\n",
       "1730      6\n",
       "1760      6\n",
       "1         1\n",
       "Name: Year, Length: 258, dtype: int64"
      ]
     },
     "execution_count": 50,
     "metadata": {},
     "output_type": "execute_result"
    }
   ],
   "source": [
    "mortality[\"Year\"].value_counts()"
   ]
  },
  {
   "cell_type": "markdown",
   "metadata": {},
   "source": [
    "## Sex ratio at birth by birth order\n",
    "\n",
    "In China and South Korea"
   ]
  },
  {
   "cell_type": "code",
   "execution_count": 51,
   "metadata": {},
   "outputs": [],
   "source": [
    "birth_order = pd.read_csv(\"../data/original_data/sex-ratio-at-birth-by-birth-order.csv\")"
   ]
  },
  {
   "cell_type": "code",
   "execution_count": 52,
   "metadata": {},
   "outputs": [
    {
     "data": {
      "text/html": [
       "<div>\n",
       "<style scoped>\n",
       "    .dataframe tbody tr th:only-of-type {\n",
       "        vertical-align: middle;\n",
       "    }\n",
       "\n",
       "    .dataframe tbody tr th {\n",
       "        vertical-align: top;\n",
       "    }\n",
       "\n",
       "    .dataframe thead th {\n",
       "        text-align: right;\n",
       "    }\n",
       "</style>\n",
       "<table border=\"1\" class=\"dataframe\">\n",
       "  <thead>\n",
       "    <tr style=\"text-align: right;\">\n",
       "      <th></th>\n",
       "      <th>Entity</th>\n",
       "      <th>Code</th>\n",
       "      <th>Year</th>\n",
       "      <th>First child (male births per 100 female births)</th>\n",
       "      <th>Second child (male births per 100 female births)</th>\n",
       "      <th>Third child (male births per 100 female births)</th>\n",
       "      <th>Fourth child &amp; higher (male births per 100 female births)</th>\n",
       "    </tr>\n",
       "  </thead>\n",
       "  <tbody>\n",
       "    <tr>\n",
       "      <th>0</th>\n",
       "      <td>China</td>\n",
       "      <td>CHN</td>\n",
       "      <td>1981</td>\n",
       "      <td>105.33</td>\n",
       "      <td>107.16</td>\n",
       "      <td>112.59</td>\n",
       "      <td>NaN</td>\n",
       "    </tr>\n",
       "    <tr>\n",
       "      <th>1</th>\n",
       "      <td>China</td>\n",
       "      <td>CHN</td>\n",
       "      <td>1986</td>\n",
       "      <td>107.66</td>\n",
       "      <td>117.25</td>\n",
       "      <td>123.29</td>\n",
       "      <td>NaN</td>\n",
       "    </tr>\n",
       "    <tr>\n",
       "      <th>2</th>\n",
       "      <td>China</td>\n",
       "      <td>CHN</td>\n",
       "      <td>1989</td>\n",
       "      <td>105.20</td>\n",
       "      <td>121.02</td>\n",
       "      <td>126.60</td>\n",
       "      <td>NaN</td>\n",
       "    </tr>\n",
       "    <tr>\n",
       "      <th>3</th>\n",
       "      <td>China</td>\n",
       "      <td>CHN</td>\n",
       "      <td>1993</td>\n",
       "      <td>105.60</td>\n",
       "      <td>130.22</td>\n",
       "      <td>126.13</td>\n",
       "      <td>NaN</td>\n",
       "    </tr>\n",
       "    <tr>\n",
       "      <th>4</th>\n",
       "      <td>China</td>\n",
       "      <td>CHN</td>\n",
       "      <td>2000</td>\n",
       "      <td>107.12</td>\n",
       "      <td>151.92</td>\n",
       "      <td>159.36</td>\n",
       "      <td>NaN</td>\n",
       "    </tr>\n",
       "  </tbody>\n",
       "</table>\n",
       "</div>"
      ],
      "text/plain": [
       "  Entity Code  Year  First child (male births per 100 female births)  \\\n",
       "0  China  CHN  1981                                           105.33   \n",
       "1  China  CHN  1986                                           107.66   \n",
       "2  China  CHN  1989                                           105.20   \n",
       "3  China  CHN  1993                                           105.60   \n",
       "4  China  CHN  2000                                           107.12   \n",
       "\n",
       "   Second child (male births per 100 female births)  \\\n",
       "0                                            107.16   \n",
       "1                                            117.25   \n",
       "2                                            121.02   \n",
       "3                                            130.22   \n",
       "4                                            151.92   \n",
       "\n",
       "   Third child (male births per 100 female births)  \\\n",
       "0                                           112.59   \n",
       "1                                           123.29   \n",
       "2                                           126.60   \n",
       "3                                           126.13   \n",
       "4                                           159.36   \n",
       "\n",
       "   Fourth child & higher (male births per 100 female births)  \n",
       "0                                                NaN          \n",
       "1                                                NaN          \n",
       "2                                                NaN          \n",
       "3                                                NaN          \n",
       "4                                                NaN          "
      ]
     },
     "execution_count": 52,
     "metadata": {},
     "output_type": "execute_result"
    }
   ],
   "source": [
    "birth_order.head()"
   ]
  },
  {
   "cell_type": "code",
   "execution_count": 53,
   "metadata": {},
   "outputs": [
    {
     "data": {
      "text/plain": [
       "Entity                                                       0\n",
       "Code                                                         0\n",
       "Year                                                         0\n",
       "First child (male births per 100 female births)              0\n",
       "Second child (male births per 100 female births)             0\n",
       "Third child (male births per 100 female births)              0\n",
       "Fourth child & higher (male births per 100 female births)    7\n",
       "dtype: int64"
      ]
     },
     "execution_count": 53,
     "metadata": {},
     "output_type": "execute_result"
    }
   ],
   "source": [
    "birth_order.isna().sum()"
   ]
  },
  {
   "cell_type": "code",
   "execution_count": 54,
   "metadata": {},
   "outputs": [
    {
     "data": {
      "text/plain": [
       "55"
      ]
     },
     "execution_count": 54,
     "metadata": {},
     "output_type": "execute_result"
    }
   ],
   "source": [
    "len(birth_order)"
   ]
  },
  {
   "cell_type": "code",
   "execution_count": 55,
   "metadata": {},
   "outputs": [
    {
     "data": {
      "text/plain": [
       "South Korea    48\n",
       "China           7\n",
       "Name: Entity, dtype: int64"
      ]
     },
     "execution_count": 55,
     "metadata": {},
     "output_type": "execute_result"
    }
   ],
   "source": [
    "birth_order[\"Entity\"].value_counts()"
   ]
  },
  {
   "cell_type": "code",
   "execution_count": 56,
   "metadata": {},
   "outputs": [
    {
     "data": {
      "text/plain": [
       "Entity                                                        object\n",
       "Code                                                          object\n",
       "Year                                                           int64\n",
       "First child (male births per 100 female births)              float64\n",
       "Second child (male births per 100 female births)             float64\n",
       "Third child (male births per 100 female births)              float64\n",
       "Fourth child & higher (male births per 100 female births)    float64\n",
       "dtype: object"
      ]
     },
     "execution_count": 56,
     "metadata": {},
     "output_type": "execute_result"
    }
   ],
   "source": [
    "birth_order.dtypes"
   ]
  },
  {
   "cell_type": "code",
   "execution_count": 57,
   "metadata": {},
   "outputs": [],
   "source": [
    "birth_order.rename(columns = {\"Entity\" : \"Country\"}, inplace = True)"
   ]
  },
  {
   "cell_type": "code",
   "execution_count": 58,
   "metadata": {},
   "outputs": [],
   "source": [
    "birth_order[\"Year\"] = pd.to_datetime(birth_order[\"Year\"], format = '%Y')"
   ]
  },
  {
   "cell_type": "code",
   "execution_count": 59,
   "metadata": {},
   "outputs": [
    {
     "data": {
      "text/html": [
       "<div>\n",
       "<style scoped>\n",
       "    .dataframe tbody tr th:only-of-type {\n",
       "        vertical-align: middle;\n",
       "    }\n",
       "\n",
       "    .dataframe tbody tr th {\n",
       "        vertical-align: top;\n",
       "    }\n",
       "\n",
       "    .dataframe thead th {\n",
       "        text-align: right;\n",
       "    }\n",
       "</style>\n",
       "<table border=\"1\" class=\"dataframe\">\n",
       "  <thead>\n",
       "    <tr style=\"text-align: right;\">\n",
       "      <th></th>\n",
       "      <th>Country</th>\n",
       "      <th>Code</th>\n",
       "      <th>Year</th>\n",
       "      <th>First child (male births per 100 female births)</th>\n",
       "      <th>Second child (male births per 100 female births)</th>\n",
       "      <th>Third child (male births per 100 female births)</th>\n",
       "      <th>Fourth child &amp; higher (male births per 100 female births)</th>\n",
       "    </tr>\n",
       "  </thead>\n",
       "  <tbody>\n",
       "    <tr>\n",
       "      <th>0</th>\n",
       "      <td>China</td>\n",
       "      <td>CHN</td>\n",
       "      <td>1981-01-01</td>\n",
       "      <td>105.33</td>\n",
       "      <td>107.16</td>\n",
       "      <td>112.59</td>\n",
       "      <td>NaN</td>\n",
       "    </tr>\n",
       "    <tr>\n",
       "      <th>1</th>\n",
       "      <td>China</td>\n",
       "      <td>CHN</td>\n",
       "      <td>1986-01-01</td>\n",
       "      <td>107.66</td>\n",
       "      <td>117.25</td>\n",
       "      <td>123.29</td>\n",
       "      <td>NaN</td>\n",
       "    </tr>\n",
       "    <tr>\n",
       "      <th>2</th>\n",
       "      <td>China</td>\n",
       "      <td>CHN</td>\n",
       "      <td>1989-01-01</td>\n",
       "      <td>105.20</td>\n",
       "      <td>121.02</td>\n",
       "      <td>126.60</td>\n",
       "      <td>NaN</td>\n",
       "    </tr>\n",
       "    <tr>\n",
       "      <th>3</th>\n",
       "      <td>China</td>\n",
       "      <td>CHN</td>\n",
       "      <td>1993-01-01</td>\n",
       "      <td>105.60</td>\n",
       "      <td>130.22</td>\n",
       "      <td>126.13</td>\n",
       "      <td>NaN</td>\n",
       "    </tr>\n",
       "    <tr>\n",
       "      <th>4</th>\n",
       "      <td>China</td>\n",
       "      <td>CHN</td>\n",
       "      <td>2000-01-01</td>\n",
       "      <td>107.12</td>\n",
       "      <td>151.92</td>\n",
       "      <td>159.36</td>\n",
       "      <td>NaN</td>\n",
       "    </tr>\n",
       "  </tbody>\n",
       "</table>\n",
       "</div>"
      ],
      "text/plain": [
       "  Country Code       Year  First child (male births per 100 female births)  \\\n",
       "0   China  CHN 1981-01-01                                           105.33   \n",
       "1   China  CHN 1986-01-01                                           107.66   \n",
       "2   China  CHN 1989-01-01                                           105.20   \n",
       "3   China  CHN 1993-01-01                                           105.60   \n",
       "4   China  CHN 2000-01-01                                           107.12   \n",
       "\n",
       "   Second child (male births per 100 female births)  \\\n",
       "0                                            107.16   \n",
       "1                                            117.25   \n",
       "2                                            121.02   \n",
       "3                                            130.22   \n",
       "4                                            151.92   \n",
       "\n",
       "   Third child (male births per 100 female births)  \\\n",
       "0                                           112.59   \n",
       "1                                           123.29   \n",
       "2                                           126.60   \n",
       "3                                           126.13   \n",
       "4                                           159.36   \n",
       "\n",
       "   Fourth child & higher (male births per 100 female births)  \n",
       "0                                                NaN          \n",
       "1                                                NaN          \n",
       "2                                                NaN          \n",
       "3                                                NaN          \n",
       "4                                                NaN          "
      ]
     },
     "execution_count": 59,
     "metadata": {},
     "output_type": "execute_result"
    }
   ],
   "source": [
    "birth_order.head()"
   ]
  },
  {
   "cell_type": "code",
   "execution_count": 60,
   "metadata": {},
   "outputs": [],
   "source": [
    "birth_order.to_csv(\"../data/sex-ratio-by-bith-order-ch-kr.csv\", index = False)"
   ]
  },
  {
   "cell_type": "markdown",
   "metadata": {},
   "source": [
    "## Missing women"
   ]
  },
  {
   "cell_type": "code",
   "execution_count": 61,
   "metadata": {},
   "outputs": [],
   "source": [
    "missing_women = pd.read_csv(\"../data/original_data/global-number-of-missing-women.csv\")"
   ]
  },
  {
   "cell_type": "code",
   "execution_count": 62,
   "metadata": {},
   "outputs": [
    {
     "data": {
      "text/html": [
       "<div>\n",
       "<style scoped>\n",
       "    .dataframe tbody tr th:only-of-type {\n",
       "        vertical-align: middle;\n",
       "    }\n",
       "\n",
       "    .dataframe tbody tr th {\n",
       "        vertical-align: top;\n",
       "    }\n",
       "\n",
       "    .dataframe thead th {\n",
       "        text-align: right;\n",
       "    }\n",
       "</style>\n",
       "<table border=\"1\" class=\"dataframe\">\n",
       "  <thead>\n",
       "    <tr style=\"text-align: right;\">\n",
       "      <th></th>\n",
       "      <th>Entity</th>\n",
       "      <th>Code</th>\n",
       "      <th>Year</th>\n",
       "      <th>Number of missing women (missing women)</th>\n",
       "    </tr>\n",
       "  </thead>\n",
       "  <tbody>\n",
       "    <tr>\n",
       "      <th>0</th>\n",
       "      <td>China</td>\n",
       "      <td>CHN</td>\n",
       "      <td>1970</td>\n",
       "      <td>27200000</td>\n",
       "    </tr>\n",
       "    <tr>\n",
       "      <th>1</th>\n",
       "      <td>China</td>\n",
       "      <td>CHN</td>\n",
       "      <td>1975</td>\n",
       "      <td>29000000</td>\n",
       "    </tr>\n",
       "    <tr>\n",
       "      <th>2</th>\n",
       "      <td>China</td>\n",
       "      <td>CHN</td>\n",
       "      <td>1980</td>\n",
       "      <td>31800000</td>\n",
       "    </tr>\n",
       "    <tr>\n",
       "      <th>3</th>\n",
       "      <td>China</td>\n",
       "      <td>CHN</td>\n",
       "      <td>1985</td>\n",
       "      <td>33200000</td>\n",
       "    </tr>\n",
       "    <tr>\n",
       "      <th>4</th>\n",
       "      <td>China</td>\n",
       "      <td>CHN</td>\n",
       "      <td>1990</td>\n",
       "      <td>39200000</td>\n",
       "    </tr>\n",
       "  </tbody>\n",
       "</table>\n",
       "</div>"
      ],
      "text/plain": [
       "  Entity Code  Year  Number of missing women (missing women)\n",
       "0  China  CHN  1970                                 27200000\n",
       "1  China  CHN  1975                                 29000000\n",
       "2  China  CHN  1980                                 31800000\n",
       "3  China  CHN  1985                                 33200000\n",
       "4  China  CHN  1990                                 39200000"
      ]
     },
     "execution_count": 62,
     "metadata": {},
     "output_type": "execute_result"
    }
   ],
   "source": [
    "missing_women.head()"
   ]
  },
  {
   "cell_type": "code",
   "execution_count": 63,
   "metadata": {},
   "outputs": [
    {
     "data": {
      "text/plain": [
       "Entity                                     object\n",
       "Code                                       object\n",
       "Year                                        int64\n",
       "Number of missing women (missing women)     int64\n",
       "dtype: object"
      ]
     },
     "execution_count": 63,
     "metadata": {},
     "output_type": "execute_result"
    }
   ],
   "source": [
    "missing_women.dtypes"
   ]
  },
  {
   "cell_type": "code",
   "execution_count": 64,
   "metadata": {},
   "outputs": [],
   "source": [
    "missing_women[\"Year\"] = pd.to_datetime(missing_women[\"Year\"], format = '%Y')"
   ]
  },
  {
   "cell_type": "code",
   "execution_count": 65,
   "metadata": {},
   "outputs": [
    {
     "data": {
      "text/plain": [
       "Entity                                      0\n",
       "Code                                       17\n",
       "Year                                        0\n",
       "Number of missing women (missing women)     0\n",
       "dtype: int64"
      ]
     },
     "execution_count": 65,
     "metadata": {},
     "output_type": "execute_result"
    }
   ],
   "source": [
    "missing_women.isna().sum()"
   ]
  },
  {
   "cell_type": "code",
   "execution_count": 66,
   "metadata": {},
   "outputs": [],
   "source": [
    "missing_women.rename(columns = {\"Entity\": \"Country\", \"Number of missing women (missing women)\" : \"Missing women\"}, inplace = True)"
   ]
  },
  {
   "cell_type": "code",
   "execution_count": 67,
   "metadata": {},
   "outputs": [
    {
     "data": {
      "text/plain": [
       "India            17\n",
       "World            17\n",
       "China            17\n",
       "Rest of World    17\n",
       "Name: Country, dtype: int64"
      ]
     },
     "execution_count": 67,
     "metadata": {},
     "output_type": "execute_result"
    }
   ],
   "source": [
    "missing_women[\"Country\"].value_counts()"
   ]
  },
  {
   "cell_type": "code",
   "execution_count": 68,
   "metadata": {},
   "outputs": [
    {
     "data": {
      "text/plain": [
       "1970-01-01    4\n",
       "1975-01-01    4\n",
       "1980-01-01    4\n",
       "1985-01-01    4\n",
       "1990-01-01    4\n",
       "1995-01-01    4\n",
       "2000-01-01    4\n",
       "2005-01-01    4\n",
       "2010-01-01    4\n",
       "2015-01-01    4\n",
       "2020-01-01    4\n",
       "2025-01-01    4\n",
       "2030-01-01    4\n",
       "2035-01-01    4\n",
       "2040-01-01    4\n",
       "2045-01-01    4\n",
       "2050-01-01    4\n",
       "Name: Year, dtype: int64"
      ]
     },
     "execution_count": 68,
     "metadata": {},
     "output_type": "execute_result"
    }
   ],
   "source": [
    "missing_women[\"Year\"].value_counts().sort_index()"
   ]
  },
  {
   "cell_type": "code",
   "execution_count": 69,
   "metadata": {},
   "outputs": [
    {
     "data": {
      "text/html": [
       "<div>\n",
       "<style scoped>\n",
       "    .dataframe tbody tr th:only-of-type {\n",
       "        vertical-align: middle;\n",
       "    }\n",
       "\n",
       "    .dataframe tbody tr th {\n",
       "        vertical-align: top;\n",
       "    }\n",
       "\n",
       "    .dataframe thead th {\n",
       "        text-align: right;\n",
       "    }\n",
       "</style>\n",
       "<table border=\"1\" class=\"dataframe\">\n",
       "  <thead>\n",
       "    <tr style=\"text-align: right;\">\n",
       "      <th></th>\n",
       "      <th>Country</th>\n",
       "      <th>Code</th>\n",
       "      <th>Year</th>\n",
       "      <th>Missing women</th>\n",
       "    </tr>\n",
       "  </thead>\n",
       "  <tbody>\n",
       "    <tr>\n",
       "      <th>34</th>\n",
       "      <td>Rest of World</td>\n",
       "      <td>NaN</td>\n",
       "      <td>1970-01-01</td>\n",
       "      <td>12100000</td>\n",
       "    </tr>\n",
       "    <tr>\n",
       "      <th>35</th>\n",
       "      <td>Rest of World</td>\n",
       "      <td>NaN</td>\n",
       "      <td>1975-01-01</td>\n",
       "      <td>12500000</td>\n",
       "    </tr>\n",
       "    <tr>\n",
       "      <th>36</th>\n",
       "      <td>Rest of World</td>\n",
       "      <td>NaN</td>\n",
       "      <td>1980-01-01</td>\n",
       "      <td>13300000</td>\n",
       "    </tr>\n",
       "    <tr>\n",
       "      <th>37</th>\n",
       "      <td>Rest of World</td>\n",
       "      <td>NaN</td>\n",
       "      <td>1985-01-01</td>\n",
       "      <td>14600000</td>\n",
       "    </tr>\n",
       "    <tr>\n",
       "      <th>38</th>\n",
       "      <td>Rest of World</td>\n",
       "      <td>NaN</td>\n",
       "      <td>1990-01-01</td>\n",
       "      <td>15200000</td>\n",
       "    </tr>\n",
       "    <tr>\n",
       "      <th>39</th>\n",
       "      <td>Rest of World</td>\n",
       "      <td>NaN</td>\n",
       "      <td>1995-01-01</td>\n",
       "      <td>16300000</td>\n",
       "    </tr>\n",
       "    <tr>\n",
       "      <th>40</th>\n",
       "      <td>Rest of World</td>\n",
       "      <td>NaN</td>\n",
       "      <td>2000-01-01</td>\n",
       "      <td>17400000</td>\n",
       "    </tr>\n",
       "    <tr>\n",
       "      <th>41</th>\n",
       "      <td>Rest of World</td>\n",
       "      <td>NaN</td>\n",
       "      <td>2005-01-01</td>\n",
       "      <td>19500000</td>\n",
       "    </tr>\n",
       "    <tr>\n",
       "      <th>42</th>\n",
       "      <td>Rest of World</td>\n",
       "      <td>NaN</td>\n",
       "      <td>2010-01-01</td>\n",
       "      <td>20100000</td>\n",
       "    </tr>\n",
       "    <tr>\n",
       "      <th>43</th>\n",
       "      <td>Rest of World</td>\n",
       "      <td>NaN</td>\n",
       "      <td>2015-01-01</td>\n",
       "      <td>22800000</td>\n",
       "    </tr>\n",
       "    <tr>\n",
       "      <th>44</th>\n",
       "      <td>Rest of World</td>\n",
       "      <td>NaN</td>\n",
       "      <td>2020-01-01</td>\n",
       "      <td>24500000</td>\n",
       "    </tr>\n",
       "    <tr>\n",
       "      <th>45</th>\n",
       "      <td>Rest of World</td>\n",
       "      <td>NaN</td>\n",
       "      <td>2025-01-01</td>\n",
       "      <td>26100000</td>\n",
       "    </tr>\n",
       "    <tr>\n",
       "      <th>46</th>\n",
       "      <td>Rest of World</td>\n",
       "      <td>NaN</td>\n",
       "      <td>2030-01-01</td>\n",
       "      <td>27100000</td>\n",
       "    </tr>\n",
       "    <tr>\n",
       "      <th>47</th>\n",
       "      <td>Rest of World</td>\n",
       "      <td>NaN</td>\n",
       "      <td>2035-01-01</td>\n",
       "      <td>27900000</td>\n",
       "    </tr>\n",
       "    <tr>\n",
       "      <th>48</th>\n",
       "      <td>Rest of World</td>\n",
       "      <td>NaN</td>\n",
       "      <td>2040-01-01</td>\n",
       "      <td>28300000</td>\n",
       "    </tr>\n",
       "    <tr>\n",
       "      <th>49</th>\n",
       "      <td>Rest of World</td>\n",
       "      <td>NaN</td>\n",
       "      <td>2045-01-01</td>\n",
       "      <td>28400000</td>\n",
       "    </tr>\n",
       "    <tr>\n",
       "      <th>50</th>\n",
       "      <td>Rest of World</td>\n",
       "      <td>NaN</td>\n",
       "      <td>2050-01-01</td>\n",
       "      <td>28300000</td>\n",
       "    </tr>\n",
       "  </tbody>\n",
       "</table>\n",
       "</div>"
      ],
      "text/plain": [
       "          Country Code       Year  Missing women\n",
       "34  Rest of World  NaN 1970-01-01       12100000\n",
       "35  Rest of World  NaN 1975-01-01       12500000\n",
       "36  Rest of World  NaN 1980-01-01       13300000\n",
       "37  Rest of World  NaN 1985-01-01       14600000\n",
       "38  Rest of World  NaN 1990-01-01       15200000\n",
       "39  Rest of World  NaN 1995-01-01       16300000\n",
       "40  Rest of World  NaN 2000-01-01       17400000\n",
       "41  Rest of World  NaN 2005-01-01       19500000\n",
       "42  Rest of World  NaN 2010-01-01       20100000\n",
       "43  Rest of World  NaN 2015-01-01       22800000\n",
       "44  Rest of World  NaN 2020-01-01       24500000\n",
       "45  Rest of World  NaN 2025-01-01       26100000\n",
       "46  Rest of World  NaN 2030-01-01       27100000\n",
       "47  Rest of World  NaN 2035-01-01       27900000\n",
       "48  Rest of World  NaN 2040-01-01       28300000\n",
       "49  Rest of World  NaN 2045-01-01       28400000\n",
       "50  Rest of World  NaN 2050-01-01       28300000"
      ]
     },
     "execution_count": 69,
     "metadata": {},
     "output_type": "execute_result"
    }
   ],
   "source": [
    "missing_women.loc[missing_women[\"Country\"] == \"Rest of World\"]"
   ]
  },
  {
   "cell_type": "code",
   "execution_count": 70,
   "metadata": {},
   "outputs": [
    {
     "data": {
      "text/html": [
       "<div>\n",
       "<style scoped>\n",
       "    .dataframe tbody tr th:only-of-type {\n",
       "        vertical-align: middle;\n",
       "    }\n",
       "\n",
       "    .dataframe tbody tr th {\n",
       "        vertical-align: top;\n",
       "    }\n",
       "\n",
       "    .dataframe thead th {\n",
       "        text-align: right;\n",
       "    }\n",
       "</style>\n",
       "<table border=\"1\" class=\"dataframe\">\n",
       "  <thead>\n",
       "    <tr style=\"text-align: right;\">\n",
       "      <th></th>\n",
       "      <th>Country</th>\n",
       "      <th>Code</th>\n",
       "      <th>Year</th>\n",
       "      <th>Missing women</th>\n",
       "    </tr>\n",
       "  </thead>\n",
       "  <tbody>\n",
       "    <tr>\n",
       "      <th>17</th>\n",
       "      <td>India</td>\n",
       "      <td>IND</td>\n",
       "      <td>1970-01-01</td>\n",
       "      <td>21800000</td>\n",
       "    </tr>\n",
       "    <tr>\n",
       "      <th>18</th>\n",
       "      <td>India</td>\n",
       "      <td>IND</td>\n",
       "      <td>1975-01-01</td>\n",
       "      <td>24800000</td>\n",
       "    </tr>\n",
       "    <tr>\n",
       "      <th>19</th>\n",
       "      <td>India</td>\n",
       "      <td>IND</td>\n",
       "      <td>1980-01-01</td>\n",
       "      <td>27100000</td>\n",
       "    </tr>\n",
       "    <tr>\n",
       "      <th>20</th>\n",
       "      <td>India</td>\n",
       "      <td>IND</td>\n",
       "      <td>1985-01-01</td>\n",
       "      <td>30200000</td>\n",
       "    </tr>\n",
       "    <tr>\n",
       "      <th>21</th>\n",
       "      <td>India</td>\n",
       "      <td>IND</td>\n",
       "      <td>1990-01-01</td>\n",
       "      <td>33200000</td>\n",
       "    </tr>\n",
       "    <tr>\n",
       "      <th>22</th>\n",
       "      <td>India</td>\n",
       "      <td>IND</td>\n",
       "      <td>1995-01-01</td>\n",
       "      <td>36100000</td>\n",
       "    </tr>\n",
       "    <tr>\n",
       "      <th>23</th>\n",
       "      <td>India</td>\n",
       "      <td>IND</td>\n",
       "      <td>2000-01-01</td>\n",
       "      <td>38900000</td>\n",
       "    </tr>\n",
       "    <tr>\n",
       "      <th>24</th>\n",
       "      <td>India</td>\n",
       "      <td>IND</td>\n",
       "      <td>2005-01-01</td>\n",
       "      <td>41100000</td>\n",
       "    </tr>\n",
       "    <tr>\n",
       "      <th>25</th>\n",
       "      <td>India</td>\n",
       "      <td>IND</td>\n",
       "      <td>2010-01-01</td>\n",
       "      <td>43300000</td>\n",
       "    </tr>\n",
       "    <tr>\n",
       "      <th>26</th>\n",
       "      <td>India</td>\n",
       "      <td>IND</td>\n",
       "      <td>2015-01-01</td>\n",
       "      <td>44900000</td>\n",
       "    </tr>\n",
       "    <tr>\n",
       "      <th>27</th>\n",
       "      <td>India</td>\n",
       "      <td>IND</td>\n",
       "      <td>2020-01-01</td>\n",
       "      <td>45800000</td>\n",
       "    </tr>\n",
       "    <tr>\n",
       "      <th>28</th>\n",
       "      <td>India</td>\n",
       "      <td>IND</td>\n",
       "      <td>2025-01-01</td>\n",
       "      <td>46300000</td>\n",
       "    </tr>\n",
       "    <tr>\n",
       "      <th>29</th>\n",
       "      <td>India</td>\n",
       "      <td>IND</td>\n",
       "      <td>2030-01-01</td>\n",
       "      <td>46000000</td>\n",
       "    </tr>\n",
       "    <tr>\n",
       "      <th>30</th>\n",
       "      <td>India</td>\n",
       "      <td>IND</td>\n",
       "      <td>2035-01-01</td>\n",
       "      <td>45100000</td>\n",
       "    </tr>\n",
       "    <tr>\n",
       "      <th>31</th>\n",
       "      <td>India</td>\n",
       "      <td>IND</td>\n",
       "      <td>2040-01-01</td>\n",
       "      <td>43600000</td>\n",
       "    </tr>\n",
       "    <tr>\n",
       "      <th>32</th>\n",
       "      <td>India</td>\n",
       "      <td>IND</td>\n",
       "      <td>2045-01-01</td>\n",
       "      <td>42000000</td>\n",
       "    </tr>\n",
       "    <tr>\n",
       "      <th>33</th>\n",
       "      <td>India</td>\n",
       "      <td>IND</td>\n",
       "      <td>2050-01-01</td>\n",
       "      <td>40300000</td>\n",
       "    </tr>\n",
       "  </tbody>\n",
       "</table>\n",
       "</div>"
      ],
      "text/plain": [
       "   Country Code       Year  Missing women\n",
       "17   India  IND 1970-01-01       21800000\n",
       "18   India  IND 1975-01-01       24800000\n",
       "19   India  IND 1980-01-01       27100000\n",
       "20   India  IND 1985-01-01       30200000\n",
       "21   India  IND 1990-01-01       33200000\n",
       "22   India  IND 1995-01-01       36100000\n",
       "23   India  IND 2000-01-01       38900000\n",
       "24   India  IND 2005-01-01       41100000\n",
       "25   India  IND 2010-01-01       43300000\n",
       "26   India  IND 2015-01-01       44900000\n",
       "27   India  IND 2020-01-01       45800000\n",
       "28   India  IND 2025-01-01       46300000\n",
       "29   India  IND 2030-01-01       46000000\n",
       "30   India  IND 2035-01-01       45100000\n",
       "31   India  IND 2040-01-01       43600000\n",
       "32   India  IND 2045-01-01       42000000\n",
       "33   India  IND 2050-01-01       40300000"
      ]
     },
     "execution_count": 70,
     "metadata": {},
     "output_type": "execute_result"
    }
   ],
   "source": [
    "missing_women.loc[missing_women[\"Country\"] == \"India\"]"
   ]
  },
  {
   "cell_type": "code",
   "execution_count": 71,
   "metadata": {},
   "outputs": [],
   "source": [
    "missing_women.to_csv(\"../data/missing-women-ch-in.csv\", index = False)"
   ]
  },
  {
   "cell_type": "markdown",
   "metadata": {},
   "source": [
    "## Missing female birth\n",
    "\n",
    "for India, China and rest of world"
   ]
  },
  {
   "cell_type": "code",
   "execution_count": 72,
   "metadata": {},
   "outputs": [],
   "source": [
    "missing_birth = pd.read_csv(\"../data/original_data/missing-female-births-and-excess-mortality.csv\")"
   ]
  },
  {
   "cell_type": "code",
   "execution_count": 73,
   "metadata": {},
   "outputs": [
    {
     "data": {
      "text/html": [
       "<div>\n",
       "<style scoped>\n",
       "    .dataframe tbody tr th:only-of-type {\n",
       "        vertical-align: middle;\n",
       "    }\n",
       "\n",
       "    .dataframe tbody tr th {\n",
       "        vertical-align: top;\n",
       "    }\n",
       "\n",
       "    .dataframe thead th {\n",
       "        text-align: right;\n",
       "    }\n",
       "</style>\n",
       "<table border=\"1\" class=\"dataframe\">\n",
       "  <thead>\n",
       "    <tr style=\"text-align: right;\">\n",
       "      <th></th>\n",
       "      <th>Entity</th>\n",
       "      <th>Code</th>\n",
       "      <th>Year</th>\n",
       "      <th>Excess female deaths (excess deaths)</th>\n",
       "      <th>Missing female births (missing births)</th>\n",
       "    </tr>\n",
       "  </thead>\n",
       "  <tbody>\n",
       "    <tr>\n",
       "      <th>0</th>\n",
       "      <td>China</td>\n",
       "      <td>CHN</td>\n",
       "      <td>1975</td>\n",
       "      <td>320000</td>\n",
       "      <td>NaN</td>\n",
       "    </tr>\n",
       "    <tr>\n",
       "      <th>1</th>\n",
       "      <td>China</td>\n",
       "      <td>CHN</td>\n",
       "      <td>1980</td>\n",
       "      <td>420000</td>\n",
       "      <td>NaN</td>\n",
       "    </tr>\n",
       "    <tr>\n",
       "      <th>2</th>\n",
       "      <td>China</td>\n",
       "      <td>CHN</td>\n",
       "      <td>1985</td>\n",
       "      <td>500000</td>\n",
       "      <td>170000.0</td>\n",
       "    </tr>\n",
       "    <tr>\n",
       "      <th>3</th>\n",
       "      <td>China</td>\n",
       "      <td>CHN</td>\n",
       "      <td>1990</td>\n",
       "      <td>570000</td>\n",
       "      <td>470000.0</td>\n",
       "    </tr>\n",
       "    <tr>\n",
       "      <th>4</th>\n",
       "      <td>China</td>\n",
       "      <td>CHN</td>\n",
       "      <td>1995</td>\n",
       "      <td>540000</td>\n",
       "      <td>680000.0</td>\n",
       "    </tr>\n",
       "  </tbody>\n",
       "</table>\n",
       "</div>"
      ],
      "text/plain": [
       "  Entity Code  Year  Excess female deaths (excess deaths)  \\\n",
       "0  China  CHN  1975                                320000   \n",
       "1  China  CHN  1980                                420000   \n",
       "2  China  CHN  1985                                500000   \n",
       "3  China  CHN  1990                                570000   \n",
       "4  China  CHN  1995                                540000   \n",
       "\n",
       "   Missing female births (missing births)  \n",
       "0                                     NaN  \n",
       "1                                     NaN  \n",
       "2                                170000.0  \n",
       "3                                470000.0  \n",
       "4                                680000.0  "
      ]
     },
     "execution_count": 73,
     "metadata": {},
     "output_type": "execute_result"
    }
   ],
   "source": [
    "missing_birth.head()"
   ]
  },
  {
   "cell_type": "code",
   "execution_count": 74,
   "metadata": {},
   "outputs": [
    {
     "data": {
      "text/plain": [
       "Entity                                     object\n",
       "Code                                       object\n",
       "Year                                        int64\n",
       "Excess female deaths (excess deaths)        int64\n",
       "Missing female births (missing births)    float64\n",
       "dtype: object"
      ]
     },
     "execution_count": 74,
     "metadata": {},
     "output_type": "execute_result"
    }
   ],
   "source": [
    "missing_birth.dtypes"
   ]
  },
  {
   "cell_type": "code",
   "execution_count": 75,
   "metadata": {},
   "outputs": [],
   "source": [
    "missing_birth[\"Year\"] = pd.to_datetime(missing_birth[\"Year\"], format = '%Y')"
   ]
  },
  {
   "cell_type": "code",
   "execution_count": 76,
   "metadata": {},
   "outputs": [
    {
     "data": {
      "text/plain": [
       "Entity                                     0\n",
       "Code                                      16\n",
       "Year                                       0\n",
       "Excess female deaths (excess deaths)       0\n",
       "Missing female births (missing births)     8\n",
       "dtype: int64"
      ]
     },
     "execution_count": 76,
     "metadata": {},
     "output_type": "execute_result"
    }
   ],
   "source": [
    "missing_birth.isna().sum()"
   ]
  },
  {
   "cell_type": "code",
   "execution_count": 77,
   "metadata": {},
   "outputs": [
    {
     "data": {
      "text/plain": [
       "India            16\n",
       "World            16\n",
       "China            16\n",
       "Rest of World    16\n",
       "Name: Entity, dtype: int64"
      ]
     },
     "execution_count": 77,
     "metadata": {},
     "output_type": "execute_result"
    }
   ],
   "source": [
    "missing_birth[\"Entity\"].value_counts()"
   ]
  },
  {
   "cell_type": "code",
   "execution_count": 78,
   "metadata": {},
   "outputs": [
    {
     "data": {
      "text/plain": [
       "1975-01-01    4\n",
       "1980-01-01    4\n",
       "1985-01-01    4\n",
       "1990-01-01    4\n",
       "1995-01-01    4\n",
       "2000-01-01    4\n",
       "2005-01-01    4\n",
       "2010-01-01    4\n",
       "2015-01-01    4\n",
       "2020-01-01    4\n",
       "2025-01-01    4\n",
       "2030-01-01    4\n",
       "2035-01-01    4\n",
       "2040-01-01    4\n",
       "2045-01-01    4\n",
       "2050-01-01    4\n",
       "Name: Year, dtype: int64"
      ]
     },
     "execution_count": 78,
     "metadata": {},
     "output_type": "execute_result"
    }
   ],
   "source": [
    "missing_birth[\"Year\"].value_counts().sort_index()"
   ]
  },
  {
   "cell_type": "code",
   "execution_count": 79,
   "metadata": {},
   "outputs": [],
   "source": [
    "missing_birth.rename(columns = {\"Entity\" : \"Country\", \"Excess female deaths (excess deaths)\" : \"Excess female deaths\", \"Missing female births (missing births)\": \"Missing female births\"}, inplace = True)"
   ]
  },
  {
   "cell_type": "code",
   "execution_count": 80,
   "metadata": {},
   "outputs": [
    {
     "data": {
      "text/html": [
       "<div>\n",
       "<style scoped>\n",
       "    .dataframe tbody tr th:only-of-type {\n",
       "        vertical-align: middle;\n",
       "    }\n",
       "\n",
       "    .dataframe tbody tr th {\n",
       "        vertical-align: top;\n",
       "    }\n",
       "\n",
       "    .dataframe thead th {\n",
       "        text-align: right;\n",
       "    }\n",
       "</style>\n",
       "<table border=\"1\" class=\"dataframe\">\n",
       "  <thead>\n",
       "    <tr style=\"text-align: right;\">\n",
       "      <th></th>\n",
       "      <th>Country</th>\n",
       "      <th>Code</th>\n",
       "      <th>Year</th>\n",
       "      <th>Excess female deaths</th>\n",
       "      <th>Missing female births</th>\n",
       "    </tr>\n",
       "  </thead>\n",
       "  <tbody>\n",
       "    <tr>\n",
       "      <th>0</th>\n",
       "      <td>China</td>\n",
       "      <td>CHN</td>\n",
       "      <td>1975-01-01</td>\n",
       "      <td>320000</td>\n",
       "      <td>NaN</td>\n",
       "    </tr>\n",
       "    <tr>\n",
       "      <th>1</th>\n",
       "      <td>China</td>\n",
       "      <td>CHN</td>\n",
       "      <td>1980-01-01</td>\n",
       "      <td>420000</td>\n",
       "      <td>NaN</td>\n",
       "    </tr>\n",
       "    <tr>\n",
       "      <th>2</th>\n",
       "      <td>China</td>\n",
       "      <td>CHN</td>\n",
       "      <td>1985-01-01</td>\n",
       "      <td>500000</td>\n",
       "      <td>170000.0</td>\n",
       "    </tr>\n",
       "    <tr>\n",
       "      <th>3</th>\n",
       "      <td>China</td>\n",
       "      <td>CHN</td>\n",
       "      <td>1990-01-01</td>\n",
       "      <td>570000</td>\n",
       "      <td>470000.0</td>\n",
       "    </tr>\n",
       "    <tr>\n",
       "      <th>4</th>\n",
       "      <td>China</td>\n",
       "      <td>CHN</td>\n",
       "      <td>1995-01-01</td>\n",
       "      <td>540000</td>\n",
       "      <td>680000.0</td>\n",
       "    </tr>\n",
       "  </tbody>\n",
       "</table>\n",
       "</div>"
      ],
      "text/plain": [
       "  Country Code       Year  Excess female deaths  Missing female births\n",
       "0   China  CHN 1975-01-01                320000                    NaN\n",
       "1   China  CHN 1980-01-01                420000                    NaN\n",
       "2   China  CHN 1985-01-01                500000               170000.0\n",
       "3   China  CHN 1990-01-01                570000               470000.0\n",
       "4   China  CHN 1995-01-01                540000               680000.0"
      ]
     },
     "execution_count": 80,
     "metadata": {},
     "output_type": "execute_result"
    }
   ],
   "source": [
    "missing_birth.head()"
   ]
  },
  {
   "cell_type": "code",
   "execution_count": 81,
   "metadata": {},
   "outputs": [],
   "source": [
    "missing_birth.to_csv(\"../data/missing-female-birth-ch-in.csv\", index = False)"
   ]
  },
  {
   "cell_type": "markdown",
   "metadata": {},
   "source": [
    "## Sex ratio by age"
   ]
  },
  {
   "cell_type": "code",
   "execution_count": 82,
   "metadata": {},
   "outputs": [],
   "source": [
    "ratio_age = pd.read_csv(\"../data/original_data/sex-ratio-by-age.csv\")"
   ]
  },
  {
   "cell_type": "code",
   "execution_count": 83,
   "metadata": {},
   "outputs": [
    {
     "data": {
      "text/html": [
       "<div>\n",
       "<style scoped>\n",
       "    .dataframe tbody tr th:only-of-type {\n",
       "        vertical-align: middle;\n",
       "    }\n",
       "\n",
       "    .dataframe tbody tr th {\n",
       "        vertical-align: top;\n",
       "    }\n",
       "\n",
       "    .dataframe thead th {\n",
       "        text-align: right;\n",
       "    }\n",
       "</style>\n",
       "<table border=\"1\" class=\"dataframe\">\n",
       "  <thead>\n",
       "    <tr style=\"text-align: right;\">\n",
       "      <th></th>\n",
       "      <th>Entity</th>\n",
       "      <th>Code</th>\n",
       "      <th>Year</th>\n",
       "      <th>100-year olds (males per 100 females)</th>\n",
       "      <th>15-year olds (males per 100 females)</th>\n",
       "      <th>20-year olds (males per 100 females)</th>\n",
       "      <th>30-year olds (males per 100 females)</th>\n",
       "      <th>40-year olds (males per 100 females)</th>\n",
       "      <th>50-year olds (males per 100 females)</th>\n",
       "      <th>60-year olds (males per 100 females)</th>\n",
       "      <th>70-year olds (males per 100 females)</th>\n",
       "      <th>80-year olds (males per 100 females)</th>\n",
       "      <th>90-year olds (males per 100 females)</th>\n",
       "    </tr>\n",
       "  </thead>\n",
       "  <tbody>\n",
       "    <tr>\n",
       "      <th>0</th>\n",
       "      <td>Afghanistan</td>\n",
       "      <td>AFG</td>\n",
       "      <td>1950</td>\n",
       "      <td>NaN</td>\n",
       "      <td>110.725960</td>\n",
       "      <td>115.678881</td>\n",
       "      <td>118.566663</td>\n",
       "      <td>119.636455</td>\n",
       "      <td>124.993101</td>\n",
       "      <td>130.460824</td>\n",
       "      <td>130.004055</td>\n",
       "      <td>NaN</td>\n",
       "      <td>NaN</td>\n",
       "    </tr>\n",
       "    <tr>\n",
       "      <th>1</th>\n",
       "      <td>Afghanistan</td>\n",
       "      <td>AFG</td>\n",
       "      <td>1951</td>\n",
       "      <td>NaN</td>\n",
       "      <td>110.239836</td>\n",
       "      <td>114.390486</td>\n",
       "      <td>118.288218</td>\n",
       "      <td>119.375972</td>\n",
       "      <td>124.586307</td>\n",
       "      <td>130.063446</td>\n",
       "      <td>129.302326</td>\n",
       "      <td>NaN</td>\n",
       "      <td>NaN</td>\n",
       "    </tr>\n",
       "    <tr>\n",
       "      <th>2</th>\n",
       "      <td>Afghanistan</td>\n",
       "      <td>AFG</td>\n",
       "      <td>1952</td>\n",
       "      <td>NaN</td>\n",
       "      <td>109.217998</td>\n",
       "      <td>112.674319</td>\n",
       "      <td>117.518995</td>\n",
       "      <td>118.787630</td>\n",
       "      <td>123.710621</td>\n",
       "      <td>129.190856</td>\n",
       "      <td>127.946743</td>\n",
       "      <td>NaN</td>\n",
       "      <td>NaN</td>\n",
       "    </tr>\n",
       "    <tr>\n",
       "      <th>3</th>\n",
       "      <td>Afghanistan</td>\n",
       "      <td>AFG</td>\n",
       "      <td>1953</td>\n",
       "      <td>NaN</td>\n",
       "      <td>108.646649</td>\n",
       "      <td>111.340221</td>\n",
       "      <td>117.060109</td>\n",
       "      <td>118.236943</td>\n",
       "      <td>122.198021</td>\n",
       "      <td>127.650155</td>\n",
       "      <td>126.501222</td>\n",
       "      <td>NaN</td>\n",
       "      <td>NaN</td>\n",
       "    </tr>\n",
       "    <tr>\n",
       "      <th>4</th>\n",
       "      <td>Afghanistan</td>\n",
       "      <td>AFG</td>\n",
       "      <td>1954</td>\n",
       "      <td>NaN</td>\n",
       "      <td>108.700272</td>\n",
       "      <td>110.692684</td>\n",
       "      <td>117.101741</td>\n",
       "      <td>117.753065</td>\n",
       "      <td>119.957057</td>\n",
       "      <td>125.267577</td>\n",
       "      <td>125.063549</td>\n",
       "      <td>NaN</td>\n",
       "      <td>NaN</td>\n",
       "    </tr>\n",
       "  </tbody>\n",
       "</table>\n",
       "</div>"
      ],
      "text/plain": [
       "        Entity Code  Year  100-year olds (males per 100 females)  \\\n",
       "0  Afghanistan  AFG  1950                                    NaN   \n",
       "1  Afghanistan  AFG  1951                                    NaN   \n",
       "2  Afghanistan  AFG  1952                                    NaN   \n",
       "3  Afghanistan  AFG  1953                                    NaN   \n",
       "4  Afghanistan  AFG  1954                                    NaN   \n",
       "\n",
       "   15-year olds (males per 100 females)  20-year olds (males per 100 females)  \\\n",
       "0                            110.725960                            115.678881   \n",
       "1                            110.239836                            114.390486   \n",
       "2                            109.217998                            112.674319   \n",
       "3                            108.646649                            111.340221   \n",
       "4                            108.700272                            110.692684   \n",
       "\n",
       "   30-year olds (males per 100 females)  40-year olds (males per 100 females)  \\\n",
       "0                            118.566663                            119.636455   \n",
       "1                            118.288218                            119.375972   \n",
       "2                            117.518995                            118.787630   \n",
       "3                            117.060109                            118.236943   \n",
       "4                            117.101741                            117.753065   \n",
       "\n",
       "   50-year olds (males per 100 females)  60-year olds (males per 100 females)  \\\n",
       "0                            124.993101                            130.460824   \n",
       "1                            124.586307                            130.063446   \n",
       "2                            123.710621                            129.190856   \n",
       "3                            122.198021                            127.650155   \n",
       "4                            119.957057                            125.267577   \n",
       "\n",
       "   70-year olds (males per 100 females)  80-year olds (males per 100 females)  \\\n",
       "0                            130.004055                                   NaN   \n",
       "1                            129.302326                                   NaN   \n",
       "2                            127.946743                                   NaN   \n",
       "3                            126.501222                                   NaN   \n",
       "4                            125.063549                                   NaN   \n",
       "\n",
       "   90-year olds (males per 100 females)  \n",
       "0                                   NaN  \n",
       "1                                   NaN  \n",
       "2                                   NaN  \n",
       "3                                   NaN  \n",
       "4                                   NaN  "
      ]
     },
     "execution_count": 83,
     "metadata": {},
     "output_type": "execute_result"
    }
   ],
   "source": [
    "ratio_age.head()"
   ]
  },
  {
   "cell_type": "code",
   "execution_count": 84,
   "metadata": {},
   "outputs": [
    {
     "data": {
      "text/plain": [
       "Entity                                       0\n",
       "Code                                      2574\n",
       "Year                                         0\n",
       "100-year olds (males per 100 females)    10568\n",
       "15-year olds (males per 100 females)         0\n",
       "20-year olds (males per 100 females)         0\n",
       "30-year olds (males per 100 females)         0\n",
       "40-year olds (males per 100 females)         0\n",
       "50-year olds (males per 100 females)         0\n",
       "60-year olds (males per 100 females)         0\n",
       "70-year olds (males per 100 females)         0\n",
       "80-year olds (males per 100 females)      9640\n",
       "90-year olds (males per 100 females)      9641\n",
       "dtype: int64"
      ]
     },
     "execution_count": 84,
     "metadata": {},
     "output_type": "execute_result"
    }
   ],
   "source": [
    "ratio_age.isna().sum()"
   ]
  },
  {
   "cell_type": "code",
   "execution_count": 85,
   "metadata": {},
   "outputs": [
    {
     "data": {
      "text/plain": [
       "(15906, 13)"
      ]
     },
     "execution_count": 85,
     "metadata": {},
     "output_type": "execute_result"
    }
   ],
   "source": [
    "ratio_age.shape"
   ]
  },
  {
   "cell_type": "code",
   "execution_count": 86,
   "metadata": {},
   "outputs": [
    {
     "data": {
      "text/plain": [
       "Entity                                   0.000000\n",
       "Code                                     0.161826\n",
       "Year                                     0.000000\n",
       "100-year olds (males per 100 females)    0.664403\n",
       "15-year olds (males per 100 females)     0.000000\n",
       "20-year olds (males per 100 females)     0.000000\n",
       "30-year olds (males per 100 females)     0.000000\n",
       "40-year olds (males per 100 females)     0.000000\n",
       "50-year olds (males per 100 females)     0.000000\n",
       "60-year olds (males per 100 females)     0.000000\n",
       "70-year olds (males per 100 females)     0.000000\n",
       "80-year olds (males per 100 females)     0.606061\n",
       "90-year olds (males per 100 females)     0.606123\n",
       "dtype: float64"
      ]
     },
     "execution_count": 86,
     "metadata": {},
     "output_type": "execute_result"
    }
   ],
   "source": [
    "ratio_age.isna().sum() / len(ratio_age)"
   ]
  },
  {
   "cell_type": "markdown",
   "metadata": {},
   "source": [
    "For the columns = 80-year olds, 90-year olds and 100-year olds there is more than 60% of missing values. Based on the fact that the life expectancy is around 80 years, I decided to keep the columns with missing values without replacing it. "
   ]
  },
  {
   "cell_type": "code",
   "execution_count": 87,
   "metadata": {},
   "outputs": [
    {
     "data": {
      "text/plain": [
       "Czech Republic            66\n",
       "Oman                      66\n",
       "Iraq                      66\n",
       "Brazil                    66\n",
       "Ghana                     66\n",
       "                          ..\n",
       "Less developed regions    66\n",
       "Lesotho                   66\n",
       "Solomon Islands           66\n",
       "Africa                    66\n",
       "Guinea-Bissau             66\n",
       "Name: Entity, Length: 241, dtype: int64"
      ]
     },
     "execution_count": 87,
     "metadata": {},
     "output_type": "execute_result"
    }
   ],
   "source": [
    "ratio_age[\"Entity\"].value_counts()"
   ]
  },
  {
   "cell_type": "code",
   "execution_count": 88,
   "metadata": {},
   "outputs": [
    {
     "data": {
      "text/plain": [
       "Index(['Entity', 'Code', 'Year', '100-year olds (males per 100 females)',\n",
       "       '15-year olds (males per 100 females)',\n",
       "       '20-year olds (males per 100 females)',\n",
       "       '30-year olds (males per 100 females)',\n",
       "       '40-year olds (males per 100 females)',\n",
       "       '50-year olds (males per 100 females)',\n",
       "       '60-year olds (males per 100 females)',\n",
       "       '70-year olds (males per 100 females)',\n",
       "       '80-year olds (males per 100 females)',\n",
       "       '90-year olds (males per 100 females)'],\n",
       "      dtype='object')"
      ]
     },
     "execution_count": 88,
     "metadata": {},
     "output_type": "execute_result"
    }
   ],
   "source": [
    "ratio_age.columns"
   ]
  },
  {
   "cell_type": "code",
   "execution_count": 89,
   "metadata": {},
   "outputs": [],
   "source": [
    "ratio_age.rename(columns = {\"Entity\" : \"Country\",\n",
    "                            '15-year olds (males per 100 females)' : '15 years old',\n",
    "                            '20-year olds (males per 100 females)' : '20 years old',\n",
    "                            '30-year olds (males per 100 females)' : '30 years old',\n",
    "                            '40-year olds (males per 100 females)' : '40 years old',\n",
    "                            '50-year olds (males per 100 females)' : '50 years old',\n",
    "                            '60-year olds (males per 100 females)' : '60 years old',\n",
    "                            '70-year olds (males per 100 females)' : '70 years old',\n",
    "                            '80-year olds (males per 100 females)' : '80 years old',\n",
    "                            '90-year olds (males per 100 females)' : '90 years old',\n",
    "                            '100-year olds (males per 100 females)' : '100 years old'}, inplace = True)"
   ]
  },
  {
   "cell_type": "code",
   "execution_count": 90,
   "metadata": {
    "scrolled": true
   },
   "outputs": [
    {
     "data": {
      "text/plain": [
       "Country           object\n",
       "Code              object\n",
       "Year               int64\n",
       "100 years old    float64\n",
       "15 years old     float64\n",
       "20 years old     float64\n",
       "30 years old     float64\n",
       "40 years old     float64\n",
       "50 years old     float64\n",
       "60 years old     float64\n",
       "70 years old     float64\n",
       "80 years old     float64\n",
       "90 years old     float64\n",
       "dtype: object"
      ]
     },
     "execution_count": 90,
     "metadata": {},
     "output_type": "execute_result"
    }
   ],
   "source": [
    "ratio_age.dtypes"
   ]
  },
  {
   "cell_type": "code",
   "execution_count": 91,
   "metadata": {},
   "outputs": [],
   "source": [
    "ratio_age[\"Year\"] = pd.to_datetime(ratio_age[\"Year\"], format = '%Y')"
   ]
  },
  {
   "cell_type": "code",
   "execution_count": 92,
   "metadata": {},
   "outputs": [],
   "source": [
    "ratio_age = ratio_age[ratio_age[\"Country\"].isin(country_names)]"
   ]
  },
  {
   "cell_type": "code",
   "execution_count": 93,
   "metadata": {},
   "outputs": [],
   "source": [
    "ratio_age[['15 years old',\n",
    "           '20 years old',\n",
    "           '30 years old',\n",
    "           '40 years old',\n",
    "           '50 years old',\n",
    "           '60 years old',\n",
    "           '70 years old',\n",
    "           '80 years old',\n",
    "           '90 years old',\n",
    "           '100 years old']] = ratio_age[['15 years old',\n",
    "                                          '20 years old',\n",
    "                                          '30 years old',\n",
    "                                          '40 years old',\n",
    "                                          '50 years old',\n",
    "                                          '60 years old',\n",
    "                                          '70 years old',\n",
    "                                          '80 years old',\n",
    "                                          '90 years old',\n",
    "                                          '100 years old']].round(decimals = 2)"
   ]
  },
  {
   "cell_type": "code",
   "execution_count": 94,
   "metadata": {},
   "outputs": [
    {
     "data": {
      "text/html": [
       "<div>\n",
       "<style scoped>\n",
       "    .dataframe tbody tr th:only-of-type {\n",
       "        vertical-align: middle;\n",
       "    }\n",
       "\n",
       "    .dataframe tbody tr th {\n",
       "        vertical-align: top;\n",
       "    }\n",
       "\n",
       "    .dataframe thead th {\n",
       "        text-align: right;\n",
       "    }\n",
       "</style>\n",
       "<table border=\"1\" class=\"dataframe\">\n",
       "  <thead>\n",
       "    <tr style=\"text-align: right;\">\n",
       "      <th></th>\n",
       "      <th>Country</th>\n",
       "      <th>Code</th>\n",
       "      <th>Year</th>\n",
       "      <th>100 years old</th>\n",
       "      <th>15 years old</th>\n",
       "      <th>20 years old</th>\n",
       "      <th>30 years old</th>\n",
       "      <th>40 years old</th>\n",
       "      <th>50 years old</th>\n",
       "      <th>60 years old</th>\n",
       "      <th>70 years old</th>\n",
       "      <th>80 years old</th>\n",
       "      <th>90 years old</th>\n",
       "    </tr>\n",
       "  </thead>\n",
       "  <tbody>\n",
       "    <tr>\n",
       "      <th>0</th>\n",
       "      <td>Afghanistan</td>\n",
       "      <td>AFG</td>\n",
       "      <td>1950-01-01</td>\n",
       "      <td>NaN</td>\n",
       "      <td>110.73</td>\n",
       "      <td>115.68</td>\n",
       "      <td>118.57</td>\n",
       "      <td>119.64</td>\n",
       "      <td>124.99</td>\n",
       "      <td>130.46</td>\n",
       "      <td>130.00</td>\n",
       "      <td>NaN</td>\n",
       "      <td>NaN</td>\n",
       "    </tr>\n",
       "    <tr>\n",
       "      <th>1</th>\n",
       "      <td>Afghanistan</td>\n",
       "      <td>AFG</td>\n",
       "      <td>1951-01-01</td>\n",
       "      <td>NaN</td>\n",
       "      <td>110.24</td>\n",
       "      <td>114.39</td>\n",
       "      <td>118.29</td>\n",
       "      <td>119.38</td>\n",
       "      <td>124.59</td>\n",
       "      <td>130.06</td>\n",
       "      <td>129.30</td>\n",
       "      <td>NaN</td>\n",
       "      <td>NaN</td>\n",
       "    </tr>\n",
       "    <tr>\n",
       "      <th>2</th>\n",
       "      <td>Afghanistan</td>\n",
       "      <td>AFG</td>\n",
       "      <td>1952-01-01</td>\n",
       "      <td>NaN</td>\n",
       "      <td>109.22</td>\n",
       "      <td>112.67</td>\n",
       "      <td>117.52</td>\n",
       "      <td>118.79</td>\n",
       "      <td>123.71</td>\n",
       "      <td>129.19</td>\n",
       "      <td>127.95</td>\n",
       "      <td>NaN</td>\n",
       "      <td>NaN</td>\n",
       "    </tr>\n",
       "    <tr>\n",
       "      <th>3</th>\n",
       "      <td>Afghanistan</td>\n",
       "      <td>AFG</td>\n",
       "      <td>1953-01-01</td>\n",
       "      <td>NaN</td>\n",
       "      <td>108.65</td>\n",
       "      <td>111.34</td>\n",
       "      <td>117.06</td>\n",
       "      <td>118.24</td>\n",
       "      <td>122.20</td>\n",
       "      <td>127.65</td>\n",
       "      <td>126.50</td>\n",
       "      <td>NaN</td>\n",
       "      <td>NaN</td>\n",
       "    </tr>\n",
       "    <tr>\n",
       "      <th>4</th>\n",
       "      <td>Afghanistan</td>\n",
       "      <td>AFG</td>\n",
       "      <td>1954-01-01</td>\n",
       "      <td>NaN</td>\n",
       "      <td>108.70</td>\n",
       "      <td>110.69</td>\n",
       "      <td>117.10</td>\n",
       "      <td>117.75</td>\n",
       "      <td>119.96</td>\n",
       "      <td>125.27</td>\n",
       "      <td>125.06</td>\n",
       "      <td>NaN</td>\n",
       "      <td>NaN</td>\n",
       "    </tr>\n",
       "  </tbody>\n",
       "</table>\n",
       "</div>"
      ],
      "text/plain": [
       "       Country Code       Year  100 years old  15 years old  20 years old  \\\n",
       "0  Afghanistan  AFG 1950-01-01            NaN        110.73        115.68   \n",
       "1  Afghanistan  AFG 1951-01-01            NaN        110.24        114.39   \n",
       "2  Afghanistan  AFG 1952-01-01            NaN        109.22        112.67   \n",
       "3  Afghanistan  AFG 1953-01-01            NaN        108.65        111.34   \n",
       "4  Afghanistan  AFG 1954-01-01            NaN        108.70        110.69   \n",
       "\n",
       "   30 years old  40 years old  50 years old  60 years old  70 years old  \\\n",
       "0        118.57        119.64        124.99        130.46        130.00   \n",
       "1        118.29        119.38        124.59        130.06        129.30   \n",
       "2        117.52        118.79        123.71        129.19        127.95   \n",
       "3        117.06        118.24        122.20        127.65        126.50   \n",
       "4        117.10        117.75        119.96        125.27        125.06   \n",
       "\n",
       "   80 years old  90 years old  \n",
       "0           NaN           NaN  \n",
       "1           NaN           NaN  \n",
       "2           NaN           NaN  \n",
       "3           NaN           NaN  \n",
       "4           NaN           NaN  "
      ]
     },
     "execution_count": 94,
     "metadata": {},
     "output_type": "execute_result"
    }
   ],
   "source": [
    "ratio_age.head()"
   ]
  },
  {
   "cell_type": "code",
   "execution_count": 95,
   "metadata": {},
   "outputs": [],
   "source": [
    "ratio_age.to_csv(\"../data/sex-ratio-by-age.csv\", index = False)"
   ]
  },
  {
   "cell_type": "markdown",
   "metadata": {},
   "source": [
    "## Sex ratio at 5 years old"
   ]
  },
  {
   "cell_type": "code",
   "execution_count": 96,
   "metadata": {},
   "outputs": [],
   "source": [
    "ratio_5 = pd.read_csv(\"../data/original_data/sex-ratio-at-five-years-old.csv\")"
   ]
  },
  {
   "cell_type": "code",
   "execution_count": 97,
   "metadata": {},
   "outputs": [
    {
     "data": {
      "text/html": [
       "<div>\n",
       "<style scoped>\n",
       "    .dataframe tbody tr th:only-of-type {\n",
       "        vertical-align: middle;\n",
       "    }\n",
       "\n",
       "    .dataframe tbody tr th {\n",
       "        vertical-align: top;\n",
       "    }\n",
       "\n",
       "    .dataframe thead th {\n",
       "        text-align: right;\n",
       "    }\n",
       "</style>\n",
       "<table border=\"1\" class=\"dataframe\">\n",
       "  <thead>\n",
       "    <tr style=\"text-align: right;\">\n",
       "      <th></th>\n",
       "      <th>Entity</th>\n",
       "      <th>Code</th>\n",
       "      <th>Year</th>\n",
       "      <th>Five-year olds (boys per 100 girls)</th>\n",
       "    </tr>\n",
       "  </thead>\n",
       "  <tbody>\n",
       "    <tr>\n",
       "      <th>0</th>\n",
       "      <td>Afghanistan</td>\n",
       "      <td>AFG</td>\n",
       "      <td>1950</td>\n",
       "      <td>103.088241</td>\n",
       "    </tr>\n",
       "    <tr>\n",
       "      <th>1</th>\n",
       "      <td>Afghanistan</td>\n",
       "      <td>AFG</td>\n",
       "      <td>1951</td>\n",
       "      <td>100.610669</td>\n",
       "    </tr>\n",
       "    <tr>\n",
       "      <th>2</th>\n",
       "      <td>Afghanistan</td>\n",
       "      <td>AFG</td>\n",
       "      <td>1952</td>\n",
       "      <td>97.613596</td>\n",
       "    </tr>\n",
       "    <tr>\n",
       "      <th>3</th>\n",
       "      <td>Afghanistan</td>\n",
       "      <td>AFG</td>\n",
       "      <td>1953</td>\n",
       "      <td>95.081516</td>\n",
       "    </tr>\n",
       "    <tr>\n",
       "      <th>4</th>\n",
       "      <td>Afghanistan</td>\n",
       "      <td>AFG</td>\n",
       "      <td>1954</td>\n",
       "      <td>93.725327</td>\n",
       "    </tr>\n",
       "  </tbody>\n",
       "</table>\n",
       "</div>"
      ],
      "text/plain": [
       "        Entity Code  Year  Five-year olds (boys per 100 girls)\n",
       "0  Afghanistan  AFG  1950                           103.088241\n",
       "1  Afghanistan  AFG  1951                           100.610669\n",
       "2  Afghanistan  AFG  1952                            97.613596\n",
       "3  Afghanistan  AFG  1953                            95.081516\n",
       "4  Afghanistan  AFG  1954                            93.725327"
      ]
     },
     "execution_count": 97,
     "metadata": {},
     "output_type": "execute_result"
    }
   ],
   "source": [
    "ratio_5.head()"
   ]
  },
  {
   "cell_type": "code",
   "execution_count": 98,
   "metadata": {},
   "outputs": [
    {
     "data": {
      "text/plain": [
       "(15906, 4)"
      ]
     },
     "execution_count": 98,
     "metadata": {},
     "output_type": "execute_result"
    }
   ],
   "source": [
    "ratio_5.shape"
   ]
  },
  {
   "cell_type": "code",
   "execution_count": 99,
   "metadata": {},
   "outputs": [
    {
     "data": {
      "text/plain": [
       "Entity                                    0\n",
       "Code                                   2574\n",
       "Year                                      0\n",
       "Five-year olds (boys per 100 girls)       0\n",
       "dtype: int64"
      ]
     },
     "execution_count": 99,
     "metadata": {},
     "output_type": "execute_result"
    }
   ],
   "source": [
    "ratio_5.isna().sum()"
   ]
  },
  {
   "cell_type": "code",
   "execution_count": 100,
   "metadata": {},
   "outputs": [
    {
     "data": {
      "text/plain": [
       "Czech Republic            66\n",
       "Oman                      66\n",
       "Iraq                      66\n",
       "Brazil                    66\n",
       "Ghana                     66\n",
       "                          ..\n",
       "Less developed regions    66\n",
       "Lesotho                   66\n",
       "Solomon Islands           66\n",
       "Africa                    66\n",
       "Guinea-Bissau             66\n",
       "Name: Entity, Length: 241, dtype: int64"
      ]
     },
     "execution_count": 100,
     "metadata": {},
     "output_type": "execute_result"
    }
   ],
   "source": [
    "ratio_5[\"Entity\"].value_counts()"
   ]
  },
  {
   "cell_type": "code",
   "execution_count": 101,
   "metadata": {},
   "outputs": [],
   "source": [
    "ratio_5.rename(columns = {\"Entity\" : \"Country\", \"Five-year olds (boys per 100 girls)\" : \"5 years old\"}, inplace = True)"
   ]
  },
  {
   "cell_type": "code",
   "execution_count": 102,
   "metadata": {},
   "outputs": [],
   "source": [
    "ratio_5 = ratio_5[ratio_5[\"Country\"].isin(country_names)]"
   ]
  },
  {
   "cell_type": "code",
   "execution_count": 103,
   "metadata": {},
   "outputs": [
    {
     "data": {
      "text/plain": [
       "Country         object\n",
       "Code            object\n",
       "Year             int64\n",
       "5 years old    float64\n",
       "dtype: object"
      ]
     },
     "execution_count": 103,
     "metadata": {},
     "output_type": "execute_result"
    }
   ],
   "source": [
    "ratio_5.dtypes"
   ]
  },
  {
   "cell_type": "code",
   "execution_count": 104,
   "metadata": {},
   "outputs": [],
   "source": [
    "ratio_5[\"Year\"] = pd.to_datetime(ratio_5[\"Year\"], format = '%Y')"
   ]
  },
  {
   "cell_type": "code",
   "execution_count": 105,
   "metadata": {},
   "outputs": [],
   "source": [
    "ratio_5[\"5 years old\"] = ratio_5[\"5 years old\"].round(decimals = 2)"
   ]
  },
  {
   "cell_type": "code",
   "execution_count": 106,
   "metadata": {},
   "outputs": [
    {
     "data": {
      "text/html": [
       "<div>\n",
       "<style scoped>\n",
       "    .dataframe tbody tr th:only-of-type {\n",
       "        vertical-align: middle;\n",
       "    }\n",
       "\n",
       "    .dataframe tbody tr th {\n",
       "        vertical-align: top;\n",
       "    }\n",
       "\n",
       "    .dataframe thead th {\n",
       "        text-align: right;\n",
       "    }\n",
       "</style>\n",
       "<table border=\"1\" class=\"dataframe\">\n",
       "  <thead>\n",
       "    <tr style=\"text-align: right;\">\n",
       "      <th></th>\n",
       "      <th>Country</th>\n",
       "      <th>Code</th>\n",
       "      <th>Year</th>\n",
       "      <th>5 years old</th>\n",
       "    </tr>\n",
       "  </thead>\n",
       "  <tbody>\n",
       "    <tr>\n",
       "      <th>0</th>\n",
       "      <td>Afghanistan</td>\n",
       "      <td>AFG</td>\n",
       "      <td>1950-01-01</td>\n",
       "      <td>103.09</td>\n",
       "    </tr>\n",
       "    <tr>\n",
       "      <th>1</th>\n",
       "      <td>Afghanistan</td>\n",
       "      <td>AFG</td>\n",
       "      <td>1951-01-01</td>\n",
       "      <td>100.61</td>\n",
       "    </tr>\n",
       "    <tr>\n",
       "      <th>2</th>\n",
       "      <td>Afghanistan</td>\n",
       "      <td>AFG</td>\n",
       "      <td>1952-01-01</td>\n",
       "      <td>97.61</td>\n",
       "    </tr>\n",
       "    <tr>\n",
       "      <th>3</th>\n",
       "      <td>Afghanistan</td>\n",
       "      <td>AFG</td>\n",
       "      <td>1953-01-01</td>\n",
       "      <td>95.08</td>\n",
       "    </tr>\n",
       "    <tr>\n",
       "      <th>4</th>\n",
       "      <td>Afghanistan</td>\n",
       "      <td>AFG</td>\n",
       "      <td>1954-01-01</td>\n",
       "      <td>93.73</td>\n",
       "    </tr>\n",
       "  </tbody>\n",
       "</table>\n",
       "</div>"
      ],
      "text/plain": [
       "       Country Code       Year  5 years old\n",
       "0  Afghanistan  AFG 1950-01-01       103.09\n",
       "1  Afghanistan  AFG 1951-01-01       100.61\n",
       "2  Afghanistan  AFG 1952-01-01        97.61\n",
       "3  Afghanistan  AFG 1953-01-01        95.08\n",
       "4  Afghanistan  AFG 1954-01-01        93.73"
      ]
     },
     "execution_count": 106,
     "metadata": {},
     "output_type": "execute_result"
    }
   ],
   "source": [
    "ratio_5.head()"
   ]
  },
  {
   "cell_type": "code",
   "execution_count": 107,
   "metadata": {},
   "outputs": [],
   "source": [
    "ratio_5.to_csv(\"../data/sex-ratio-at-5-years.csv\", index = False)"
   ]
  },
  {
   "cell_type": "markdown",
   "metadata": {},
   "source": [
    "## Birth vs 5-years old"
   ]
  },
  {
   "cell_type": "code",
   "execution_count": 108,
   "metadata": {},
   "outputs": [],
   "source": [
    "birth_vs_5 = pd.read_csv(\"../data/original_data/sex-ratio-at-birth-vs-five-years-old.csv\")"
   ]
  },
  {
   "cell_type": "code",
   "execution_count": 109,
   "metadata": {},
   "outputs": [
    {
     "data": {
      "text/html": [
       "<div>\n",
       "<style scoped>\n",
       "    .dataframe tbody tr th:only-of-type {\n",
       "        vertical-align: middle;\n",
       "    }\n",
       "\n",
       "    .dataframe tbody tr th {\n",
       "        vertical-align: top;\n",
       "    }\n",
       "\n",
       "    .dataframe thead th {\n",
       "        text-align: right;\n",
       "    }\n",
       "</style>\n",
       "<table border=\"1\" class=\"dataframe\">\n",
       "  <thead>\n",
       "    <tr style=\"text-align: right;\">\n",
       "      <th></th>\n",
       "      <th>Entity</th>\n",
       "      <th>Code</th>\n",
       "      <th>Year</th>\n",
       "      <th>Sex ratio at birth (male births per 100 female births)</th>\n",
       "      <th>Sex ratio at five years old</th>\n",
       "    </tr>\n",
       "  </thead>\n",
       "  <tbody>\n",
       "    <tr>\n",
       "      <th>0</th>\n",
       "      <td>Afghanistan</td>\n",
       "      <td>AFG</td>\n",
       "      <td>1950</td>\n",
       "      <td>NaN</td>\n",
       "      <td>103.088241</td>\n",
       "    </tr>\n",
       "    <tr>\n",
       "      <th>1</th>\n",
       "      <td>Afghanistan</td>\n",
       "      <td>AFG</td>\n",
       "      <td>1951</td>\n",
       "      <td>NaN</td>\n",
       "      <td>100.610669</td>\n",
       "    </tr>\n",
       "    <tr>\n",
       "      <th>2</th>\n",
       "      <td>Afghanistan</td>\n",
       "      <td>AFG</td>\n",
       "      <td>1952</td>\n",
       "      <td>NaN</td>\n",
       "      <td>97.613596</td>\n",
       "    </tr>\n",
       "    <tr>\n",
       "      <th>3</th>\n",
       "      <td>Afghanistan</td>\n",
       "      <td>AFG</td>\n",
       "      <td>1953</td>\n",
       "      <td>NaN</td>\n",
       "      <td>95.081516</td>\n",
       "    </tr>\n",
       "    <tr>\n",
       "      <th>4</th>\n",
       "      <td>Afghanistan</td>\n",
       "      <td>AFG</td>\n",
       "      <td>1954</td>\n",
       "      <td>NaN</td>\n",
       "      <td>93.725327</td>\n",
       "    </tr>\n",
       "  </tbody>\n",
       "</table>\n",
       "</div>"
      ],
      "text/plain": [
       "        Entity Code  Year  \\\n",
       "0  Afghanistan  AFG  1950   \n",
       "1  Afghanistan  AFG  1951   \n",
       "2  Afghanistan  AFG  1952   \n",
       "3  Afghanistan  AFG  1953   \n",
       "4  Afghanistan  AFG  1954   \n",
       "\n",
       "   Sex ratio at birth (male births per 100 female births)  \\\n",
       "0                                                NaN        \n",
       "1                                                NaN        \n",
       "2                                                NaN        \n",
       "3                                                NaN        \n",
       "4                                                NaN        \n",
       "\n",
       "   Sex ratio at five years old  \n",
       "0                   103.088241  \n",
       "1                   100.610669  \n",
       "2                    97.613596  \n",
       "3                    95.081516  \n",
       "4                    93.725327  "
      ]
     },
     "execution_count": 109,
     "metadata": {},
     "output_type": "execute_result"
    }
   ],
   "source": [
    "birth_vs_5.head()"
   ]
  },
  {
   "cell_type": "markdown",
   "metadata": {},
   "source": [
    "Don't need this now, since is just a merged table containing infomation from 2 datasets."
   ]
  },
  {
   "cell_type": "markdown",
   "metadata": {},
   "source": [
    "## Infant death by cause by sex\n",
    "\n",
    "#### Global Information for 2017"
   ]
  },
  {
   "cell_type": "code",
   "execution_count": 110,
   "metadata": {},
   "outputs": [],
   "source": [
    "infant_death = pd.read_csv(\"../data/original_data/infant-death-rates-by-cause-by-sex.csv\")"
   ]
  },
  {
   "cell_type": "code",
   "execution_count": 111,
   "metadata": {},
   "outputs": [
    {
     "data": {
      "text/html": [
       "<div>\n",
       "<style scoped>\n",
       "    .dataframe tbody tr th:only-of-type {\n",
       "        vertical-align: middle;\n",
       "    }\n",
       "\n",
       "    .dataframe tbody tr th {\n",
       "        vertical-align: top;\n",
       "    }\n",
       "\n",
       "    .dataframe thead th {\n",
       "        text-align: right;\n",
       "    }\n",
       "</style>\n",
       "<table border=\"1\" class=\"dataframe\">\n",
       "  <thead>\n",
       "    <tr style=\"text-align: right;\">\n",
       "      <th></th>\n",
       "      <th>Entity</th>\n",
       "      <th>Code</th>\n",
       "      <th>Year</th>\n",
       "      <th>Infant mortality rates in boys (per 100,000) (deaths per 100,000)</th>\n",
       "      <th>Infant mortality rates in girls (per 100,000) (deaths per 100,000)</th>\n",
       "    </tr>\n",
       "  </thead>\n",
       "  <tbody>\n",
       "    <tr>\n",
       "      <th>0</th>\n",
       "      <td>Birth defects</td>\n",
       "      <td>NaN</td>\n",
       "      <td>2017</td>\n",
       "      <td>319.6</td>\n",
       "      <td>297.1</td>\n",
       "    </tr>\n",
       "    <tr>\n",
       "      <th>1</th>\n",
       "      <td>Diarrheal diseases</td>\n",
       "      <td>NaN</td>\n",
       "      <td>2017</td>\n",
       "      <td>251.5</td>\n",
       "      <td>228.7</td>\n",
       "    </tr>\n",
       "    <tr>\n",
       "      <th>2</th>\n",
       "      <td>Digestive anomalies</td>\n",
       "      <td>NaN</td>\n",
       "      <td>2017</td>\n",
       "      <td>36.3</td>\n",
       "      <td>28.2</td>\n",
       "    </tr>\n",
       "    <tr>\n",
       "      <th>3</th>\n",
       "      <td>Encephalitis</td>\n",
       "      <td>NaN</td>\n",
       "      <td>2017</td>\n",
       "      <td>9.1</td>\n",
       "      <td>9.4</td>\n",
       "    </tr>\n",
       "    <tr>\n",
       "      <th>4</th>\n",
       "      <td>Encephalopathy from asphyxia and trauma</td>\n",
       "      <td>NaN</td>\n",
       "      <td>2017</td>\n",
       "      <td>432.8</td>\n",
       "      <td>332.8</td>\n",
       "    </tr>\n",
       "    <tr>\n",
       "      <th>5</th>\n",
       "      <td>HIV/AIDS</td>\n",
       "      <td>NaN</td>\n",
       "      <td>2017</td>\n",
       "      <td>35.9</td>\n",
       "      <td>36.1</td>\n",
       "    </tr>\n",
       "    <tr>\n",
       "      <th>6</th>\n",
       "      <td>Heart anomalies</td>\n",
       "      <td>NaN</td>\n",
       "      <td>2017</td>\n",
       "      <td>134.4</td>\n",
       "      <td>127.3</td>\n",
       "    </tr>\n",
       "    <tr>\n",
       "      <th>7</th>\n",
       "      <td>Lower respiratory infections</td>\n",
       "      <td>NaN</td>\n",
       "      <td>2017</td>\n",
       "      <td>442.7</td>\n",
       "      <td>438.3</td>\n",
       "    </tr>\n",
       "    <tr>\n",
       "      <th>8</th>\n",
       "      <td>Malaria</td>\n",
       "      <td>NaN</td>\n",
       "      <td>2017</td>\n",
       "      <td>98.9</td>\n",
       "      <td>92.3</td>\n",
       "    </tr>\n",
       "    <tr>\n",
       "      <th>9</th>\n",
       "      <td>Measles</td>\n",
       "      <td>NaN</td>\n",
       "      <td>2017</td>\n",
       "      <td>17.9</td>\n",
       "      <td>17.8</td>\n",
       "    </tr>\n",
       "    <tr>\n",
       "      <th>10</th>\n",
       "      <td>Meningitis</td>\n",
       "      <td>NaN</td>\n",
       "      <td>2017</td>\n",
       "      <td>68.4</td>\n",
       "      <td>62.3</td>\n",
       "    </tr>\n",
       "    <tr>\n",
       "      <th>11</th>\n",
       "      <td>Nutritional deficiencies</td>\n",
       "      <td>NaN</td>\n",
       "      <td>2017</td>\n",
       "      <td>44.5</td>\n",
       "      <td>57.6</td>\n",
       "    </tr>\n",
       "    <tr>\n",
       "      <th>12</th>\n",
       "      <td>Preterm birth</td>\n",
       "      <td>NaN</td>\n",
       "      <td>2017</td>\n",
       "      <td>517.3</td>\n",
       "      <td>418.1</td>\n",
       "    </tr>\n",
       "    <tr>\n",
       "      <th>13</th>\n",
       "      <td>Sudden infant death syndrome</td>\n",
       "      <td>NaN</td>\n",
       "      <td>2017</td>\n",
       "      <td>32.7</td>\n",
       "      <td>25.0</td>\n",
       "    </tr>\n",
       "    <tr>\n",
       "      <th>14</th>\n",
       "      <td>Syphilis</td>\n",
       "      <td>NaN</td>\n",
       "      <td>2017</td>\n",
       "      <td>93.1</td>\n",
       "      <td>60.8</td>\n",
       "    </tr>\n",
       "    <tr>\n",
       "      <th>15</th>\n",
       "      <td>Tetanus</td>\n",
       "      <td>NaN</td>\n",
       "      <td>2017</td>\n",
       "      <td>12.7</td>\n",
       "      <td>11.5</td>\n",
       "    </tr>\n",
       "    <tr>\n",
       "      <th>16</th>\n",
       "      <td>Tuberculosis</td>\n",
       "      <td>NaN</td>\n",
       "      <td>2017</td>\n",
       "      <td>20.6</td>\n",
       "      <td>22.6</td>\n",
       "    </tr>\n",
       "    <tr>\n",
       "      <th>17</th>\n",
       "      <td>Whooping cough</td>\n",
       "      <td>NaN</td>\n",
       "      <td>2017</td>\n",
       "      <td>27.6</td>\n",
       "      <td>34.7</td>\n",
       "    </tr>\n",
       "  </tbody>\n",
       "</table>\n",
       "</div>"
      ],
      "text/plain": [
       "                                     Entity  Code  Year  \\\n",
       "0                             Birth defects   NaN  2017   \n",
       "1                        Diarrheal diseases   NaN  2017   \n",
       "2                       Digestive anomalies   NaN  2017   \n",
       "3                              Encephalitis   NaN  2017   \n",
       "4   Encephalopathy from asphyxia and trauma   NaN  2017   \n",
       "5                                  HIV/AIDS   NaN  2017   \n",
       "6                           Heart anomalies   NaN  2017   \n",
       "7              Lower respiratory infections   NaN  2017   \n",
       "8                                   Malaria   NaN  2017   \n",
       "9                                   Measles   NaN  2017   \n",
       "10                               Meningitis   NaN  2017   \n",
       "11                 Nutritional deficiencies   NaN  2017   \n",
       "12                            Preterm birth   NaN  2017   \n",
       "13             Sudden infant death syndrome   NaN  2017   \n",
       "14                                 Syphilis   NaN  2017   \n",
       "15                                  Tetanus   NaN  2017   \n",
       "16                             Tuberculosis   NaN  2017   \n",
       "17                           Whooping cough   NaN  2017   \n",
       "\n",
       "    Infant mortality rates in boys (per 100,000) (deaths per 100,000)  \\\n",
       "0                                               319.6                   \n",
       "1                                               251.5                   \n",
       "2                                                36.3                   \n",
       "3                                                 9.1                   \n",
       "4                                               432.8                   \n",
       "5                                                35.9                   \n",
       "6                                               134.4                   \n",
       "7                                               442.7                   \n",
       "8                                                98.9                   \n",
       "9                                                17.9                   \n",
       "10                                               68.4                   \n",
       "11                                               44.5                   \n",
       "12                                              517.3                   \n",
       "13                                               32.7                   \n",
       "14                                               93.1                   \n",
       "15                                               12.7                   \n",
       "16                                               20.6                   \n",
       "17                                               27.6                   \n",
       "\n",
       "    Infant mortality rates in girls (per 100,000) (deaths per 100,000)  \n",
       "0                                               297.1                   \n",
       "1                                               228.7                   \n",
       "2                                                28.2                   \n",
       "3                                                 9.4                   \n",
       "4                                               332.8                   \n",
       "5                                                36.1                   \n",
       "6                                               127.3                   \n",
       "7                                               438.3                   \n",
       "8                                                92.3                   \n",
       "9                                                17.8                   \n",
       "10                                               62.3                   \n",
       "11                                               57.6                   \n",
       "12                                              418.1                   \n",
       "13                                               25.0                   \n",
       "14                                               60.8                   \n",
       "15                                               11.5                   \n",
       "16                                               22.6                   \n",
       "17                                               34.7                   "
      ]
     },
     "execution_count": 111,
     "metadata": {},
     "output_type": "execute_result"
    }
   ],
   "source": [
    "infant_death"
   ]
  },
  {
   "cell_type": "code",
   "execution_count": 112,
   "metadata": {},
   "outputs": [],
   "source": [
    "infant_death.rename(columns = {\"Infant mortality rates in boys (per 100,000) (deaths per 100,000)\" : \"Infant mortality rates - boys (per 100k)\", \"Infant mortality rates in girls (per 100,000) (deaths per 100,000)\": \"Infant mortality rates - girls (per 100k)\", \"Entity\" : \"Reason\"}, inplace = True)"
   ]
  },
  {
   "cell_type": "code",
   "execution_count": 113,
   "metadata": {},
   "outputs": [
    {
     "data": {
      "text/plain": [
       "Reason                                        object\n",
       "Code                                         float64\n",
       "Year                                           int64\n",
       "Infant mortality rates - boys (per 100k)     float64\n",
       "Infant mortality rates - girls (per 100k)    float64\n",
       "dtype: object"
      ]
     },
     "execution_count": 113,
     "metadata": {},
     "output_type": "execute_result"
    }
   ],
   "source": [
    "infant_death.dtypes"
   ]
  },
  {
   "cell_type": "code",
   "execution_count": 114,
   "metadata": {},
   "outputs": [],
   "source": [
    "infant_death[\"Year\"] = pd.to_datetime(infant_death[\"Year\"], format = '%Y')"
   ]
  },
  {
   "cell_type": "code",
   "execution_count": 115,
   "metadata": {},
   "outputs": [
    {
     "data": {
      "text/plain": [
       "Reason                                        0\n",
       "Code                                         18\n",
       "Year                                          0\n",
       "Infant mortality rates - boys (per 100k)      0\n",
       "Infant mortality rates - girls (per 100k)     0\n",
       "dtype: int64"
      ]
     },
     "execution_count": 115,
     "metadata": {},
     "output_type": "execute_result"
    }
   ],
   "source": [
    "infant_death.isna().sum()"
   ]
  },
  {
   "cell_type": "code",
   "execution_count": 116,
   "metadata": {},
   "outputs": [],
   "source": [
    "infant_death.drop(columns = 'Code', inplace = True)"
   ]
  },
  {
   "cell_type": "code",
   "execution_count": 117,
   "metadata": {},
   "outputs": [
    {
     "data": {
      "text/plain": [
       "Reason                                               object\n",
       "Year                                         datetime64[ns]\n",
       "Infant mortality rates - boys (per 100k)            float64\n",
       "Infant mortality rates - girls (per 100k)           float64\n",
       "dtype: object"
      ]
     },
     "execution_count": 117,
     "metadata": {},
     "output_type": "execute_result"
    }
   ],
   "source": [
    "infant_death.dtypes"
   ]
  },
  {
   "cell_type": "code",
   "execution_count": 118,
   "metadata": {},
   "outputs": [],
   "source": [
    "infant_death.to_csv(\"../data/infant-death-cause-global.csv\", index = False)"
   ]
  },
  {
   "cell_type": "markdown",
   "metadata": {},
   "source": [
    "## Infant death by cause by sex\n",
    "\n",
    "#### India information for 2017"
   ]
  },
  {
   "cell_type": "code",
   "execution_count": 119,
   "metadata": {},
   "outputs": [],
   "source": [
    "infant_death_india = pd.read_csv(\"../data/original_data/child-deaths-by-cause-by-sex-india.csv\")"
   ]
  },
  {
   "cell_type": "code",
   "execution_count": 120,
   "metadata": {},
   "outputs": [
    {
     "data": {
      "text/html": [
       "<div>\n",
       "<style scoped>\n",
       "    .dataframe tbody tr th:only-of-type {\n",
       "        vertical-align: middle;\n",
       "    }\n",
       "\n",
       "    .dataframe tbody tr th {\n",
       "        vertical-align: top;\n",
       "    }\n",
       "\n",
       "    .dataframe thead th {\n",
       "        text-align: right;\n",
       "    }\n",
       "</style>\n",
       "<table border=\"1\" class=\"dataframe\">\n",
       "  <thead>\n",
       "    <tr style=\"text-align: right;\">\n",
       "      <th></th>\n",
       "      <th>Entity</th>\n",
       "      <th>Code</th>\n",
       "      <th>Year</th>\n",
       "      <th>Child death rates in boys (per 100,000) (deaths per 100,000)</th>\n",
       "      <th>Child death rates in girls (per 100,000) (deaths per 100,000)</th>\n",
       "    </tr>\n",
       "  </thead>\n",
       "  <tbody>\n",
       "    <tr>\n",
       "      <th>0</th>\n",
       "      <td>Acute hepatitis</td>\n",
       "      <td>NaN</td>\n",
       "      <td>2017</td>\n",
       "      <td>2.777888</td>\n",
       "      <td>4.333474</td>\n",
       "    </tr>\n",
       "    <tr>\n",
       "      <th>1</th>\n",
       "      <td>Birth defects</td>\n",
       "      <td>NaN</td>\n",
       "      <td>2017</td>\n",
       "      <td>5.092846</td>\n",
       "      <td>7.074653</td>\n",
       "    </tr>\n",
       "    <tr>\n",
       "      <th>2</th>\n",
       "      <td>Chronic respiratory diseases</td>\n",
       "      <td>NaN</td>\n",
       "      <td>2017</td>\n",
       "      <td>1.082364</td>\n",
       "      <td>1.497562</td>\n",
       "    </tr>\n",
       "    <tr>\n",
       "      <th>3</th>\n",
       "      <td>Diarrheal diseases</td>\n",
       "      <td>NaN</td>\n",
       "      <td>2017</td>\n",
       "      <td>19.065209</td>\n",
       "      <td>29.122045</td>\n",
       "    </tr>\n",
       "    <tr>\n",
       "      <th>4</th>\n",
       "      <td>Digestive diseases</td>\n",
       "      <td>NaN</td>\n",
       "      <td>2017</td>\n",
       "      <td>2.594122</td>\n",
       "      <td>3.246213</td>\n",
       "    </tr>\n",
       "    <tr>\n",
       "      <th>5</th>\n",
       "      <td>Encephalitis</td>\n",
       "      <td>NaN</td>\n",
       "      <td>2017</td>\n",
       "      <td>3.669593</td>\n",
       "      <td>5.725556</td>\n",
       "    </tr>\n",
       "    <tr>\n",
       "      <th>6</th>\n",
       "      <td>Enteric infections</td>\n",
       "      <td>NaN</td>\n",
       "      <td>2017</td>\n",
       "      <td>30.739875</td>\n",
       "      <td>39.307895</td>\n",
       "    </tr>\n",
       "    <tr>\n",
       "      <th>7</th>\n",
       "      <td>Heart anomalies</td>\n",
       "      <td>NaN</td>\n",
       "      <td>2017</td>\n",
       "      <td>3.057078</td>\n",
       "      <td>4.510047</td>\n",
       "    </tr>\n",
       "    <tr>\n",
       "      <th>8</th>\n",
       "      <td>Kidney disease</td>\n",
       "      <td>NaN</td>\n",
       "      <td>2017</td>\n",
       "      <td>0.306952</td>\n",
       "      <td>0.591764</td>\n",
       "    </tr>\n",
       "    <tr>\n",
       "      <th>9</th>\n",
       "      <td>Liver diseases</td>\n",
       "      <td>NaN</td>\n",
       "      <td>2017</td>\n",
       "      <td>1.255518</td>\n",
       "      <td>1.514467</td>\n",
       "    </tr>\n",
       "    <tr>\n",
       "      <th>10</th>\n",
       "      <td>Lower respiratory infections</td>\n",
       "      <td>NaN</td>\n",
       "      <td>2017</td>\n",
       "      <td>19.281769</td>\n",
       "      <td>29.077206</td>\n",
       "    </tr>\n",
       "    <tr>\n",
       "      <th>11</th>\n",
       "      <td>Malaria</td>\n",
       "      <td>NaN</td>\n",
       "      <td>2017</td>\n",
       "      <td>9.031932</td>\n",
       "      <td>13.337436</td>\n",
       "    </tr>\n",
       "    <tr>\n",
       "      <th>12</th>\n",
       "      <td>Measles</td>\n",
       "      <td>NaN</td>\n",
       "      <td>2017</td>\n",
       "      <td>10.080005</td>\n",
       "      <td>10.879811</td>\n",
       "    </tr>\n",
       "    <tr>\n",
       "      <th>13</th>\n",
       "      <td>Nutritional deficiencies</td>\n",
       "      <td>NaN</td>\n",
       "      <td>2017</td>\n",
       "      <td>2.423205</td>\n",
       "      <td>7.649341</td>\n",
       "    </tr>\n",
       "    <tr>\n",
       "      <th>14</th>\n",
       "      <td>Protein-energy malnutrition</td>\n",
       "      <td>NaN</td>\n",
       "      <td>2017</td>\n",
       "      <td>2.003344</td>\n",
       "      <td>6.667169</td>\n",
       "    </tr>\n",
       "    <tr>\n",
       "      <th>15</th>\n",
       "      <td>Syphilis</td>\n",
       "      <td>NaN</td>\n",
       "      <td>2017</td>\n",
       "      <td>0.384516</td>\n",
       "      <td>0.261733</td>\n",
       "    </tr>\n",
       "    <tr>\n",
       "      <th>16</th>\n",
       "      <td>Tetanus</td>\n",
       "      <td>NaN</td>\n",
       "      <td>2017</td>\n",
       "      <td>0.359546</td>\n",
       "      <td>0.257474</td>\n",
       "    </tr>\n",
       "    <tr>\n",
       "      <th>17</th>\n",
       "      <td>Tuberculosis</td>\n",
       "      <td>NaN</td>\n",
       "      <td>2017</td>\n",
       "      <td>2.441170</td>\n",
       "      <td>3.301442</td>\n",
       "    </tr>\n",
       "    <tr>\n",
       "      <th>18</th>\n",
       "      <td>Typhoid</td>\n",
       "      <td>NaN</td>\n",
       "      <td>2017</td>\n",
       "      <td>11.343332</td>\n",
       "      <td>9.852539</td>\n",
       "    </tr>\n",
       "    <tr>\n",
       "      <th>19</th>\n",
       "      <td>Upper respiratory infections</td>\n",
       "      <td>NaN</td>\n",
       "      <td>2017</td>\n",
       "      <td>0.148482</td>\n",
       "      <td>0.128494</td>\n",
       "    </tr>\n",
       "    <tr>\n",
       "      <th>20</th>\n",
       "      <td>Whooping cough</td>\n",
       "      <td>NaN</td>\n",
       "      <td>2017</td>\n",
       "      <td>4.014498</td>\n",
       "      <td>5.632475</td>\n",
       "    </tr>\n",
       "  </tbody>\n",
       "</table>\n",
       "</div>"
      ],
      "text/plain": [
       "                          Entity  Code  Year  \\\n",
       "0                Acute hepatitis   NaN  2017   \n",
       "1                  Birth defects   NaN  2017   \n",
       "2   Chronic respiratory diseases   NaN  2017   \n",
       "3             Diarrheal diseases   NaN  2017   \n",
       "4             Digestive diseases   NaN  2017   \n",
       "5                   Encephalitis   NaN  2017   \n",
       "6             Enteric infections   NaN  2017   \n",
       "7                Heart anomalies   NaN  2017   \n",
       "8                 Kidney disease   NaN  2017   \n",
       "9                 Liver diseases   NaN  2017   \n",
       "10  Lower respiratory infections   NaN  2017   \n",
       "11                       Malaria   NaN  2017   \n",
       "12                       Measles   NaN  2017   \n",
       "13      Nutritional deficiencies   NaN  2017   \n",
       "14   Protein-energy malnutrition   NaN  2017   \n",
       "15                      Syphilis   NaN  2017   \n",
       "16                       Tetanus   NaN  2017   \n",
       "17                  Tuberculosis   NaN  2017   \n",
       "18                       Typhoid   NaN  2017   \n",
       "19  Upper respiratory infections   NaN  2017   \n",
       "20                Whooping cough   NaN  2017   \n",
       "\n",
       "    Child death rates in boys (per 100,000) (deaths per 100,000)  \\\n",
       "0                                            2.777888              \n",
       "1                                            5.092846              \n",
       "2                                            1.082364              \n",
       "3                                           19.065209              \n",
       "4                                            2.594122              \n",
       "5                                            3.669593              \n",
       "6                                           30.739875              \n",
       "7                                            3.057078              \n",
       "8                                            0.306952              \n",
       "9                                            1.255518              \n",
       "10                                          19.281769              \n",
       "11                                           9.031932              \n",
       "12                                          10.080005              \n",
       "13                                           2.423205              \n",
       "14                                           2.003344              \n",
       "15                                           0.384516              \n",
       "16                                           0.359546              \n",
       "17                                           2.441170              \n",
       "18                                          11.343332              \n",
       "19                                           0.148482              \n",
       "20                                           4.014498              \n",
       "\n",
       "    Child death rates in girls (per 100,000) (deaths per 100,000)  \n",
       "0                                            4.333474              \n",
       "1                                            7.074653              \n",
       "2                                            1.497562              \n",
       "3                                           29.122045              \n",
       "4                                            3.246213              \n",
       "5                                            5.725556              \n",
       "6                                           39.307895              \n",
       "7                                            4.510047              \n",
       "8                                            0.591764              \n",
       "9                                            1.514467              \n",
       "10                                          29.077206              \n",
       "11                                          13.337436              \n",
       "12                                          10.879811              \n",
       "13                                           7.649341              \n",
       "14                                           6.667169              \n",
       "15                                           0.261733              \n",
       "16                                           0.257474              \n",
       "17                                           3.301442              \n",
       "18                                           9.852539              \n",
       "19                                           0.128494              \n",
       "20                                           5.632475              "
      ]
     },
     "execution_count": 120,
     "metadata": {},
     "output_type": "execute_result"
    }
   ],
   "source": [
    "infant_death_india"
   ]
  },
  {
   "cell_type": "code",
   "execution_count": 121,
   "metadata": {},
   "outputs": [],
   "source": [
    "infant_death_india.rename(columns = {\"Child death rates in boys (per 100,000) (deaths per 100,000)\" : \"India infant mortality rates - boys (per 100k)\", \"Child death rates in girls (per 100,000) (deaths per 100,000)\": \"India infant mortality rates - girls (per 100k)\", \"Entity\" : \"Reason\"}, inplace = True)"
   ]
  },
  {
   "cell_type": "code",
   "execution_count": 122,
   "metadata": {},
   "outputs": [
    {
     "data": {
      "text/plain": [
       "Reason                                              object\n",
       "Code                                               float64\n",
       "Year                                                 int64\n",
       "India infant mortality rates - boys (per 100k)     float64\n",
       "India infant mortality rates - girls (per 100k)    float64\n",
       "dtype: object"
      ]
     },
     "execution_count": 122,
     "metadata": {},
     "output_type": "execute_result"
    }
   ],
   "source": [
    "infant_death_india.dtypes"
   ]
  },
  {
   "cell_type": "code",
   "execution_count": 123,
   "metadata": {},
   "outputs": [],
   "source": [
    "infant_death_india[\"Year\"] = pd.to_datetime(infant_death_india[\"Year\"], format = '%Y')"
   ]
  },
  {
   "cell_type": "code",
   "execution_count": 124,
   "metadata": {},
   "outputs": [
    {
     "data": {
      "text/plain": [
       "Reason                                              0\n",
       "Code                                               21\n",
       "Year                                                0\n",
       "India infant mortality rates - boys (per 100k)      0\n",
       "India infant mortality rates - girls (per 100k)     0\n",
       "dtype: int64"
      ]
     },
     "execution_count": 124,
     "metadata": {},
     "output_type": "execute_result"
    }
   ],
   "source": [
    "infant_death_india.isna().sum()"
   ]
  },
  {
   "cell_type": "code",
   "execution_count": 125,
   "metadata": {},
   "outputs": [],
   "source": [
    "infant_death_india.drop(columns = 'Code', inplace = True)"
   ]
  },
  {
   "cell_type": "code",
   "execution_count": 126,
   "metadata": {},
   "outputs": [],
   "source": [
    "infant_death_india[[\"India infant mortality rates - boys (per 100k)\", \"India infant mortality rates - girls (per 100k)\"]] = infant_death_india[[\"India infant mortality rates - boys (per 100k)\", \"India infant mortality rates - girls (per 100k)\"]].round(decimals = 2)"
   ]
  },
  {
   "cell_type": "code",
   "execution_count": 127,
   "metadata": {},
   "outputs": [
    {
     "data": {
      "text/html": [
       "<div>\n",
       "<style scoped>\n",
       "    .dataframe tbody tr th:only-of-type {\n",
       "        vertical-align: middle;\n",
       "    }\n",
       "\n",
       "    .dataframe tbody tr th {\n",
       "        vertical-align: top;\n",
       "    }\n",
       "\n",
       "    .dataframe thead th {\n",
       "        text-align: right;\n",
       "    }\n",
       "</style>\n",
       "<table border=\"1\" class=\"dataframe\">\n",
       "  <thead>\n",
       "    <tr style=\"text-align: right;\">\n",
       "      <th></th>\n",
       "      <th>Reason</th>\n",
       "      <th>Year</th>\n",
       "      <th>India infant mortality rates - boys (per 100k)</th>\n",
       "      <th>India infant mortality rates - girls (per 100k)</th>\n",
       "    </tr>\n",
       "  </thead>\n",
       "  <tbody>\n",
       "    <tr>\n",
       "      <th>0</th>\n",
       "      <td>Acute hepatitis</td>\n",
       "      <td>2017-01-01</td>\n",
       "      <td>2.78</td>\n",
       "      <td>4.33</td>\n",
       "    </tr>\n",
       "    <tr>\n",
       "      <th>1</th>\n",
       "      <td>Birth defects</td>\n",
       "      <td>2017-01-01</td>\n",
       "      <td>5.09</td>\n",
       "      <td>7.07</td>\n",
       "    </tr>\n",
       "    <tr>\n",
       "      <th>2</th>\n",
       "      <td>Chronic respiratory diseases</td>\n",
       "      <td>2017-01-01</td>\n",
       "      <td>1.08</td>\n",
       "      <td>1.50</td>\n",
       "    </tr>\n",
       "    <tr>\n",
       "      <th>3</th>\n",
       "      <td>Diarrheal diseases</td>\n",
       "      <td>2017-01-01</td>\n",
       "      <td>19.07</td>\n",
       "      <td>29.12</td>\n",
       "    </tr>\n",
       "    <tr>\n",
       "      <th>4</th>\n",
       "      <td>Digestive diseases</td>\n",
       "      <td>2017-01-01</td>\n",
       "      <td>2.59</td>\n",
       "      <td>3.25</td>\n",
       "    </tr>\n",
       "    <tr>\n",
       "      <th>5</th>\n",
       "      <td>Encephalitis</td>\n",
       "      <td>2017-01-01</td>\n",
       "      <td>3.67</td>\n",
       "      <td>5.73</td>\n",
       "    </tr>\n",
       "    <tr>\n",
       "      <th>6</th>\n",
       "      <td>Enteric infections</td>\n",
       "      <td>2017-01-01</td>\n",
       "      <td>30.74</td>\n",
       "      <td>39.31</td>\n",
       "    </tr>\n",
       "    <tr>\n",
       "      <th>7</th>\n",
       "      <td>Heart anomalies</td>\n",
       "      <td>2017-01-01</td>\n",
       "      <td>3.06</td>\n",
       "      <td>4.51</td>\n",
       "    </tr>\n",
       "    <tr>\n",
       "      <th>8</th>\n",
       "      <td>Kidney disease</td>\n",
       "      <td>2017-01-01</td>\n",
       "      <td>0.31</td>\n",
       "      <td>0.59</td>\n",
       "    </tr>\n",
       "    <tr>\n",
       "      <th>9</th>\n",
       "      <td>Liver diseases</td>\n",
       "      <td>2017-01-01</td>\n",
       "      <td>1.26</td>\n",
       "      <td>1.51</td>\n",
       "    </tr>\n",
       "    <tr>\n",
       "      <th>10</th>\n",
       "      <td>Lower respiratory infections</td>\n",
       "      <td>2017-01-01</td>\n",
       "      <td>19.28</td>\n",
       "      <td>29.08</td>\n",
       "    </tr>\n",
       "    <tr>\n",
       "      <th>11</th>\n",
       "      <td>Malaria</td>\n",
       "      <td>2017-01-01</td>\n",
       "      <td>9.03</td>\n",
       "      <td>13.34</td>\n",
       "    </tr>\n",
       "    <tr>\n",
       "      <th>12</th>\n",
       "      <td>Measles</td>\n",
       "      <td>2017-01-01</td>\n",
       "      <td>10.08</td>\n",
       "      <td>10.88</td>\n",
       "    </tr>\n",
       "    <tr>\n",
       "      <th>13</th>\n",
       "      <td>Nutritional deficiencies</td>\n",
       "      <td>2017-01-01</td>\n",
       "      <td>2.42</td>\n",
       "      <td>7.65</td>\n",
       "    </tr>\n",
       "    <tr>\n",
       "      <th>14</th>\n",
       "      <td>Protein-energy malnutrition</td>\n",
       "      <td>2017-01-01</td>\n",
       "      <td>2.00</td>\n",
       "      <td>6.67</td>\n",
       "    </tr>\n",
       "    <tr>\n",
       "      <th>15</th>\n",
       "      <td>Syphilis</td>\n",
       "      <td>2017-01-01</td>\n",
       "      <td>0.38</td>\n",
       "      <td>0.26</td>\n",
       "    </tr>\n",
       "    <tr>\n",
       "      <th>16</th>\n",
       "      <td>Tetanus</td>\n",
       "      <td>2017-01-01</td>\n",
       "      <td>0.36</td>\n",
       "      <td>0.26</td>\n",
       "    </tr>\n",
       "    <tr>\n",
       "      <th>17</th>\n",
       "      <td>Tuberculosis</td>\n",
       "      <td>2017-01-01</td>\n",
       "      <td>2.44</td>\n",
       "      <td>3.30</td>\n",
       "    </tr>\n",
       "    <tr>\n",
       "      <th>18</th>\n",
       "      <td>Typhoid</td>\n",
       "      <td>2017-01-01</td>\n",
       "      <td>11.34</td>\n",
       "      <td>9.85</td>\n",
       "    </tr>\n",
       "    <tr>\n",
       "      <th>19</th>\n",
       "      <td>Upper respiratory infections</td>\n",
       "      <td>2017-01-01</td>\n",
       "      <td>0.15</td>\n",
       "      <td>0.13</td>\n",
       "    </tr>\n",
       "    <tr>\n",
       "      <th>20</th>\n",
       "      <td>Whooping cough</td>\n",
       "      <td>2017-01-01</td>\n",
       "      <td>4.01</td>\n",
       "      <td>5.63</td>\n",
       "    </tr>\n",
       "  </tbody>\n",
       "</table>\n",
       "</div>"
      ],
      "text/plain": [
       "                          Reason       Year  \\\n",
       "0                Acute hepatitis 2017-01-01   \n",
       "1                  Birth defects 2017-01-01   \n",
       "2   Chronic respiratory diseases 2017-01-01   \n",
       "3             Diarrheal diseases 2017-01-01   \n",
       "4             Digestive diseases 2017-01-01   \n",
       "5                   Encephalitis 2017-01-01   \n",
       "6             Enteric infections 2017-01-01   \n",
       "7                Heart anomalies 2017-01-01   \n",
       "8                 Kidney disease 2017-01-01   \n",
       "9                 Liver diseases 2017-01-01   \n",
       "10  Lower respiratory infections 2017-01-01   \n",
       "11                       Malaria 2017-01-01   \n",
       "12                       Measles 2017-01-01   \n",
       "13      Nutritional deficiencies 2017-01-01   \n",
       "14   Protein-energy malnutrition 2017-01-01   \n",
       "15                      Syphilis 2017-01-01   \n",
       "16                       Tetanus 2017-01-01   \n",
       "17                  Tuberculosis 2017-01-01   \n",
       "18                       Typhoid 2017-01-01   \n",
       "19  Upper respiratory infections 2017-01-01   \n",
       "20                Whooping cough 2017-01-01   \n",
       "\n",
       "    India infant mortality rates - boys (per 100k)  \\\n",
       "0                                             2.78   \n",
       "1                                             5.09   \n",
       "2                                             1.08   \n",
       "3                                            19.07   \n",
       "4                                             2.59   \n",
       "5                                             3.67   \n",
       "6                                            30.74   \n",
       "7                                             3.06   \n",
       "8                                             0.31   \n",
       "9                                             1.26   \n",
       "10                                           19.28   \n",
       "11                                            9.03   \n",
       "12                                           10.08   \n",
       "13                                            2.42   \n",
       "14                                            2.00   \n",
       "15                                            0.38   \n",
       "16                                            0.36   \n",
       "17                                            2.44   \n",
       "18                                           11.34   \n",
       "19                                            0.15   \n",
       "20                                            4.01   \n",
       "\n",
       "    India infant mortality rates - girls (per 100k)  \n",
       "0                                              4.33  \n",
       "1                                              7.07  \n",
       "2                                              1.50  \n",
       "3                                             29.12  \n",
       "4                                              3.25  \n",
       "5                                              5.73  \n",
       "6                                             39.31  \n",
       "7                                              4.51  \n",
       "8                                              0.59  \n",
       "9                                              1.51  \n",
       "10                                            29.08  \n",
       "11                                            13.34  \n",
       "12                                            10.88  \n",
       "13                                             7.65  \n",
       "14                                             6.67  \n",
       "15                                             0.26  \n",
       "16                                             0.26  \n",
       "17                                             3.30  \n",
       "18                                             9.85  \n",
       "19                                             0.13  \n",
       "20                                             5.63  "
      ]
     },
     "execution_count": 127,
     "metadata": {},
     "output_type": "execute_result"
    }
   ],
   "source": [
    "infant_death_india"
   ]
  },
  {
   "cell_type": "code",
   "execution_count": 128,
   "metadata": {},
   "outputs": [],
   "source": [
    "infant_death_india.to_csv(\"../data/infant-death-cause-india.csv\", index = False)"
   ]
  },
  {
   "cell_type": "markdown",
   "metadata": {},
   "source": [
    "## Sex ratio by birth Chao et al\n",
    "\n",
    "#### data from 1950"
   ]
  },
  {
   "cell_type": "code",
   "execution_count": 129,
   "metadata": {},
   "outputs": [],
   "source": [
    "chao = pd.read_csv(\"../data/original_data/sex-ratio-at-birth-males-chao-et-al.csv\")"
   ]
  },
  {
   "cell_type": "code",
   "execution_count": 130,
   "metadata": {},
   "outputs": [
    {
     "data": {
      "text/html": [
       "<div>\n",
       "<style scoped>\n",
       "    .dataframe tbody tr th:only-of-type {\n",
       "        vertical-align: middle;\n",
       "    }\n",
       "\n",
       "    .dataframe tbody tr th {\n",
       "        vertical-align: top;\n",
       "    }\n",
       "\n",
       "    .dataframe thead th {\n",
       "        text-align: right;\n",
       "    }\n",
       "</style>\n",
       "<table border=\"1\" class=\"dataframe\">\n",
       "  <thead>\n",
       "    <tr style=\"text-align: right;\">\n",
       "      <th></th>\n",
       "      <th>Entity</th>\n",
       "      <th>Code</th>\n",
       "      <th>Year</th>\n",
       "      <th>Sex ratio at birth (male births per 100 female births)</th>\n",
       "    </tr>\n",
       "  </thead>\n",
       "  <tbody>\n",
       "    <tr>\n",
       "      <th>0</th>\n",
       "      <td>Afghanistan</td>\n",
       "      <td>AFG</td>\n",
       "      <td>1950</td>\n",
       "      <td>105.188944</td>\n",
       "    </tr>\n",
       "    <tr>\n",
       "      <th>1</th>\n",
       "      <td>Afghanistan</td>\n",
       "      <td>AFG</td>\n",
       "      <td>1951</td>\n",
       "      <td>105.193156</td>\n",
       "    </tr>\n",
       "    <tr>\n",
       "      <th>2</th>\n",
       "      <td>Afghanistan</td>\n",
       "      <td>AFG</td>\n",
       "      <td>1952</td>\n",
       "      <td>105.184021</td>\n",
       "    </tr>\n",
       "    <tr>\n",
       "      <th>3</th>\n",
       "      <td>Afghanistan</td>\n",
       "      <td>AFG</td>\n",
       "      <td>1953</td>\n",
       "      <td>105.181066</td>\n",
       "    </tr>\n",
       "    <tr>\n",
       "      <th>4</th>\n",
       "      <td>Afghanistan</td>\n",
       "      <td>AFG</td>\n",
       "      <td>1954</td>\n",
       "      <td>105.192903</td>\n",
       "    </tr>\n",
       "  </tbody>\n",
       "</table>\n",
       "</div>"
      ],
      "text/plain": [
       "        Entity Code  Year  \\\n",
       "0  Afghanistan  AFG  1950   \n",
       "1  Afghanistan  AFG  1951   \n",
       "2  Afghanistan  AFG  1952   \n",
       "3  Afghanistan  AFG  1953   \n",
       "4  Afghanistan  AFG  1954   \n",
       "\n",
       "   Sex ratio at birth (male births per 100 female births)  \n",
       "0                                         105.188944       \n",
       "1                                         105.193156       \n",
       "2                                         105.184021       \n",
       "3                                         105.181066       \n",
       "4                                         105.192903       "
      ]
     },
     "execution_count": 130,
     "metadata": {},
     "output_type": "execute_result"
    }
   ],
   "source": [
    "chao.head()"
   ]
  },
  {
   "cell_type": "code",
   "execution_count": 131,
   "metadata": {},
   "outputs": [
    {
     "data": {
      "text/plain": [
       "Entity                                                     0\n",
       "Code                                                      68\n",
       "Year                                                       0\n",
       "Sex ratio at birth (male births per 100 female births)     0\n",
       "dtype: int64"
      ]
     },
     "execution_count": 131,
     "metadata": {},
     "output_type": "execute_result"
    }
   ],
   "source": [
    "chao.isna().sum()"
   ]
  },
  {
   "cell_type": "code",
   "execution_count": 132,
   "metadata": {},
   "outputs": [
    {
     "data": {
      "text/plain": [
       "1950    212\n",
       "1951    212\n",
       "1952    212\n",
       "1953    212\n",
       "1954    212\n",
       "       ... \n",
       "2013    212\n",
       "2014    212\n",
       "2015    212\n",
       "2016    212\n",
       "2017    212\n",
       "Name: Year, Length: 68, dtype: int64"
      ]
     },
     "execution_count": 132,
     "metadata": {},
     "output_type": "execute_result"
    }
   ],
   "source": [
    "chao[\"Year\"].value_counts().sort_index()"
   ]
  },
  {
   "cell_type": "code",
   "execution_count": 133,
   "metadata": {},
   "outputs": [
    {
     "data": {
      "text/plain": [
       "Czech Republic    68\n",
       "Panama            68\n",
       "Germany           68\n",
       "Kuwait            68\n",
       "Kenya             68\n",
       "                  ..\n",
       "Rwanda            68\n",
       "Mayotte           68\n",
       "Belize            68\n",
       "Italy             68\n",
       "Guinea-Bissau     68\n",
       "Name: Entity, Length: 212, dtype: int64"
      ]
     },
     "execution_count": 133,
     "metadata": {},
     "output_type": "execute_result"
    }
   ],
   "source": [
    "chao[\"Entity\"].value_counts()"
   ]
  },
  {
   "cell_type": "code",
   "execution_count": 134,
   "metadata": {},
   "outputs": [],
   "source": [
    "chao.rename(columns = {\"Entity\" : \"Country\", \"Sex ratio at birth (male births per 100 female births)\" : \"Sex ratio at birth\"}, inplace = True)"
   ]
  },
  {
   "cell_type": "code",
   "execution_count": 135,
   "metadata": {},
   "outputs": [],
   "source": [
    "chao = chao[chao[\"Country\"].isin(country_names)]"
   ]
  },
  {
   "cell_type": "code",
   "execution_count": 136,
   "metadata": {},
   "outputs": [
    {
     "data": {
      "text/html": [
       "<div>\n",
       "<style scoped>\n",
       "    .dataframe tbody tr th:only-of-type {\n",
       "        vertical-align: middle;\n",
       "    }\n",
       "\n",
       "    .dataframe tbody tr th {\n",
       "        vertical-align: top;\n",
       "    }\n",
       "\n",
       "    .dataframe thead th {\n",
       "        text-align: right;\n",
       "    }\n",
       "</style>\n",
       "<table border=\"1\" class=\"dataframe\">\n",
       "  <thead>\n",
       "    <tr style=\"text-align: right;\">\n",
       "      <th></th>\n",
       "      <th>Country</th>\n",
       "      <th>Code</th>\n",
       "      <th>Year</th>\n",
       "      <th>Sex ratio at birth</th>\n",
       "    </tr>\n",
       "  </thead>\n",
       "  <tbody>\n",
       "    <tr>\n",
       "      <th>0</th>\n",
       "      <td>Afghanistan</td>\n",
       "      <td>AFG</td>\n",
       "      <td>1950</td>\n",
       "      <td>105.188944</td>\n",
       "    </tr>\n",
       "    <tr>\n",
       "      <th>1</th>\n",
       "      <td>Afghanistan</td>\n",
       "      <td>AFG</td>\n",
       "      <td>1951</td>\n",
       "      <td>105.193156</td>\n",
       "    </tr>\n",
       "    <tr>\n",
       "      <th>2</th>\n",
       "      <td>Afghanistan</td>\n",
       "      <td>AFG</td>\n",
       "      <td>1952</td>\n",
       "      <td>105.184021</td>\n",
       "    </tr>\n",
       "    <tr>\n",
       "      <th>3</th>\n",
       "      <td>Afghanistan</td>\n",
       "      <td>AFG</td>\n",
       "      <td>1953</td>\n",
       "      <td>105.181066</td>\n",
       "    </tr>\n",
       "    <tr>\n",
       "      <th>4</th>\n",
       "      <td>Afghanistan</td>\n",
       "      <td>AFG</td>\n",
       "      <td>1954</td>\n",
       "      <td>105.192903</td>\n",
       "    </tr>\n",
       "  </tbody>\n",
       "</table>\n",
       "</div>"
      ],
      "text/plain": [
       "       Country Code  Year  Sex ratio at birth\n",
       "0  Afghanistan  AFG  1950          105.188944\n",
       "1  Afghanistan  AFG  1951          105.193156\n",
       "2  Afghanistan  AFG  1952          105.184021\n",
       "3  Afghanistan  AFG  1953          105.181066\n",
       "4  Afghanistan  AFG  1954          105.192903"
      ]
     },
     "execution_count": 136,
     "metadata": {},
     "output_type": "execute_result"
    }
   ],
   "source": [
    "chao.head()"
   ]
  },
  {
   "cell_type": "code",
   "execution_count": 137,
   "metadata": {},
   "outputs": [],
   "source": [
    "chao[\"Year\"] = pd.to_datetime(chao[\"Year\"], format = '%Y')"
   ]
  },
  {
   "cell_type": "code",
   "execution_count": 138,
   "metadata": {},
   "outputs": [],
   "source": [
    "chao['Sex ratio at birth'] = chao['Sex ratio at birth'].round(decimals = 2)"
   ]
  },
  {
   "cell_type": "code",
   "execution_count": 139,
   "metadata": {},
   "outputs": [
    {
     "data": {
      "text/html": [
       "<div>\n",
       "<style scoped>\n",
       "    .dataframe tbody tr th:only-of-type {\n",
       "        vertical-align: middle;\n",
       "    }\n",
       "\n",
       "    .dataframe tbody tr th {\n",
       "        vertical-align: top;\n",
       "    }\n",
       "\n",
       "    .dataframe thead th {\n",
       "        text-align: right;\n",
       "    }\n",
       "</style>\n",
       "<table border=\"1\" class=\"dataframe\">\n",
       "  <thead>\n",
       "    <tr style=\"text-align: right;\">\n",
       "      <th></th>\n",
       "      <th>Country</th>\n",
       "      <th>Code</th>\n",
       "      <th>Year</th>\n",
       "      <th>Sex ratio at birth</th>\n",
       "    </tr>\n",
       "  </thead>\n",
       "  <tbody>\n",
       "    <tr>\n",
       "      <th>0</th>\n",
       "      <td>Afghanistan</td>\n",
       "      <td>AFG</td>\n",
       "      <td>1950-01-01</td>\n",
       "      <td>105.19</td>\n",
       "    </tr>\n",
       "    <tr>\n",
       "      <th>1</th>\n",
       "      <td>Afghanistan</td>\n",
       "      <td>AFG</td>\n",
       "      <td>1951-01-01</td>\n",
       "      <td>105.19</td>\n",
       "    </tr>\n",
       "    <tr>\n",
       "      <th>2</th>\n",
       "      <td>Afghanistan</td>\n",
       "      <td>AFG</td>\n",
       "      <td>1952-01-01</td>\n",
       "      <td>105.18</td>\n",
       "    </tr>\n",
       "    <tr>\n",
       "      <th>3</th>\n",
       "      <td>Afghanistan</td>\n",
       "      <td>AFG</td>\n",
       "      <td>1953-01-01</td>\n",
       "      <td>105.18</td>\n",
       "    </tr>\n",
       "    <tr>\n",
       "      <th>4</th>\n",
       "      <td>Afghanistan</td>\n",
       "      <td>AFG</td>\n",
       "      <td>1954-01-01</td>\n",
       "      <td>105.19</td>\n",
       "    </tr>\n",
       "  </tbody>\n",
       "</table>\n",
       "</div>"
      ],
      "text/plain": [
       "       Country Code       Year  Sex ratio at birth\n",
       "0  Afghanistan  AFG 1950-01-01              105.19\n",
       "1  Afghanistan  AFG 1951-01-01              105.19\n",
       "2  Afghanistan  AFG 1952-01-01              105.18\n",
       "3  Afghanistan  AFG 1953-01-01              105.18\n",
       "4  Afghanistan  AFG 1954-01-01              105.19"
      ]
     },
     "execution_count": 139,
     "metadata": {},
     "output_type": "execute_result"
    }
   ],
   "source": [
    "chao.head()"
   ]
  },
  {
   "cell_type": "code",
   "execution_count": 140,
   "metadata": {},
   "outputs": [],
   "source": [
    "chao.to_csv(\"../data/sex-ratio-at-birth-chao.csv\", index = False)"
   ]
  },
  {
   "cell_type": "code",
   "execution_count": null,
   "metadata": {},
   "outputs": [],
   "source": []
  }
 ],
 "metadata": {
  "kernelspec": {
   "display_name": "Python 3",
   "language": "python",
   "name": "python3"
  },
  "language_info": {
   "codemirror_mode": {
    "name": "ipython",
    "version": 3
   },
   "file_extension": ".py",
   "mimetype": "text/x-python",
   "name": "python",
   "nbconvert_exporter": "python",
   "pygments_lexer": "ipython3",
   "version": "3.8.2"
  }
 },
 "nbformat": 4,
 "nbformat_minor": 4
}
